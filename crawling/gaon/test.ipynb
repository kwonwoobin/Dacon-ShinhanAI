{
 "cells": [
  {
   "attachments": {},
   "cell_type": "markdown",
   "metadata": {},
   "source": [
    "뷰티풀숩으로 찾아보기"
   ]
  },
  {
   "cell_type": "code",
   "execution_count": 75,
   "metadata": {},
   "outputs": [
    {
     "data": {
      "text/plain": [
       "[]"
      ]
     },
     "execution_count": 75,
     "metadata": {},
     "output_type": "execute_result"
    }
   ],
   "source": [
    "import requests\n",
    "from bs4 import BeautifulSoup\n",
    "URL = 'https://circlechart.kr/page_chart/onoff.circle?serviceGbn=ALL'\n",
    "res = requests.get(URL)\n",
    "res.status_code\n",
    "soup = BeautifulSoup(res.text, 'html.parser')\n",
    "\n",
    "\n",
    "\n",
    "soup.select('#pc_chart_tbody > tr:nth-child(1) > td:nth-child(3) > div > section:nth-child(2) > div > div.font-bold.mb-2')"
   ]
  },
  {
   "attachments": {},
   "cell_type": "markdown",
   "metadata": {},
   "source": [
    "# 날짜 딕셔너리 만들기"
   ]
  },
  {
   "cell_type": "code",
   "execution_count": 24,
   "metadata": {},
   "outputs": [],
   "source": [
    "import requests\n",
    "from bs4 import BeautifulSoup\n",
    "\n",
    "url = 'https://circlechart.kr/page_chart/onoff.circle?nationGbn=T&serviceGbn=ALL&'\n",
    "# 주차별 날짜 리스트 뽑기\n",
    "res = requests.get(url)\n",
    "soup = BeautifulSoup(res.text, 'html.parser')"
   ]
  },
  {
   "cell_type": "code",
   "execution_count": 3,
   "metadata": {},
   "outputs": [],
   "source": [
    "\n",
    "results = soup.select_one('body > div > main.hidden.md\\:block > div > div > aside.mt-14.text-\\[12px\\] > section > div.float-right > label > select')\n",
    "week_date_list = results.text.split('\\n')"
   ]
  },
  {
   "cell_type": "code",
   "execution_count": 4,
   "metadata": {},
   "outputs": [
    {
     "data": {
      "text/plain": [
       "697"
      ]
     },
     "execution_count": 4,
     "metadata": {},
     "output_type": "execute_result"
    }
   ],
   "source": [
    "len(week_date_list)"
   ]
  },
  {
   "cell_type": "code",
   "execution_count": 15,
   "metadata": {},
   "outputs": [
    {
     "data": {
      "text/plain": [
       "'201001'"
      ]
     },
     "execution_count": 15,
     "metadata": {},
     "output_type": "execute_result"
    }
   ],
   "source": [
    "week_key = soup.select_one('body > div > main.hidden.md\\:block > div > div > aside.mt-14.text-\\[12px\\] > section > div.float-right > label > select > option:nth-child({0})'.format(695))\n",
    "week_key = week_key.attrs['value']\n",
    "week_key"
   ]
  },
  {
   "cell_type": "code",
   "execution_count": 17,
   "metadata": {},
   "outputs": [
    {
     "data": {
      "text/plain": [
       "697"
      ]
     },
     "execution_count": 17,
     "metadata": {},
     "output_type": "execute_result"
    }
   ],
   "source": [
    "len(week_date_list)"
   ]
  },
  {
   "cell_type": "code",
   "execution_count": 19,
   "metadata": {},
   "outputs": [],
   "source": [
    "date_dict = {}\n",
    "for i in range(2,5):\n",
    "    week_key = soup.select_one('body > div > main.hidden.md\\:block > div > div > aside.mt-14.text-\\[12px\\] > section > div.float-right > label > select > option:nth-child({0})'.format(i))\n",
    "    week_key = week_key.attrs['value']\n",
    "    date_dict[week_key] = week_date_list[i]"
   ]
  },
  {
   "cell_type": "code",
   "execution_count": 20,
   "metadata": {},
   "outputs": [
    {
     "data": {
      "text/plain": [
       "{'202315': '2023.04.09~2023.04.15',\n",
       " '202314': '2023.04.02~2023.04.08',\n",
       " '202313': '2023.03.26~2023.04.01'}"
      ]
     },
     "execution_count": 20,
     "metadata": {},
     "output_type": "execute_result"
    }
   ],
   "source": [
    "date_dict"
   ]
  },
  {
   "cell_type": "code",
   "execution_count": 23,
   "metadata": {},
   "outputs": [],
   "source": [
    "soup.select_one('#pc_chart_tbody > tr:nth-child(1) > td.text-left.text-xs > div:nth-child(1) > span')"
   ]
  },
  {
   "cell_type": "code",
   "execution_count": 2,
   "metadata": {},
   "outputs": [
    {
     "name": "stdout",
     "output_type": "stream",
     "text": [
      "i:2현재 딕셔너리: {'202315': '2023.04.09~2023.04.15'}\n",
      "i:3현재 딕셔너리: {'202315': '2023.04.09~2023.04.15', '202314': '2023.04.02~2023.04.08'}\n",
      "i:4현재 딕셔너리: {'202315': '2023.04.09~2023.04.15', '202314': '2023.04.02~2023.04.08', '202313': '2023.03.26~2023.04.01'}\n",
      "i:5현재 딕셔너리: {'202315': '2023.04.09~2023.04.15', '202314': '2023.04.02~2023.04.08', '202313': '2023.03.26~2023.04.01', '202312': '2023.03.19~2023.03.25'}\n",
      "i:6현재 딕셔너리: {'202315': '2023.04.09~2023.04.15', '202314': '2023.04.02~2023.04.08', '202313': '2023.03.26~2023.04.01', '202312': '2023.03.19~2023.03.25', '202311': '2023.03.12~2023.03.18'}\n",
      "i:7현재 딕셔너리: {'202315': '2023.04.09~2023.04.15', '202314': '2023.04.02~2023.04.08', '202313': '2023.03.26~2023.04.01', '202312': '2023.03.19~2023.03.25', '202311': '2023.03.12~2023.03.18', '202310': '2023.03.05~2023.03.11'}\n",
      "i:8현재 딕셔너리: {'202315': '2023.04.09~2023.04.15', '202314': '2023.04.02~2023.04.08', '202313': '2023.03.26~2023.04.01', '202312': '2023.03.19~2023.03.25', '202311': '2023.03.12~2023.03.18', '202310': '2023.03.05~2023.03.11', '202309': '2023.02.26~2023.03.04'}\n",
      "i:9현재 딕셔너리: {'202315': '2023.04.09~2023.04.15', '202314': '2023.04.02~2023.04.08', '202313': '2023.03.26~2023.04.01', '202312': '2023.03.19~2023.03.25', '202311': '2023.03.12~2023.03.18', '202310': '2023.03.05~2023.03.11', '202309': '2023.02.26~2023.03.04', '202308': '2023.02.19~2023.02.25'}\n",
      "i:10현재 딕셔너리: {'202315': '2023.04.09~2023.04.15', '202314': '2023.04.02~2023.04.08', '202313': '2023.03.26~2023.04.01', '202312': '2023.03.19~2023.03.25', '202311': '2023.03.12~2023.03.18', '202310': '2023.03.05~2023.03.11', '202309': '2023.02.26~2023.03.04', '202308': '2023.02.19~2023.02.25', '202307': '2023.02.12~2023.02.18'}\n",
      "i:11현재 딕셔너리: {'202315': '2023.04.09~2023.04.15', '202314': '2023.04.02~2023.04.08', '202313': '2023.03.26~2023.04.01', '202312': '2023.03.19~2023.03.25', '202311': '2023.03.12~2023.03.18', '202310': '2023.03.05~2023.03.11', '202309': '2023.02.26~2023.03.04', '202308': '2023.02.19~2023.02.25', '202307': '2023.02.12~2023.02.18', '202306': '2023.02.05~2023.02.11'}\n",
      "i:12현재 딕셔너리: {'202315': '2023.04.09~2023.04.15', '202314': '2023.04.02~2023.04.08', '202313': '2023.03.26~2023.04.01', '202312': '2023.03.19~2023.03.25', '202311': '2023.03.12~2023.03.18', '202310': '2023.03.05~2023.03.11', '202309': '2023.02.26~2023.03.04', '202308': '2023.02.19~2023.02.25', '202307': '2023.02.12~2023.02.18', '202306': '2023.02.05~2023.02.11', '202305': '2023.01.29~2023.02.04'}\n",
      "i:13현재 딕셔너리: {'202315': '2023.04.09~2023.04.15', '202314': '2023.04.02~2023.04.08', '202313': '2023.03.26~2023.04.01', '202312': '2023.03.19~2023.03.25', '202311': '2023.03.12~2023.03.18', '202310': '2023.03.05~2023.03.11', '202309': '2023.02.26~2023.03.04', '202308': '2023.02.19~2023.02.25', '202307': '2023.02.12~2023.02.18', '202306': '2023.02.05~2023.02.11', '202305': '2023.01.29~2023.02.04', '202304': '2023.01.22~2023.01.28'}\n",
      "i:14현재 딕셔너리: {'202315': '2023.04.09~2023.04.15', '202314': '2023.04.02~2023.04.08', '202313': '2023.03.26~2023.04.01', '202312': '2023.03.19~2023.03.25', '202311': '2023.03.12~2023.03.18', '202310': '2023.03.05~2023.03.11', '202309': '2023.02.26~2023.03.04', '202308': '2023.02.19~2023.02.25', '202307': '2023.02.12~2023.02.18', '202306': '2023.02.05~2023.02.11', '202305': '2023.01.29~2023.02.04', '202304': '2023.01.22~2023.01.28', '202303': '2023.01.15~2023.01.21'}\n",
      "i:15현재 딕셔너리: {'202315': '2023.04.09~2023.04.15', '202314': '2023.04.02~2023.04.08', '202313': '2023.03.26~2023.04.01', '202312': '2023.03.19~2023.03.25', '202311': '2023.03.12~2023.03.18', '202310': '2023.03.05~2023.03.11', '202309': '2023.02.26~2023.03.04', '202308': '2023.02.19~2023.02.25', '202307': '2023.02.12~2023.02.18', '202306': '2023.02.05~2023.02.11', '202305': '2023.01.29~2023.02.04', '202304': '2023.01.22~2023.01.28', '202303': '2023.01.15~2023.01.21', '202302': '2023.01.08~2023.01.14'}\n",
      "i:16현재 딕셔너리: {'202315': '2023.04.09~2023.04.15', '202314': '2023.04.02~2023.04.08', '202313': '2023.03.26~2023.04.01', '202312': '2023.03.19~2023.03.25', '202311': '2023.03.12~2023.03.18', '202310': '2023.03.05~2023.03.11', '202309': '2023.02.26~2023.03.04', '202308': '2023.02.19~2023.02.25', '202307': '2023.02.12~2023.02.18', '202306': '2023.02.05~2023.02.11', '202305': '2023.01.29~2023.02.04', '202304': '2023.01.22~2023.01.28', '202303': '2023.01.15~2023.01.21', '202302': '2023.01.08~2023.01.14', '202301': '2023.01.01~2023.01.07'}\n",
      "i:17현재 딕셔너리: {'202315': '2023.04.09~2023.04.15', '202314': '2023.04.02~2023.04.08', '202313': '2023.03.26~2023.04.01', '202312': '2023.03.19~2023.03.25', '202311': '2023.03.12~2023.03.18', '202310': '2023.03.05~2023.03.11', '202309': '2023.02.26~2023.03.04', '202308': '2023.02.19~2023.02.25', '202307': '2023.02.12~2023.02.18', '202306': '2023.02.05~2023.02.11', '202305': '2023.01.29~2023.02.04', '202304': '2023.01.22~2023.01.28', '202303': '2023.01.15~2023.01.21', '202302': '2023.01.08~2023.01.14', '202301': '2023.01.01~2023.01.07', '202253': '2022.12.25~2022.12.31'}\n",
      "i:18현재 딕셔너리: {'202315': '2023.04.09~2023.04.15', '202314': '2023.04.02~2023.04.08', '202313': '2023.03.26~2023.04.01', '202312': '2023.03.19~2023.03.25', '202311': '2023.03.12~2023.03.18', '202310': '2023.03.05~2023.03.11', '202309': '2023.02.26~2023.03.04', '202308': '2023.02.19~2023.02.25', '202307': '2023.02.12~2023.02.18', '202306': '2023.02.05~2023.02.11', '202305': '2023.01.29~2023.02.04', '202304': '2023.01.22~2023.01.28', '202303': '2023.01.15~2023.01.21', '202302': '2023.01.08~2023.01.14', '202301': '2023.01.01~2023.01.07', '202253': '2022.12.25~2022.12.31', '202252': '2022.12.18~2022.12.24'}\n",
      "i:19현재 딕셔너리: {'202315': '2023.04.09~2023.04.15', '202314': '2023.04.02~2023.04.08', '202313': '2023.03.26~2023.04.01', '202312': '2023.03.19~2023.03.25', '202311': '2023.03.12~2023.03.18', '202310': '2023.03.05~2023.03.11', '202309': '2023.02.26~2023.03.04', '202308': '2023.02.19~2023.02.25', '202307': '2023.02.12~2023.02.18', '202306': '2023.02.05~2023.02.11', '202305': '2023.01.29~2023.02.04', '202304': '2023.01.22~2023.01.28', '202303': '2023.01.15~2023.01.21', '202302': '2023.01.08~2023.01.14', '202301': '2023.01.01~2023.01.07', '202253': '2022.12.25~2022.12.31', '202252': '2022.12.18~2022.12.24', '202251': '2022.12.11~2022.12.17'}\n",
      "i:20현재 딕셔너리: {'202315': '2023.04.09~2023.04.15', '202314': '2023.04.02~2023.04.08', '202313': '2023.03.26~2023.04.01', '202312': '2023.03.19~2023.03.25', '202311': '2023.03.12~2023.03.18', '202310': '2023.03.05~2023.03.11', '202309': '2023.02.26~2023.03.04', '202308': '2023.02.19~2023.02.25', '202307': '2023.02.12~2023.02.18', '202306': '2023.02.05~2023.02.11', '202305': '2023.01.29~2023.02.04', '202304': '2023.01.22~2023.01.28', '202303': '2023.01.15~2023.01.21', '202302': '2023.01.08~2023.01.14', '202301': '2023.01.01~2023.01.07', '202253': '2022.12.25~2022.12.31', '202252': '2022.12.18~2022.12.24', '202251': '2022.12.11~2022.12.17', '202250': '2022.12.04~2022.12.10'}\n",
      "i:21현재 딕셔너리: {'202315': '2023.04.09~2023.04.15', '202314': '2023.04.02~2023.04.08', '202313': '2023.03.26~2023.04.01', '202312': '2023.03.19~2023.03.25', '202311': '2023.03.12~2023.03.18', '202310': '2023.03.05~2023.03.11', '202309': '2023.02.26~2023.03.04', '202308': '2023.02.19~2023.02.25', '202307': '2023.02.12~2023.02.18', '202306': '2023.02.05~2023.02.11', '202305': '2023.01.29~2023.02.04', '202304': '2023.01.22~2023.01.28', '202303': '2023.01.15~2023.01.21', '202302': '2023.01.08~2023.01.14', '202301': '2023.01.01~2023.01.07', '202253': '2022.12.25~2022.12.31', '202252': '2022.12.18~2022.12.24', '202251': '2022.12.11~2022.12.17', '202250': '2022.12.04~2022.12.10', '202249': '2022.11.27~2022.12.03'}\n",
      "i:22현재 딕셔너리: {'202315': '2023.04.09~2023.04.15', '202314': '2023.04.02~2023.04.08', '202313': '2023.03.26~2023.04.01', '202312': '2023.03.19~2023.03.25', '202311': '2023.03.12~2023.03.18', '202310': '2023.03.05~2023.03.11', '202309': '2023.02.26~2023.03.04', '202308': '2023.02.19~2023.02.25', '202307': '2023.02.12~2023.02.18', '202306': '2023.02.05~2023.02.11', '202305': '2023.01.29~2023.02.04', '202304': '2023.01.22~2023.01.28', '202303': '2023.01.15~2023.01.21', '202302': '2023.01.08~2023.01.14', '202301': '2023.01.01~2023.01.07', '202253': '2022.12.25~2022.12.31', '202252': '2022.12.18~2022.12.24', '202251': '2022.12.11~2022.12.17', '202250': '2022.12.04~2022.12.10', '202249': '2022.11.27~2022.12.03', '202248': '2022.11.20~2022.11.26'}\n",
      "i:23현재 딕셔너리: {'202315': '2023.04.09~2023.04.15', '202314': '2023.04.02~2023.04.08', '202313': '2023.03.26~2023.04.01', '202312': '2023.03.19~2023.03.25', '202311': '2023.03.12~2023.03.18', '202310': '2023.03.05~2023.03.11', '202309': '2023.02.26~2023.03.04', '202308': '2023.02.19~2023.02.25', '202307': '2023.02.12~2023.02.18', '202306': '2023.02.05~2023.02.11', '202305': '2023.01.29~2023.02.04', '202304': '2023.01.22~2023.01.28', '202303': '2023.01.15~2023.01.21', '202302': '2023.01.08~2023.01.14', '202301': '2023.01.01~2023.01.07', '202253': '2022.12.25~2022.12.31', '202252': '2022.12.18~2022.12.24', '202251': '2022.12.11~2022.12.17', '202250': '2022.12.04~2022.12.10', '202249': '2022.11.27~2022.12.03', '202248': '2022.11.20~2022.11.26', '202247': '2022.11.13~2022.11.19'}\n"
     ]
    },
    {
     "ename": "KeyboardInterrupt",
     "evalue": "",
     "output_type": "error",
     "traceback": [
      "\u001b[1;31m---------------------------------------------------------------------------\u001b[0m",
      "\u001b[1;31mKeyboardInterrupt\u001b[0m                         Traceback (most recent call last)",
      "Cell \u001b[1;32mIn[2], line 13\u001b[0m\n\u001b[0;32m     11\u001b[0m date_dict \u001b[39m=\u001b[39m {}\n\u001b[0;32m     12\u001b[0m \u001b[39mfor\u001b[39;00m i \u001b[39min\u001b[39;00m \u001b[39mrange\u001b[39m(\u001b[39m2\u001b[39m,\u001b[39mlen\u001b[39m(week_date_list)):\n\u001b[1;32m---> 13\u001b[0m     week_key \u001b[39m=\u001b[39m soup\u001b[39m.\u001b[39;49mselect_one(\u001b[39m'\u001b[39;49m\u001b[39mbody > div > main.hidden.md\u001b[39;49m\u001b[39m\\\u001b[39;49m\u001b[39m:block > div > div > aside.mt-14.text-\u001b[39;49m\u001b[39m\\\u001b[39;49m\u001b[39m[12px\u001b[39;49m\u001b[39m\\\u001b[39;49m\u001b[39m] > section > div.float-right > label > select > option:nth-child(\u001b[39;49m\u001b[39m{0}\u001b[39;49;00m\u001b[39m)\u001b[39;49m\u001b[39m'\u001b[39;49m\u001b[39m.\u001b[39;49mformat(i))\n\u001b[0;32m     14\u001b[0m     week_key \u001b[39m=\u001b[39m week_key\u001b[39m.\u001b[39mattrs[\u001b[39m'\u001b[39m\u001b[39mvalue\u001b[39m\u001b[39m'\u001b[39m]\n\u001b[0;32m     15\u001b[0m     date_dict[week_key] \u001b[39m=\u001b[39m week_date_list[i]\n",
      "File \u001b[1;32mc:\\Users\\bin\\anaconda3\\envs\\shinhanAI\\Lib\\site-packages\\bs4\\element.py:2089\u001b[0m, in \u001b[0;36mTag.select_one\u001b[1;34m(self, selector, namespaces, **kwargs)\u001b[0m\n\u001b[0;32m   2073\u001b[0m \u001b[39mdef\u001b[39;00m \u001b[39mselect_one\u001b[39m(\u001b[39mself\u001b[39m, selector, namespaces\u001b[39m=\u001b[39m\u001b[39mNone\u001b[39;00m, \u001b[39m*\u001b[39m\u001b[39m*\u001b[39mkwargs):\n\u001b[0;32m   2074\u001b[0m \u001b[39m    \u001b[39m\u001b[39m\"\"\"Perform a CSS selection operation on the current element.\u001b[39;00m\n\u001b[0;32m   2075\u001b[0m \n\u001b[0;32m   2076\u001b[0m \u001b[39m    :param selector: A CSS selector.\u001b[39;00m\n\u001b[1;32m   (...)\u001b[0m\n\u001b[0;32m   2087\u001b[0m \u001b[39m    :rtype: bs4.element.Tag\u001b[39;00m\n\u001b[0;32m   2088\u001b[0m \u001b[39m    \"\"\"\u001b[39;00m\n\u001b[1;32m-> 2089\u001b[0m     \u001b[39mreturn\u001b[39;00m \u001b[39mself\u001b[39;49m\u001b[39m.\u001b[39;49mcss\u001b[39m.\u001b[39;49mselect_one(selector, namespaces, \u001b[39m*\u001b[39;49m\u001b[39m*\u001b[39;49mkwargs)\n",
      "File \u001b[1;32mc:\\Users\\bin\\anaconda3\\envs\\shinhanAI\\Lib\\site-packages\\bs4\\css.py:128\u001b[0m, in \u001b[0;36mCSS.select_one\u001b[1;34m(self, select, namespaces, flags, **kwargs)\u001b[0m\n\u001b[0;32m    103\u001b[0m \u001b[39mdef\u001b[39;00m \u001b[39mselect_one\u001b[39m(\u001b[39mself\u001b[39m, select, namespaces\u001b[39m=\u001b[39m\u001b[39mNone\u001b[39;00m, flags\u001b[39m=\u001b[39m\u001b[39m0\u001b[39m, \u001b[39m*\u001b[39m\u001b[39m*\u001b[39mkwargs):\n\u001b[0;32m    104\u001b[0m \u001b[39m    \u001b[39m\u001b[39m\"\"\"Perform a CSS selection operation on the current Tag and return the\u001b[39;00m\n\u001b[0;32m    105\u001b[0m \u001b[39m    first result.\u001b[39;00m\n\u001b[0;32m    106\u001b[0m \n\u001b[1;32m   (...)\u001b[0m\n\u001b[0;32m    126\u001b[0m \n\u001b[0;32m    127\u001b[0m \u001b[39m    \"\"\"\u001b[39;00m\n\u001b[1;32m--> 128\u001b[0m     \u001b[39mreturn\u001b[39;00m \u001b[39mself\u001b[39;49m\u001b[39m.\u001b[39;49mapi\u001b[39m.\u001b[39;49mselect_one(\n\u001b[0;32m    129\u001b[0m         select, \u001b[39mself\u001b[39;49m\u001b[39m.\u001b[39;49mtag, \u001b[39mself\u001b[39;49m\u001b[39m.\u001b[39;49m_ns(namespaces, select), flags, \u001b[39m*\u001b[39;49m\u001b[39m*\u001b[39;49mkwargs\n\u001b[0;32m    130\u001b[0m     )\n",
      "File \u001b[1;32mc:\\Users\\bin\\anaconda3\\envs\\shinhanAI\\Lib\\site-packages\\soupsieve\\__init__.py:132\u001b[0m, in \u001b[0;36mselect_one\u001b[1;34m(select, tag, namespaces, flags, custom, **kwargs)\u001b[0m\n\u001b[0;32m    121\u001b[0m \u001b[39mdef\u001b[39;00m \u001b[39mselect_one\u001b[39m(\n\u001b[0;32m    122\u001b[0m     select: \u001b[39mstr\u001b[39m,\n\u001b[0;32m    123\u001b[0m     tag: \u001b[39m'\u001b[39m\u001b[39mbs4.Tag\u001b[39m\u001b[39m'\u001b[39m,\n\u001b[1;32m   (...)\u001b[0m\n\u001b[0;32m    128\u001b[0m     \u001b[39m*\u001b[39m\u001b[39m*\u001b[39mkwargs: Any\n\u001b[0;32m    129\u001b[0m ) \u001b[39m-\u001b[39m\u001b[39m>\u001b[39m \u001b[39m'\u001b[39m\u001b[39mbs4.Tag\u001b[39m\u001b[39m'\u001b[39m:\n\u001b[0;32m    130\u001b[0m \u001b[39m    \u001b[39m\u001b[39m\"\"\"Select a single tag.\"\"\"\u001b[39;00m\n\u001b[1;32m--> 132\u001b[0m     \u001b[39mreturn\u001b[39;00m \u001b[39mcompile\u001b[39;49m(select, namespaces, flags, \u001b[39m*\u001b[39;49m\u001b[39m*\u001b[39;49mkwargs)\u001b[39m.\u001b[39;49mselect_one(tag)\n",
      "File \u001b[1;32mc:\\Users\\bin\\anaconda3\\envs\\shinhanAI\\Lib\\site-packages\\soupsieve\\css_match.py:1563\u001b[0m, in \u001b[0;36mSoupSieve.select_one\u001b[1;34m(self, tag)\u001b[0m\n\u001b[0;32m   1560\u001b[0m \u001b[39mdef\u001b[39;00m \u001b[39mselect_one\u001b[39m(\u001b[39mself\u001b[39m, tag: bs4\u001b[39m.\u001b[39mTag) \u001b[39m-\u001b[39m\u001b[39m>\u001b[39m bs4\u001b[39m.\u001b[39mTag:\n\u001b[0;32m   1561\u001b[0m \u001b[39m    \u001b[39m\u001b[39m\"\"\"Select a single tag.\"\"\"\u001b[39;00m\n\u001b[1;32m-> 1563\u001b[0m     tags \u001b[39m=\u001b[39m \u001b[39mself\u001b[39;49m\u001b[39m.\u001b[39;49mselect(tag, limit\u001b[39m=\u001b[39;49m\u001b[39m1\u001b[39;49m)\n\u001b[0;32m   1564\u001b[0m     \u001b[39mreturn\u001b[39;00m tags[\u001b[39m0\u001b[39m] \u001b[39mif\u001b[39;00m tags \u001b[39melse\u001b[39;00m \u001b[39mNone\u001b[39;00m\n",
      "File \u001b[1;32mc:\\Users\\bin\\anaconda3\\envs\\shinhanAI\\Lib\\site-packages\\soupsieve\\css_match.py:1569\u001b[0m, in \u001b[0;36mSoupSieve.select\u001b[1;34m(self, tag, limit)\u001b[0m\n\u001b[0;32m   1566\u001b[0m \u001b[39mdef\u001b[39;00m \u001b[39mselect\u001b[39m(\u001b[39mself\u001b[39m, tag: bs4\u001b[39m.\u001b[39mTag, limit: \u001b[39mint\u001b[39m \u001b[39m=\u001b[39m \u001b[39m0\u001b[39m) \u001b[39m-\u001b[39m\u001b[39m>\u001b[39m \u001b[39mlist\u001b[39m[bs4\u001b[39m.\u001b[39mTag]:\n\u001b[0;32m   1567\u001b[0m \u001b[39m    \u001b[39m\u001b[39m\"\"\"Select the specified tags.\"\"\"\u001b[39;00m\n\u001b[1;32m-> 1569\u001b[0m     \u001b[39mreturn\u001b[39;00m \u001b[39mlist\u001b[39m(\u001b[39mself\u001b[39m\u001b[39m.\u001b[39miselect(tag, limit))\n",
      "File \u001b[1;32mc:\\Users\\bin\\anaconda3\\envs\\shinhanAI\\Lib\\site-packages\\soupsieve\\css_match.py:1574\u001b[0m, in \u001b[0;36mSoupSieve.iselect\u001b[1;34m(self, tag, limit)\u001b[0m\n\u001b[0;32m   1571\u001b[0m \u001b[39mdef\u001b[39;00m \u001b[39miselect\u001b[39m(\u001b[39mself\u001b[39m, tag: bs4\u001b[39m.\u001b[39mTag, limit: \u001b[39mint\u001b[39m \u001b[39m=\u001b[39m \u001b[39m0\u001b[39m) \u001b[39m-\u001b[39m\u001b[39m>\u001b[39m Iterator[bs4\u001b[39m.\u001b[39mTag]:\n\u001b[0;32m   1572\u001b[0m \u001b[39m    \u001b[39m\u001b[39m\"\"\"Iterate the specified tags.\"\"\"\u001b[39;00m\n\u001b[1;32m-> 1574\u001b[0m     \u001b[39mfor\u001b[39;00m el \u001b[39min\u001b[39;00m CSSMatch(\u001b[39mself\u001b[39m\u001b[39m.\u001b[39mselectors, tag, \u001b[39mself\u001b[39m\u001b[39m.\u001b[39mnamespaces, \u001b[39mself\u001b[39m\u001b[39m.\u001b[39mflags)\u001b[39m.\u001b[39mselect(limit):\n\u001b[0;32m   1575\u001b[0m         \u001b[39myield\u001b[39;00m el\n",
      "File \u001b[1;32mc:\\Users\\bin\\anaconda3\\envs\\shinhanAI\\Lib\\site-packages\\soupsieve\\css_match.py:1474\u001b[0m, in \u001b[0;36mCSSMatch.select\u001b[1;34m(self, limit)\u001b[0m\n\u001b[0;32m   1471\u001b[0m lim \u001b[39m=\u001b[39m \u001b[39mNone\u001b[39;00m \u001b[39mif\u001b[39;00m limit \u001b[39m<\u001b[39m \u001b[39m1\u001b[39m \u001b[39melse\u001b[39;00m limit\n\u001b[0;32m   1473\u001b[0m \u001b[39mfor\u001b[39;00m child \u001b[39min\u001b[39;00m \u001b[39mself\u001b[39m\u001b[39m.\u001b[39mget_descendants(\u001b[39mself\u001b[39m\u001b[39m.\u001b[39mtag):\n\u001b[1;32m-> 1474\u001b[0m     \u001b[39mif\u001b[39;00m \u001b[39mself\u001b[39;49m\u001b[39m.\u001b[39;49mmatch(child):\n\u001b[0;32m   1475\u001b[0m         \u001b[39myield\u001b[39;00m child\n\u001b[0;32m   1476\u001b[0m         \u001b[39mif\u001b[39;00m lim \u001b[39mis\u001b[39;00m \u001b[39mnot\u001b[39;00m \u001b[39mNone\u001b[39;00m:\n",
      "File \u001b[1;32mc:\\Users\\bin\\anaconda3\\envs\\shinhanAI\\Lib\\site-packages\\soupsieve\\css_match.py:1501\u001b[0m, in \u001b[0;36mCSSMatch.match\u001b[1;34m(self, el)\u001b[0m\n\u001b[0;32m   1498\u001b[0m \u001b[39mdef\u001b[39;00m \u001b[39mmatch\u001b[39m(\u001b[39mself\u001b[39m, el: bs4\u001b[39m.\u001b[39mTag) \u001b[39m-\u001b[39m\u001b[39m>\u001b[39m \u001b[39mbool\u001b[39m:\n\u001b[0;32m   1499\u001b[0m \u001b[39m    \u001b[39m\u001b[39m\"\"\"Match.\"\"\"\u001b[39;00m\n\u001b[1;32m-> 1501\u001b[0m     \u001b[39mreturn\u001b[39;00m \u001b[39mnot\u001b[39;00m \u001b[39mself\u001b[39m\u001b[39m.\u001b[39mis_doc(el) \u001b[39mand\u001b[39;00m \u001b[39mself\u001b[39m\u001b[39m.\u001b[39mis_tag(el) \u001b[39mand\u001b[39;00m \u001b[39mself\u001b[39;49m\u001b[39m.\u001b[39;49mmatch_selectors(el, \u001b[39mself\u001b[39;49m\u001b[39m.\u001b[39;49mselectors)\n",
      "File \u001b[1;32mc:\\Users\\bin\\anaconda3\\envs\\shinhanAI\\Lib\\site-packages\\soupsieve\\css_match.py:1420\u001b[0m, in \u001b[0;36mCSSMatch.match_selectors\u001b[1;34m(self, el, selectors)\u001b[0m\n\u001b[0;32m   1418\u001b[0m     \u001b[39mcontinue\u001b[39;00m\n\u001b[0;32m   1419\u001b[0m \u001b[39m# Verify `nth` matches\u001b[39;00m\n\u001b[1;32m-> 1420\u001b[0m \u001b[39mif\u001b[39;00m \u001b[39mnot\u001b[39;00m \u001b[39mself\u001b[39;49m\u001b[39m.\u001b[39;49mmatch_nth(el, selector\u001b[39m.\u001b[39;49mnth):\n\u001b[0;32m   1421\u001b[0m     \u001b[39mcontinue\u001b[39;00m\n\u001b[0;32m   1422\u001b[0m \u001b[39mif\u001b[39;00m selector\u001b[39m.\u001b[39mflags \u001b[39m&\u001b[39m ct\u001b[39m.\u001b[39mSEL_EMPTY \u001b[39mand\u001b[39;00m \u001b[39mnot\u001b[39;00m \u001b[39mself\u001b[39m\u001b[39m.\u001b[39mmatch_empty(el):\n",
      "File \u001b[1;32mc:\\Users\\bin\\anaconda3\\envs\\shinhanAI\\Lib\\site-packages\\soupsieve\\css_match.py:980\u001b[0m, in \u001b[0;36mCSSMatch.match_nth\u001b[1;34m(self, el, nth)\u001b[0m\n\u001b[0;32m    978\u001b[0m     \u001b[39mcontinue\u001b[39;00m\n\u001b[0;32m    979\u001b[0m \u001b[39m# Handle `of S` in `nth-child`\u001b[39;00m\n\u001b[1;32m--> 980\u001b[0m \u001b[39mif\u001b[39;00m n\u001b[39m.\u001b[39mselectors \u001b[39mand\u001b[39;00m \u001b[39mnot\u001b[39;00m \u001b[39mself\u001b[39;49m\u001b[39m.\u001b[39;49mmatch_selectors(child, n\u001b[39m.\u001b[39;49mselectors):\n\u001b[0;32m    981\u001b[0m     \u001b[39mcontinue\u001b[39;00m\n\u001b[0;32m    982\u001b[0m \u001b[39m# Handle `of-type`\u001b[39;00m\n",
      "File \u001b[1;32mc:\\Users\\bin\\anaconda3\\envs\\shinhanAI\\Lib\\site-packages\\soupsieve\\css_match.py:1431\u001b[0m, in \u001b[0;36mCSSMatch.match_selectors\u001b[1;34m(self, el, selectors)\u001b[0m\n\u001b[0;32m   1429\u001b[0m     \u001b[39mcontinue\u001b[39;00m\n\u001b[0;32m   1430\u001b[0m \u001b[39m# Verify attribute(s) match\u001b[39;00m\n\u001b[1;32m-> 1431\u001b[0m \u001b[39mif\u001b[39;00m \u001b[39mnot\u001b[39;00m \u001b[39mself\u001b[39;49m\u001b[39m.\u001b[39;49mmatch_attributes(el, selector\u001b[39m.\u001b[39;49mattributes):\n\u001b[0;32m   1432\u001b[0m     \u001b[39mcontinue\u001b[39;00m\n\u001b[0;32m   1433\u001b[0m \u001b[39m# Verify ranges\u001b[39;00m\n",
      "File \u001b[1;32mc:\\Users\\bin\\anaconda3\\envs\\shinhanAI\\Lib\\site-packages\\soupsieve\\css_match.py:726\u001b[0m, in \u001b[0;36mCSSMatch.match_attributes\u001b[1;34m(self, el, attributes)\u001b[0m\n\u001b[0;32m    723\u001b[0m         match \u001b[39m=\u001b[39m \u001b[39mFalse\u001b[39;00m\n\u001b[0;32m    724\u001b[0m     \u001b[39mreturn\u001b[39;00m match\n\u001b[1;32m--> 726\u001b[0m \u001b[39mdef\u001b[39;00m \u001b[39mmatch_attributes\u001b[39m(\u001b[39mself\u001b[39m, el: bs4\u001b[39m.\u001b[39mTag, attributes: \u001b[39mtuple\u001b[39m[ct\u001b[39m.\u001b[39mSelectorAttribute, \u001b[39m.\u001b[39m\u001b[39m.\u001b[39m\u001b[39m.\u001b[39m]) \u001b[39m-\u001b[39m\u001b[39m>\u001b[39m \u001b[39mbool\u001b[39m:\n\u001b[0;32m    727\u001b[0m \u001b[39m    \u001b[39m\u001b[39m\"\"\"Match attributes.\"\"\"\u001b[39;00m\n\u001b[0;32m    729\u001b[0m     match \u001b[39m=\u001b[39m \u001b[39mTrue\u001b[39;00m\n",
      "\u001b[1;31mKeyboardInterrupt\u001b[0m: "
     ]
    }
   ],
   "source": [
    "\n",
    "\n",
    "date_dict = {}\n",
    "for i in range(2,len(week_date_list)):\n",
    "    week_key = soup.select_one('body > div > main.hidden.md\\:block > div > div > aside.mt-14.text-\\[12px\\] > section > div.float-right > label > select > option:nth-child({0})'.format(i))\n",
    "    week_key = week_key.attrs['value']\n",
    "    date_dict[week_key] = week_date_list[i]\n",
    "    print('i:{0}현재 딕셔너리:'.format(i), date_dict)"
   ]
  },
  {
   "attachments": {},
   "cell_type": "markdown",
   "metadata": {},
   "source": [
    "# 셀레니움"
   ]
  },
  {
   "cell_type": "code",
   "execution_count": 30,
   "metadata": {},
   "outputs": [
    {
     "name": "stderr",
     "output_type": "stream",
     "text": [
      "C:\\Users\\bin\\AppData\\Local\\Temp\\ipykernel_43424\\3969104977.py:9: DeprecationWarning: executable_path has been deprecated, please pass in a Service object\n",
      "  driver = webdriver.Chrome(chrome_path)\n"
     ]
    }
   ],
   "source": [
    "import scrapy\n",
    "from bs4 import BeautifulSoup as bs\n",
    "import datetime\n",
    "from selenium import webdriver\n",
    "from selenium.webdriver.common.by import By\n",
    "from selenium.webdriver.support.ui import Select\n",
    "import time\n",
    "chrome_path = './Shinhan_AI_competition/crawling'\n",
    "driver = webdriver.Chrome(chrome_path)\n",
    "url = 'https://circlechart.kr/page_chart/onoff.circle?nationGbn=T&serviceGbn=ALL&targetTime=15&hitYear=2023&termGbn=week&yearTime=3'\n",
    "driver.get(url)\n",
    "driver.implicitly_wait(3)\n",
    "\n"
   ]
  },
  {
   "cell_type": "code",
   "execution_count": 33,
   "metadata": {},
   "outputs": [
    {
     "data": {
      "text/plain": [
       "''"
      ]
     },
     "execution_count": 33,
     "metadata": {},
     "output_type": "execute_result"
    }
   ],
   "source": [
    "driver.find_element(By.XPATH, '//*[@id=\"pc_chart_tbody\"]/tr[1]/td[5]/div[1]/span').text"
   ]
  },
  {
   "cell_type": "code",
   "execution_count": 28,
   "metadata": {},
   "outputs": [],
   "source": [
    "# driver.implicitly_wait(3)\n",
    "musics = driver.find_elements(By.CSS_SELECTOR, '#pc_chart_tbody')\n",
    "for music in musics:\n",
    "    print(music.find_element(By.CSS_SELECTOR, '#pc_chart_tbody > tr:nth-child(1) > td.text-center > span').text)"
   ]
  },
  {
   "cell_type": "code",
   "execution_count": null,
   "metadata": {},
   "outputs": [],
   "source": [
    "https://circlechart.kr/data/api/chart/onoff"
   ]
  },
  {
   "cell_type": "code",
   "execution_count": 11,
   "metadata": {},
   "outputs": [
    {
     "name": "stderr",
     "output_type": "stream",
     "text": [
      "C:\\Users\\bin\\AppData\\Local\\Temp\\ipykernel_17232\\3592178022.py:10: DeprecationWarning: executable_path has been deprecated, please pass in a Service object\n",
      "  driver = webdriver.Chrome(chrome_path)\n"
     ]
    },
    {
     "name": "stdout",
     "output_type": "stream",
     "text": [
      "[{'year': '2023', 'week_num': '15', 'date': '2023.04.09~2023.04.15', 'rank': '1', 'music': 'Kitsch', 'singer': 'IVE (아이브)', 'album': 'Kitsch'}, {'year': '2023', 'week_num': '15', 'date': '2023.04.02~2023.04.08', 'rank': '2', 'music': 'I AM', 'singer': 'IVE (아이브)', 'album': 'I`ve IVE'}, {'year': '2023', 'week_num': '15', 'date': '2023.03.26~2023.04.01', 'rank': '3', 'music': '꽃', 'singer': '지수 (JISOO)', 'album': 'ME'}, {'year': '2023', 'week_num': '15', 'date': '2023.03.19~2023.03.25', 'rank': '4', 'music': 'Ditto', 'singer': 'NewJeans', 'album': 'NewJeans `OMG`'}, {'year': '2023', 'week_num': '15', 'date': '2023.03.12~2023.03.18', 'rank': '5', 'music': 'Hype boy', 'singer': 'NewJeans', 'album': 'NewJeans 1st EP `New Jeans`'}, {'year': '2023', 'week_num': '15', 'date': '2023.03.05~2023.03.11', 'rank': '6', 'music': 'OMG', 'singer': 'NewJeans', 'album': 'NewJeans `OMG`'}, {'year': '2023', 'week_num': '15', 'date': '2023.02.26~2023.03.04', 'rank': '7', 'music': 'Teddy Bear', 'singer': 'STAYC(스테이씨)', 'album': 'Teddy Bear'}, {'year': '2023', 'week_num': '15', 'date': '2023.02.19~2023.02.25', 'rank': '8', 'music': '사건의 지평선', 'singer': '윤하', 'album': 'YOUNHA 6th Album Repackage `END THEORY : Final Edition`'}, {'year': '2023', 'week_num': '15', 'date': '2023.02.12~2023.02.18', 'rank': '9', 'music': 'London Boy', 'singer': '임영웅', 'album': 'Polaroid'}, {'year': '2023', 'week_num': '15', 'date': '2023.02.05~2023.02.11', 'rank': '10', 'music': 'Polaroid', 'singer': '임영웅', 'album': 'Polaroid'}, {'year': '2023', 'week_num': '15', 'date': '2023.01.29~2023.02.04', 'rank': '11', 'music': 'Like Crazy', 'singer': '지민', 'album': 'FACE'}, {'year': '2023', 'week_num': '15', 'date': '2023.01.22~2023.01.28', 'rank': '12', 'music': 'Love Me Like This', 'singer': 'NMIXX', 'album': 'expergo'}, {'year': '2023', 'week_num': '15', 'date': '2023.01.15~2023.01.21', 'rank': '13', 'music': 'CHRISTIAN', 'singer': 'Zior Park', 'album': 'WHERE DOES SASQUATCH LIVE? PART 1'}, {'year': '2023', 'week_num': '15', 'date': '2023.01.08~2023.01.14', 'rank': '14', 'music': '사람 Pt.2 (feat. 아이유)', 'singer': 'Agust D', 'album': '사람 Pt.2'}, {'year': '2023', 'week_num': '15', 'date': '2023.01.01~2023.01.07', 'rank': '15', 'music': '파이팅 해야지 (Feat. 이영지)', 'singer': '부석순 (SEVENTEEN)', 'album': '부석순 1st Single Album `SECOND WIND`'}, {'year': '2023', 'week_num': '15', 'date': '2022.12.25~2022.12.31', 'rank': '16', 'music': 'Attention', 'singer': 'NewJeans', 'album': 'NewJeans 1st EP `New Jeans`'}, {'year': '2023', 'week_num': '15', 'date': '2022.12.18~2022.12.24', 'rank': '17', 'music': '심(心)', 'singer': 'DK', 'album': '심(心)'}, {'year': '2023', 'week_num': '15', 'date': '2022.12.11~2022.12.17', 'rank': '18', 'music': 'After LIKE', 'singer': 'IVE (아이브)', 'album': 'After LIKE'}, {'year': '2023', 'week_num': '15', 'date': '2022.12.04~2022.12.10', 'rank': '19', 'music': '밤이 무서워요 (Lonely Night)', 'singer': '주주 시크릿', 'album': '밤이 무서워요 (Lonely Night)'}, {'year': '2023', 'week_num': '15', 'date': '2022.11.27~2022.12.03', 'rank': '20', 'music': 'ANTIFRAGILE', 'singer': 'LE SSERAFIM (르세라핌)', 'album': 'ANTIFRAGILE'}, {'year': '2023', 'week_num': '15', 'date': '2022.11.20~2022.11.26', 'rank': '21', 'music': 'Zero', 'singer': 'NewJeans', 'album': 'Zero'}, {'year': '2023', 'week_num': '15', 'date': '2022.11.13~2022.11.19', 'rank': '22', 'music': 'I Don`t Think That I Like Her', 'singer': 'Charlie Puth', 'album': 'CHARLIE'}, {'year': '2023', 'week_num': '15', 'date': '2022.11.06~2022.11.12', 'rank': '23', 'music': 'NIGHT DANCER', 'singer': 'imase', 'album': 'NIGHT DANCER'}, {'year': '2023', 'week_num': '15', 'date': '2022.10.30~2022.11.05', 'rank': '24', 'music': 'LOVE DIVE', 'singer': 'IVE (아이브)', 'album': 'LOVE DIVE'}, {'year': '2023', 'week_num': '15', 'date': '2022.10.23~2022.10.29', 'rank': '25', 'music': 'Nostalgia', 'singer': '우디 (Woody)', 'album': 'Nostalgia'}, {'year': '2023', 'week_num': '15', 'date': '2022.10.16~2022.10.22', 'rank': '26', 'music': '건물 사이에 피어난 장미 (Rose Blossom)', 'singer': 'H1-KEY', 'album': 'H1-KEY 1st Mini Album [Rose Blossom]'}, {'year': '2023', 'week_num': '15', 'date': '2022.10.09~2022.10.15', 'rank': '27', 'music': 'Dangerously', 'singer': 'Charlie Puth', 'album': 'Nine Track Mind (Deluxe)'}, {'year': '2023', 'week_num': '15', 'date': '2022.10.02~2022.10.08', 'rank': '28', 'music': '사랑인가 봐', 'singer': '멜로망스(Melomance)', 'album': '사랑인가 봐 (사내맞선 OST 스페셜 트랙)'}, {'year': '2023', 'week_num': '15', 'date': '2022.09.25~2022.10.01', 'rank': '29', 'music': '너를 보는게 지친 하루에', 'singer': '송하예', 'album': '너를 보는게 지친 하루에'}, {'year': '2023', 'week_num': '15', 'date': '2022.09.18~2022.09.24', 'rank': '30', 'music': '사랑하기 싫어', 'singer': '지아 (Zia)', 'album': '사랑하기 싫어'}, {'year': '2023', 'week_num': '15', 'date': '2022.09.11~2022.09.17', 'rank': '31', 'music': '너의 모든 순간', 'singer': '성시경', 'album': '별에서 온 그대 OST Part 7'}, {'year': '2023', 'week_num': '15', 'date': '2022.09.04~2022.09.10', 'rank': '32', 'music': 'Cupid', 'singer': 'FIFTY FIFTY', 'album': 'The Beginning: Cupid'}, {'year': '2023', 'week_num': '15', 'date': '2022.08.28~2022.09.03', 'rank': '33', 'music': 'Candy', 'singer': 'NCT DREAM', 'album': 'Candy - Winter Special Mini Album'}, {'year': '2023', 'week_num': '15', 'date': '2022.08.21~2022.08.27', 'rank': '34', 'music': '사랑은 늘 도망가', 'singer': '임영웅', 'album': '신사와 아가씨 OST Part.2'}, {'year': '2023', 'week_num': '15', 'date': '2022.08.14~2022.08.20', 'rank': '35', 'music': 'Set Me Free Pt.2', 'singer': '지민', 'album': 'Set Me Free Pt.2'}, {'year': '2023', 'week_num': '15', 'date': '2022.08.07~2022.08.13', 'rank': '36', 'music': 'That`s Hilarious', 'singer': 'Charlie Puth', 'album': 'That`s Hilarious'}, {'year': '2023', 'week_num': '15', 'date': '2022.07.31~2022.08.06', 'rank': '37', 'music': 'Monologue', 'singer': '테이 (Tei)', 'album': 'Monologue'}, {'year': '2023', 'week_num': '15', 'date': '2022.07.24~2022.07.30', 'rank': '38', 'music': 'Nxde', 'singer': '(여자)아이들', 'album': 'I love'}, {'year': '2023', 'week_num': '15', 'date': '2022.07.17~2022.07.23', 'rank': '39', 'music': 'Stay', 'singer': 'The Kid LAROI, Justin Bieber', 'album': 'Stay'}, {'year': '2023', 'week_num': '15', 'date': '2022.07.10~2022.07.16', 'rank': '40', 'music': '결국엔 너에게 닿아서', 'singer': 'WSG워너비 (가야G)', 'album': '결국엔 너에게 닿아서'}, {'year': '2023', 'week_num': '15', 'date': '2022.07.03~2022.07.09', 'rank': '41', 'music': 'Say I Love You', 'singer': '우디(Woody)', 'album': 'Say I Love You (Re : WIND 4MEN Vol.04)'}, {'year': '2023', 'week_num': '15', 'date': '2022.06.26~2022.07.02', 'rank': '42', 'music': 'VIBE (feat. Jimin of BTS)', 'singer': '태양', 'album': 'VIBE'}, {'year': '2023', 'week_num': '15', 'date': '2022.06.19~2022.06.25', 'rank': '43', 'music': '취중고백', 'singer': '김민석', 'album': '취중고백'}, {'year': '2023', 'week_num': '15', 'date': '2022.06.12~2022.06.18', 'rank': '44', 'music': '그라데이션', 'singer': '10cm', 'album': '5.3'}, {'year': '2023', 'week_num': '15', 'date': '2022.06.05~2022.06.11', 'rank': '45', 'music': '새삥 (Prod. ZICO) (Feat. 호미들)', 'singer': '지코 (ZICO)', 'album': '스트릿 맨 파이터(SMF) Original Vol.3 (계급미션)'}, {'year': '2023', 'week_num': '15', 'date': '2022.05.29~2022.06.04', 'rank': '46', 'music': '정이라고 하자 (Feat. 10CM)', 'singer': 'BIG Naughty (서동현)', 'album': '정이라고 하자'}, {'year': '2023', 'week_num': '15', 'date': '2022.05.22~2022.05.28', 'rank': '47', 'music': 'FEARLESS', 'singer': 'LE SSERAFIM (르세라핌)', 'album': 'FEARLESS'}, {'year': '2023', 'week_num': '15', 'date': '2022.05.15~2022.05.21', 'rank': '48', 'music': '오르트구름', 'singer': '윤하', 'album': 'YOUNHA 6th Album `END THEORY`'}, {'year': '2023', 'week_num': '15', 'date': '2022.05.08~2022.05.14', 'rank': '49', 'music': '해요 (2022)', 'singer': '#안녕', 'album': '해요 (2022)'}, {'year': '2023', 'week_num': '15', 'date': '2022.05.01~2022.05.07', 'rank': '50', 'music': 'Young, Dumb, Stupid', 'singer': 'NMIXX', 'album': 'expergo'}, {'year': '2023', 'week_num': '15', 'date': '2022.04.24~2022.04.30', 'rank': '51', 'music': 'Cookie', 'singer': 'NewJeans', 'album': 'NewJeans 1st EP `New Jeans`'}, {'year': '2023', 'week_num': '15', 'date': '2022.04.17~2022.04.23', 'rank': '52', 'music': 'Shut Down', 'singer': 'BLACKPINK', 'album': 'BORN PINK'}, {'year': '2023', 'week_num': '15', 'date': '2022.04.10~2022.04.16', 'rank': '53', 'music': 'Poppy (Korean Ver.)', 'singer': 'STAYC(스테이씨)', 'album': 'Teddy Bear'}, {'year': '2023', 'week_num': '15', 'date': '2022.04.03~2022.04.09', 'rank': '54', 'music': '다정히 내 이름을 부르면', 'singer': '경서예지, 전건호', 'album': '다정히 내 이름을 부르면 (경서예지 x 전건호)'}, {'year': '2023', 'week_num': '15', 'date': '2022.03.27~2022.04.02', 'rank': '55', 'music': '내가 아니라도', 'singer': '주호', 'album': '내가 아니라도'}, {'year': '2023', 'week_num': '15', 'date': '2022.03.20~2022.03.26', 'rank': '56', 'music': '그때 그 순간 그대로 (그그그)', 'singer': 'WSG워너비 (가야G)', 'album': 'WSG워너비 1집'}, {'year': '2023', 'week_num': '15', 'date': '2022.03.13~2022.03.19', 'rank': '57', 'music': 'ELEVEN', 'singer': 'IVE (아이브)', 'album': 'ELEVEN'}, {'year': '2023', 'week_num': '15', 'date': '2022.03.06~2022.03.12', 'rank': '58', 'music': 'Say My Name', 'singer': 'Say Yes!', 'album': 'BOYS PLANET - ARTIST BATTLE'}, {'year': '2023', 'week_num': '15', 'date': '2022.02.27~2022.03.05', 'rank': '59', 'music': 'TOMBOY', 'singer': '(여자)아이들', 'album': 'I NEVER DIE'}, {'year': '2023', 'week_num': '15', 'date': '2022.02.20~2022.02.26', 'rank': '60', 'music': 'Unholy', 'singer': 'Sam Smith, Kim Petras', 'album': 'Unholy'}, {'year': '2023', 'week_num': '15', 'date': '2022.02.13~2022.02.19', 'rank': '61', 'music': 'Blue Blood', 'singer': 'IVE (아이브)', 'album': 'I`ve IVE'}, {'year': '2023', 'week_num': '15', 'date': '2022.02.06~2022.02.12', 'rank': '62', 'music': '나비무덤', 'singer': '포맨 (4MEN)', 'album': '나비무덤'}, {'year': '2023', 'week_num': '15', 'date': '2022.01.30~2022.02.05', 'rank': '63', 'music': 'That’s Not How This Works (feat. Dan + Shay)', 'singer': 'Charlie Puth', 'album': 'That’s Not How This Works'}, {'year': '2023', 'week_num': '15', 'date': '2022.01.23~2022.01.29', 'rank': '64', 'music': 'Pink Venom', 'singer': 'BLACKPINK', 'album': 'Pink Venom'}, {'year': '2023', 'week_num': '15', 'date': '2022.01.16~2022.01.22', 'rank': '65', 'music': '나의 X에게', 'singer': '경서', 'album': '나의 X에게'}, {'year': '2023', 'week_num': '15', 'date': '2022.01.09~2022.01.15', 'rank': '66', 'music': '되돌리다', 'singer': '먼데이 키즈 (Monday Kiz)', 'album': '되돌리다'}, {'year': '2023', 'week_num': '15', 'date': '2022.01.02~2022.01.08', 'rank': '67', 'music': '모든 날, 모든 순간 (Every day, Every Moment)', 'singer': '폴킴', 'album': '`키스 먼저 할까요?` OST Part 3'}, {'year': '2023', 'week_num': '15', 'date': '2021.12.26~2022.01.01', 'rank': '68', 'music': '사랑하지 않아서 그랬어', 'singer': '임한별', 'album': '사랑하지 않아서 그랬어'}, {'year': '2023', 'week_num': '15', 'date': '2021.12.19~2021.12.25', 'rank': '69', 'music': '사랑이라 믿었던 것들은 (Feat. 이수현)', 'singer': 'BIG Naughty (서동현)', 'album': '호프리스 로맨틱'}, {'year': '2023', 'week_num': '15', 'date': '2021.12.12~2021.12.18', 'rank': '70', 'music': '봄 사랑 벚꽃 말고', 'singer': 'HIGH4, 아이유 (IU)', 'album': '봄 사랑 벚꽃 말고'}, {'year': '2023', 'week_num': '15', 'date': '2021.12.05~2021.12.11', 'rank': '71', 'music': 'NOT SORRY (Feat. pH-1) (Prod. by Slom)', 'singer': '이영지', 'album': '쇼미더머니 11 Episode 3'}, {'year': '2023', 'week_num': '15', 'date': '2021.11.28~2021.12.04', 'rank': '72', 'music': 'Rush Hour (Feat. j-hope of BTS)', 'singer': '크러쉬 (CRUSH)', 'album': 'Rush Hour'}, {'year': '2023', 'week_num': '15', 'date': '2021.11.21~2021.11.27', 'rank': '73', 'music': 'on the street (with J. Cole)', 'singer': 'j-hope, J. Cole', 'album': 'on the street (with J. Cole)'}, {'year': '2023', 'week_num': '15', 'date': '2021.11.14~2021.11.20', 'rank': '74', 'music': '봄날', 'singer': '방탄소년단', 'album': 'YOU NEVER WALK ALONE'}, {'year': '2023', 'week_num': '15', 'date': '2021.11.07~2021.11.13', 'rank': '75', 'music': '우리들의 블루스', 'singer': '임영웅', 'album': 'IM HERO'}, {'year': '2023', 'week_num': '15', 'date': '2021.10.31~2021.11.06', 'rank': '76', 'music': '발걸음', 'singer': 'DK', 'album': '발걸음'}, {'year': '2023', 'week_num': '15', 'date': '2021.10.24~2021.10.30', 'rank': '77', 'music': '딱 10CM만', 'singer': '10cm, BIG Naughty (서동현)', 'album': '딱 10CM만'}, {'year': '2023', 'week_num': '15', 'date': '2021.10.17~2021.10.23', 'rank': '78', 'music': 'Dynamite', 'singer': '방탄소년단', 'album': 'Dynamite'}, {'year': '2023', 'week_num': '15', 'date': '2021.10.10~2021.10.16', 'rank': '79', 'music': '가질 수 없는 너', 'singer': '#안녕', 'album': '가질 수 없는 너'}, {'year': '2023', 'week_num': '15', 'date': '2021.10.03~2021.10.09', 'rank': '80', 'music': 'I Don`t Think That I Like Her', 'singer': 'Charlie Puth', 'album': 'I Don`t Think That I Like Her'}, {'year': '2023', 'week_num': '15', 'date': '2021.09.26~2021.10.02', 'rank': '81', 'music': '그대를 알고', 'singer': '송하예', 'album': '그대를 알고'}, {'year': '2023', 'week_num': '15', 'date': '2021.09.19~2021.09.25', 'rank': '82', 'music': 'Dreamers (Feat. FIFA Sound)', 'singer': '정국, 방탄소년단', 'album': 'Dreamers [Music from the FIFA World Cup Qatar 2022 Official Soundtrack]'}, {'year': '2023', 'week_num': '15', 'date': '2021.09.12~2021.09.18', 'rank': '83', 'music': '그중에 그대를 만나', 'singer': '김호중', 'album': '삼남매가 용감하게 OST Part.1'}, {'year': '2023', 'week_num': '15', 'date': '2021.09.05~2021.09.11', 'rank': '84', 'music': '잘가요', 'singer': '주호', 'album': '잘가요'}, {'year': '2023', 'week_num': '15', 'date': '2021.08.29~2021.09.04', 'rank': '85', 'music': 'Off My Face', 'singer': 'Justin Bieber', 'album': 'Justice'}, {'year': '2023', 'week_num': '15', 'date': '2021.08.22~2021.08.28', 'rank': '86', 'music': 'Expectations', 'singer': 'Anne-Marie, 민니 ((여자)아이들), (여자)아이들', 'album': 'Expectations'}, {'year': '2023', 'week_num': '15', 'date': '2021.08.15~2021.08.21', 'rank': '87', 'music': '빙글빙글 (Prod. R.Tee)', 'singer': '헤이즈 (Heize)', 'album': '빙글빙글'}, {'year': '2023', 'week_num': '15', 'date': '2021.08.08~2021.08.14', 'rank': '88', 'music': '당신을 만나', 'singer': '김호중, 송가인', 'album': '당신을 만나'}, {'year': '2023', 'week_num': '15', 'date': '2021.08.01~2021.08.07', 'rank': '89', 'music': '벚꽃 엔딩', 'singer': '버스커 버스커 (Busker Busker)', 'album': '버스커 버스커 1집'}, {'year': '2023', 'week_num': '15', 'date': '2021.07.25~2021.07.31', 'rank': '90', 'music': '주저하는 연인들을 위해', 'singer': '잔나비', 'album': '전설'}, {'year': '2023', 'week_num': '15', 'date': '2021.07.18~2021.07.24', 'rank': '91', 'music': 'Sugar Rush Ride', 'singer': '투모로우바이투게더', 'album': '이름의 장: TEMPTATION'}, {'year': '2023', 'week_num': '15', 'date': '2021.07.11~2021.07.17', 'rank': '92', 'music': '이제 나만 믿어요', 'singer': '임영웅', 'album': '내일은 미스터트롯 우승자 특전곡'}, {'year': '2023', 'week_num': '15', 'date': '2021.07.04~2021.07.10', 'rank': '93', 'music': 'Lips', 'singer': 'IVE (아이브)', 'album': 'I`ve IVE'}, {'year': '2023', 'week_num': '15', 'date': '2021.06.27~2021.07.03', 'rank': '94', 'music': '다시 만날 수 있을까', 'singer': '임영웅', 'album': 'IM HERO'}, {'year': '2023', 'week_num': '15', 'date': '2021.06.20~2021.06.26', 'rank': '95', 'music': 'LOVE me', 'singer': 'BE`O (비오)', 'album': 'LOVE me'}, {'year': '2023', 'week_num': '15', 'date': '2021.06.13~2021.06.19', 'rank': '96', 'music': 'Butter', 'singer': '방탄소년단', 'album': 'Butter'}, {'year': '2023', 'week_num': '15', 'date': '2021.06.06~2021.06.12', 'rank': '97', 'music': '나의 목소리로', 'singer': '김호중', 'album': '나의 목소리로'}, {'year': '2023', 'week_num': '15', 'date': '2021.05.30~2021.06.05', 'rank': '98', 'music': '그댄 행복에 살텐데 (2022)', 'singer': '최유리', 'album': '그댄 행복에 살텐데 (2022)'}, {'year': '2023', 'week_num': '15', 'date': '2021.05.23~2021.05.29', 'rank': '99', 'music': '밤하늘의 별을(2020)', 'singer': '경서', 'album': '밤하늘의 별을(2020)'}, {'year': '2023', 'week_num': '15', 'date': '2021.05.16~2021.05.22', 'rank': '100', 'music': '희재', 'singer': '성시경', 'album': '국화꽃향기 OST'}, {'year': '2023', 'week_num': '15', 'date': '2021.05.09~2021.05.15', 'rank': '101', 'music': '아모르 파티', 'singer': '이홍기', 'album': '아모르 파티'}, {'year': '2023', 'week_num': '15', 'date': '2021.05.02~2021.05.08', 'rank': '102', 'music': '자격지심 (Feat. ZICO)', 'singer': 'BE`O (비오)', 'album': 'FIVE SENSES'}, {'year': '2023', 'week_num': '15', 'date': '2021.04.25~2021.05.01', 'rank': '103', 'music': '봄여름가을겨울 (Still Life)', 'singer': 'BIGBANG (빅뱅)', 'album': '봄여름가을겨울 (Still Life)'}, {'year': '2023', 'week_num': '15', 'date': '2021.04.18~2021.04.24', 'rank': '104', 'music': '마지막 사랑', 'singer': '신예영', 'album': '마지막 사랑'}, {'year': '2023', 'week_num': '15', 'date': '2021.04.11~2021.04.17', 'rank': '105', 'music': 'Ai Wo Tsutaetaidatoka', 'singer': 'aimyon', 'album': 'Excitement of Youth'}, {'year': '2023', 'week_num': '15', 'date': '2021.04.04~2021.04.10', 'rank': '106', 'music': 'That That (prod. & feat. SUGA of BTS)', 'singer': '싸이 (Psy)', 'album': '싸다9'}, {'year': '2023', 'week_num': '15', 'date': '2021.03.28~2021.04.03', 'rank': '107', 'music': '첫사랑', 'singer': '백아', 'album': '첫사랑'}, {'year': '2023', 'week_num': '15', 'date': '2021.03.21~2021.03.27', 'rank': '108', 'music': 'When I Get Old', 'singer': 'Christopher, 청하', 'album': 'When I Get Old'}, {'year': '2023', 'week_num': '15', 'date': '2021.03.14~2021.03.20', 'rank': '109', 'music': '보고싶었어', 'singer': 'WSG워너비 (4FIRE)', 'album': 'WSG워너비 1집'}, {'year': '2023', 'week_num': '15', 'date': '2021.03.07~2021.03.13', 'rank': '110', 'music': 'NOT YOUR GIRL', 'singer': 'IVE (아이브)', 'album': 'I`ve IVE'}, {'year': '2023', 'week_num': '15', 'date': '2021.02.28~2021.03.06', 'rank': '111', 'music': 'D N D', 'singer': '에이핑크(Apink)', 'album': 'SELF'}, {'year': '2023', 'week_num': '15', 'date': '2021.02.21~2021.02.27', 'rank': '112', 'music': 'Feel My Rhythm', 'singer': '레드벨벳(Red Velvet)', 'album': '`The ReVe Festival 2022 - Feel My Rhythm`'}, {'year': '2023', 'week_num': '15', 'date': '2021.02.14~2021.02.20', 'rank': '113', 'music': 'Permission to Dance', 'singer': '방탄소년단', 'album': 'Butter / Permission to Dance'}, {'year': '2023', 'week_num': '15', 'date': '2021.02.07~2021.02.13', 'rank': '114', 'music': 'Golden Hour', 'singer': '마크 (MARK)', 'album': 'Golden Hour - SM STATION : NCT LAB'}, {'year': '2023', 'week_num': '15', 'date': '2021.01.31~2021.02.06', 'rank': '115', 'music': '떠나보낼 준비해 둘걸 그랬어', 'singer': '임한별', 'album': '떠나보낼 준비해 둘걸 그랬어'}, {'year': '2023', 'week_num': '15', 'date': '2021.01.24~2021.01.30', 'rank': '116', 'music': '내 기쁨은 너가 벤틀리를 끄는 거야', 'singer': '김승민', 'album': 'PROTOTYPE RESEARCH #0063'}, {'year': '2023', 'week_num': '15', 'date': '2021.01.17~2021.01.23', 'rank': '117', 'music': 'Love story', 'singer': '볼빨간사춘기', 'album': 'Seoul'}, {'year': '2023', 'week_num': '15', 'date': '2021.01.10~2021.01.16', 'rank': '118', 'music': '한 페이지가 될 수 있게', 'singer': 'DAY6', 'album': 'The Book of Us : Gravity'}, {'year': '2023', 'week_num': '15', 'date': '2021.01.03~2021.01.09', 'rank': '119', 'music': '우연히 봄', 'singer': '로꼬 (LOCO), 유주 (YUJU)', 'album': '냄새를 보는 소녀 OST Part 2'}, {'year': '2023', 'week_num': '15', 'date': '2020.12.27~2021.01.02', 'rank': '120', 'music': '그대라는 사치', 'singer': '임창정', 'album': '그대라는 사치'}, {'year': '2023', 'week_num': '15', 'date': '2020.12.20~2020.12.26', 'rank': '121', 'music': 'WHEN I MOVE', 'singer': '카라 (KARA)', 'album': 'MOVE AGAIN'}, {'year': '2023', 'week_num': '15', 'date': '2020.12.13~2020.12.19', 'rank': '122', 'music': 'Mine', 'singer': 'IVE (아이브)', 'album': 'I`ve IVE'}, {'year': '2023', 'week_num': '15', 'date': '2020.12.06~2020.12.12', 'rank': '123', 'music': '무지개', 'singer': '임영웅', 'album': 'IM HERO'}, {'year': '2023', 'week_num': '15', 'date': '2020.11.29~2020.12.05', 'rank': '124', 'music': '혼자가 아닌 나', 'singer': '정효빈', 'album': '혼자가 아닌 나'}, {'year': '2023', 'week_num': '15', 'date': '2020.11.22~2020.11.28', 'rank': '125', 'music': 'Heroine', 'singer': 'IVE (아이브)', 'album': 'I`ve IVE'}, {'year': '2023', 'week_num': '15', 'date': '2020.11.15~2020.11.21', 'rank': '126', 'music': '도깨비불 (Illusion)', 'singer': 'aespa', 'album': 'Girls - The 2nd Mini Album'}, {'year': '2023', 'week_num': '15', 'date': '2020.11.08~2020.11.14', 'rank': '127', 'music': '섬찟 (Hypnosis)', 'singer': 'IVE (아이브)', 'album': 'I`ve IVE'}, {'year': '2023', 'week_num': '15', 'date': '2020.11.01~2020.11.07', 'rank': '128', 'music': 'Blueming', 'singer': '아이유 (IU)', 'album': 'Love poem'}, {'year': '2023', 'week_num': '15', 'date': '2020.10.25~2020.10.31', 'rank': '129', 'music': 'Cupid (Twin Ver.)', 'singer': 'FIFTY FIFTY', 'album': 'The Beginning: Cupid'}, {'year': '2023', 'week_num': '15', 'date': '2020.10.18~2020.10.24', 'rank': '130', 'music': '다시 사랑한다면', 'singer': '한동근', 'album': '다시 사랑한다면'}, {'year': '2023', 'week_num': '15', 'date': '2020.10.11~2020.10.17', 'rank': '131', 'music': '아버지', 'singer': '임영웅', 'album': 'IM HERO'}, {'year': '2023', 'week_num': '15', 'date': '2020.10.04~2020.10.10', 'rank': '132', 'music': '너와 함께', 'singer': '김민석', 'album': '너와 함께'}, {'year': '2023', 'week_num': '15', 'date': '2020.09.27~2020.10.03', 'rank': '133', 'music': '가장 아름다운 시간이었다', 'singer': '주호', 'album': '가장 아름다운 시간이었다'}, {'year': '2023', 'week_num': '15', 'date': '2020.09.20~2020.09.26', 'rank': '134', 'music': '네가 보고 싶은 건 자연스러운 거겠지', 'singer': '신예영', 'album': '혼잣말 獨白'}, {'year': '2023', 'week_num': '15', 'date': '2020.09.13~2020.09.19', 'rank': '135', 'music': 'Left and Right (Feat. Jung Kook of BTS)', 'singer': 'Charlie Puth, 정국, 방탄소년단', 'album': 'Left and Right'}, {'year': '2023', 'week_num': '15', 'date': '2020.09.06~2020.09.12', 'rank': '136', 'music': '바보가슴', 'singer': '송하예, 한빈(포맨)', 'album': '바보가슴'}, {'year': '2023', 'week_num': '15', 'date': '2020.08.30~2020.09.05', 'rank': '137', 'music': 'I`m Not The Only One', 'singer': 'Sam Smith', 'album': 'In The Lonely Hour'}, {'year': '2023', 'week_num': '15', 'date': '2020.08.23~2020.08.29', 'rank': '138', 'music': '드라마', 'singer': '아이유 (IU)', 'album': '조각집'}, {'year': '2023', 'week_num': '15', 'date': '2020.08.16~2020.08.22', 'rank': '139', 'music': '라일락', 'singer': '아이유 (IU)', 'album': '5th Album `LILAC`'}, {'year': '2023', 'week_num': '15', 'date': '2020.08.09~2020.08.15', 'rank': '140', 'music': '어떻게 이별까지 사랑하겠어, 널 사랑하는 거지', 'singer': 'AKMU (악뮤)', 'album': '항해'}, {'year': '2023', 'week_num': '15', 'date': '2020.08.02~2020.08.08', 'rank': '141', 'music': 'すずめ / Suzume (Feat. Toaka (토아카/十明))', 'singer': 'RADWIMPS', 'album': 'Suzume (스즈메의 문단속/すずめの戸締まり) OST'}, {'year': '2023', 'week_num': '15', 'date': '2020.07.26~2020.08.01', 'rank': '142', 'music': 'All Eyes On Me', 'singer': '지수 (JISOO)', 'album': 'ME'}, {'year': '2023', 'week_num': '15', 'date': '2020.07.19~2020.07.25', 'rank': '143', 'music': 'Loving You Girl (Feat. Hkeem)', 'singer': 'Peder Elias', 'album': 'Loving You Girl'}, {'year': '2023', 'week_num': '15', 'date': '2020.07.12~2020.07.18', 'rank': '144', 'music': '마이웨이 (MY WAY) (Prod. R.Tee)', 'singer': '저스디스 (JUSTHIS), 던말릭 (Don Malik), 허성현 (Huh), KHAN, 맥대디 (Mckdaddy), Los', 'album': '쇼미더머니 11 Episode 1'}, {'year': '2023', 'week_num': '15', 'date': '2020.07.05~2020.07.11', 'rank': '145', 'music': '새벽에 걸려온 너의 전화는', 'singer': '한동근', 'album': '미련을 말하는'}, {'year': '2023', 'week_num': '15', 'date': '2020.06.28~2020.07.04', 'rank': '146', 'music': '친구로 지내다 보면 (Feat. 김민석 of 멜로망스)', 'singer': 'BIG Naughty (서동현)', 'album': '친구로 지내다 보면'}, {'year': '2023', 'week_num': '15', 'date': '2020.06.21~2020.06.27', 'rank': '147', 'music': '흔들리는 꽃들 속에서 네 샴푸향이 느껴진거야', 'singer': '장범준', 'album': '멜로가 체질 OST Part 3'}, {'year': '2023', 'week_num': '15', 'date': '2020.06.14~2020.06.20', 'rank': '148', 'music': '2002', 'singer': 'Anne-Marie', 'album': 'Speak Your Mind (Deluxe)'}, {'year': '2023', 'week_num': '15', 'date': '2020.06.07~2020.06.13', 'rank': '149', 'music': '밤편지', 'singer': '아이유 (IU)', 'album': '밤편지'}, {'year': '2023', 'week_num': '15', 'date': '2020.05.31~2020.06.06', 'rank': '150', 'music': '신호등', 'singer': '이무진', 'album': '신호등'}, {'year': '2023', 'week_num': '15', 'date': '2020.05.24~2020.05.30', 'rank': '151', 'music': '나만, 봄', 'singer': '볼빨간사춘기', 'album': '사춘기집Ⅰ 꽃기운'}, {'year': '2023', 'week_num': '15', 'date': '2020.05.17~2020.05.23', 'rank': '152', 'music': '궁금해 (Next Page)', 'singer': 'IVE (아이브)', 'album': 'I`ve IVE'}, {'year': '2023', 'week_num': '15', 'date': '2020.05.10~2020.05.16', 'rank': '153', 'music': 'Shine With Me', 'singer': 'IVE (아이브)', 'album': 'I`ve IVE'}, {'year': '2023', 'week_num': '15', 'date': '2020.05.03~2020.05.09', 'rank': '154', 'music': 'Cherish', 'singer': 'IVE (아이브)', 'album': 'I`ve IVE'}, {'year': '2023', 'week_num': '15', 'date': '2020.04.26~2020.05.02', 'rank': '155', 'music': 'SET ME FREE', 'singer': 'TWICE', 'album': 'READY TO BE'}, {'year': '2023', 'week_num': '15', 'date': '2020.04.19~2020.04.25', 'rank': '156', 'music': 'Next Level', 'singer': 'aespa', 'album': 'Next Level'}, {'year': '2023', 'week_num': '15', 'date': '2020.04.12~2020.04.18', 'rank': '157', 'music': 'The Drum', 'singer': 'Alan Walker', 'album': 'The Drum'}, {'year': '2023', 'week_num': '15', 'date': '2020.04.05~2020.04.11', 'rank': '158', 'music': 'Kill Bill', 'singer': 'SZA', 'album': 'SOS'}, {'year': '2023', 'week_num': '15', 'date': '2020.03.29~2020.04.04', 'rank': '159', 'music': 'Lemon', 'singer': 'Kenshi Yonezu', 'album': 'Lemon'}, {'year': '2023', 'week_num': '15', 'date': '2020.03.22~2020.03.28', 'rank': '160', 'music': '인생찬가', 'singer': '임영웅', 'album': 'IM HERO'}, {'year': '2023', 'week_num': '15', 'date': '2020.03.15~2020.03.21', 'rank': '161', 'music': 'Love Yourself', 'singer': 'Justin Bieber', 'album': 'Purpose (Deluxe Edition)'}, {'year': '2023', 'week_num': '15', 'date': '2020.03.08~2020.03.14', 'rank': '162', 'music': 'Vancouver', 'singer': 'BIG Naughty (서동현)', 'album': 'Lovey Dovey'}, {'year': '2023', 'week_num': '15', 'date': '2020.03.01~2020.03.07', 'rank': '163', 'music': '다시 사랑한다면 (니글니글 버터플라이)', 'singer': '김필', 'album': '복면가왕 47회'}, {'year': '2023', 'week_num': '15', 'date': '2020.02.23~2020.02.29', 'rank': '164', 'music': '예뻤어', 'singer': 'DAY6', 'album': 'Every DAY6 February'}, {'year': '2023', 'week_num': '15', 'date': '2020.02.16~2020.02.22', 'rank': '165', 'music': 'Made You Look', 'singer': 'Meghan Trainor', 'album': 'Takin` It Back'}, {'year': '2023', 'week_num': '15', 'date': '2020.02.09~2020.02.15', 'rank': '166', 'music': 'Eyes Closed', 'singer': 'Ed Sheeran', 'album': 'Eyes Closed'}, {'year': '2023', 'week_num': '15', 'date': '2020.02.02~2020.02.08', 'rank': '167', 'music': 'A bientot', 'singer': '임영웅', 'album': 'IM HERO'}, {'year': '2023', 'week_num': '15', 'date': '2020.01.26~2020.02.01', 'rank': '168', 'music': '내 손을 잡아', 'singer': '아이유 (IU)', 'album': '최고의 사랑 OST Part 4'}, {'year': '2023', 'week_num': '15', 'date': '2020.01.19~2020.01.25', 'rank': '169', 'music': 'Flowers', 'singer': 'Miley Cyrus', 'album': 'Flowers'}, {'year': '2023', 'week_num': '15', 'date': '2020.01.12~2020.01.18', 'rank': '170', 'music': 'strawberry moon', 'singer': '아이유 (IU)', 'album': 'strawberry moon'}, {'year': '2023', 'week_num': '15', 'date': '2020.01.05~2020.01.11', 'rank': '171', 'music': 'One Call Away', 'singer': 'Charlie Puth', 'album': 'Nine Track Mind (Deluxe)'}, {'year': '2023', 'week_num': '15', 'date': '2019.12.29~2020.01.04', 'rank': '172', 'music': '10,000 Hours', 'singer': 'Dan + Shay, Justin Bieber', 'album': '10,000 Hours'}, {'year': '2023', 'week_num': '15', 'date': '2019.12.22~2019.12.28', 'rank': '173', 'music': 'Celebrity', 'singer': '아이유 (IU)', 'album': 'Celebrity'}, {'year': '2023', 'week_num': '15', 'date': '2019.12.15~2019.12.21', 'rank': '174', 'music': '빛이 나는 너에게', 'singer': '던 (DAWN)', 'album': '빛이 나는 너에게'}, {'year': '2023', 'week_num': '15', 'date': '2019.12.08~2019.12.14', 'rank': '175', 'music': 'Rising', 'singer': 'tripleS (트리플에스)', 'album': 'ASSEMBLE'}, {'year': '2023', 'week_num': '15', 'date': '2019.12.01~2019.12.07', 'rank': '176', 'music': 'INVU', 'singer': '태연 (TAEYEON)', 'album': 'INVU - The 3rd Album'}, {'year': '2023', 'week_num': '15', 'date': '2019.11.24~2019.11.30', 'rank': '177', 'music': 'Bad', 'singer': 'Christopher', 'album': 'Bad'}, {'year': '2023', 'week_num': '15', 'date': '2019.11.17~2019.11.23', 'rank': '178', 'music': '손이 참 곱던 그대', 'singer': '임영웅', 'album': 'IM HERO'}, {'year': '2023', 'week_num': '15', 'date': '2019.11.10~2019.11.16', 'rank': '179', 'music': 'Over Me', 'singer': 'Overdose', 'album': 'BOYS PLANET - ARTIST BATTLE'}, {'year': '2023', 'week_num': '15', 'date': '2019.11.03~2019.11.09', 'rank': '180', 'music': '선물', 'singer': '멜로망스(Melomance)', 'album': 'Moonlight'}, {'year': '2023', 'week_num': '15', 'date': '2019.10.27~2019.11.02', 'rank': '181', 'music': 'Every Second', 'singer': 'Mina Okabe', 'album': 'Every Second'}, {'year': '2023', 'week_num': '15', 'date': '2019.10.20~2019.10.26', 'rank': '182', 'music': '사랑해 진짜', 'singer': '임영웅', 'album': 'IM HERO'}, {'year': '2023', 'week_num': '15', 'date': '2019.10.13~2019.10.19', 'rank': '183', 'music': '눈이 오잖아 (Feat.헤이즈)', 'singer': '이무진', 'album': '눈이 오잖아'}, {'year': '2023', 'week_num': '15', 'date': '2019.10.06~2019.10.12', 'rank': '184', 'music': '스티커 사진', 'singer': '21학번', 'album': '스티커 사진'}, {'year': '2023', 'week_num': '15', 'date': '2019.09.29~2019.10.05', 'rank': '185', 'music': 'En Garde (준비,시작!)', 'singer': 'En Butter', 'album': 'BOYS PLANET - ARTIST BATTLE'}, {'year': '2023', 'week_num': '15', 'date': '2019.09.22~2019.09.28', 'rank': '186', 'music': '어른', 'singer': 'Sondia', 'album': '나의 아저씨 OST Part 2'}, {'year': '2023', 'week_num': '15', 'date': '2019.09.15~2019.09.21', 'rank': '187', 'music': '보금자리', 'singer': '임영웅', 'album': 'IM HERO'}, {'year': '2023', 'week_num': '15', 'date': '2019.09.08~2019.09.14', 'rank': '188', 'music': '연애편지', 'singer': '임영웅', 'album': 'IM HERO'}, {'year': '2023', 'week_num': '15', 'date': '2019.09.01~2019.09.07', 'rank': '189', 'music': '눈을 감고 귀를 막아도', 'singer': '백지영, 길구봉구', 'album': '눈을 감고 귀를 막아도'}, {'year': '2023', 'week_num': '15', 'date': '2019.08.25~2019.08.31', 'rank': '190', 'music': 'Shape of You', 'singer': 'Ed Sheeran', 'album': '÷ (Deluxe)'}, {'year': '2023', 'week_num': '15', 'date': '2019.08.18~2019.08.24', 'rank': '191', 'music': '낭만교향곡 (Feat. CHANGMO, 박재범)', 'singer': 'BIG Naughty (서동현)', 'album': '낭만'}, {'year': '2023', 'week_num': '15', 'date': '2019.08.11~2019.08.17', 'rank': '192', 'music': 'Fall In Love Alone', 'singer': 'Stacey Ryan', 'album': 'Fall In Love Alone'}, {'year': '2023', 'week_num': '15', 'date': '2019.08.04~2019.08.10', 'rank': '193', 'music': 'SMILEY (Feat. BIBI)', 'singer': 'YENA(최예나)', 'album': 'SMiLEY'}, {'year': '2023', 'week_num': '15', 'date': '2019.07.28~2019.08.03', 'rank': '194', 'music': '우린 그렇게 사랑해서', 'singer': '강민경, 잔나비', 'album': '우린 그렇게 사랑해서'}, {'year': '2023', 'week_num': '15', 'date': '2019.07.21~2019.07.27', 'rank': '195', 'music': 'FOREVER 1', 'singer': '소녀시대', 'album': 'FOREVER 1 - The 7th Album'}, {'year': '2023', 'week_num': '15', 'date': '2019.07.14~2019.07.20', 'rank': '196', 'music': '너의 번호를 누르고 (Prod. 영화처럼)', 'singer': '#안녕', 'album': '너의 번호를 누르고'}, {'year': '2023', 'week_num': '15', 'date': '2019.07.07~2019.07.13', 'rank': '197', 'music': 'Face-off', 'singer': '지민', 'album': 'FACE'}, {'year': '2023', 'week_num': '15', 'date': '2019.06.30~2019.07.06', 'rank': '198', 'music': '풍등', 'singer': '이찬원', 'album': 'ONE'}, {'year': '2023', 'week_num': '15', 'date': '2019.06.23~2019.06.29', 'rank': '199', 'music': 'GANADARA (Feat. 아이유)', 'singer': '박재범', 'album': 'GANADARA'}, {'year': '2023', 'week_num': '15', 'date': '2019.06.16~2019.06.22', 'rank': '200', 'music': 'Attention', 'singer': 'Charlie Puth', 'album': 'Voicenotes'}]\n"
     ]
    }
   ],
   "source": [
    "# -*- coding: utf-8 -*-\n",
    "\n",
    "from selenium import webdriver\n",
    "from selenium.webdriver.support.ui import Select\n",
    "import time\n",
    "import pandas as pd\n",
    "\n",
    "def main():\n",
    "\n",
    "    driver = webdriver.Chrome(chrome_path)\n",
    "    driver.get('https://circlechart.kr/page_chart/onoff.circle?serviceGbn=ALL')\n",
    "    url = 'https://circlechart.kr/page_chart/onoff.circle?serviceGbn=ALL'\n",
    "    driver.get(url)\n",
    "    driver.implicitly_wait(3)\n",
    "\n",
    "    # # 주간별 날짜 가져와서 리스트로 만들기\n",
    "    # week_date_list = []\n",
    "    # for i in range(2, 696):\n",
    "    #     date = driver.find_element(By.XPATH, '/html/body/div/main[2]/div/div/aside[4]/section/div[2]/label/select/option[{0}]'.format(i)).text\n",
    "    #     week_date_list.append(date)\n",
    "\n",
    "\n",
    "    music_list=[]\n",
    "    for idx in range(1,2):\n",
    "        dropdown = Select(driver.find_element(By.XPATH, '/html/body/div/main[2]/div/div/aside[4]/section/div[2]/label/select'))  #정렬기준 드롭다운\n",
    "        #case1 - 인덱스 기준으로 주수 찾기 - 주차별로 들어가기\n",
    "        dropdown.select_by_index(idx)\n",
    "        time.sleep(3)\n",
    "        \n",
    "        year, week_num = driver.find_element(By.XPATH, '/html/body/div/main[2]/div/div/aside[2]/div[2]').text.split(' Weeks ')\n",
    "        \n",
    "        # 주 별로 데이터 저장 - 200위까지 불러오기\n",
    "        for i in range(1,201):\n",
    "            rank = driver.find_element(By.XPATH, '//*[@id=\"pc_chart_tbody\"]/tr[{0}]/td[1]/div/span'.format(i)).text\n",
    "            music = driver.find_element(By.XPATH, '//*[@id=\"pc_chart_tbody\"]/tr[{0}]/td[3]/div/section[2]/div/div[1]'.format(i)).text\n",
    "            singer, album = driver.find_element(By.XPATH, '//*[@id=\"pc_chart_tbody\"]/tr[{0}]/td[3]/div/section[2]/div/div[2]'.format(i)).text.split(' | ')\n",
    "\n",
    "            temp = {\n",
    "                'year':year,\n",
    "                'week_num':week_num,\n",
    "                'date':week_date_list[i-1],\n",
    "                'rank':rank,\n",
    "                'music':music,\n",
    "                'singer':singer,\n",
    "                'album':album\n",
    "            }\n",
    "            music_list.append(temp)\n",
    "    print(music_list)\n",
    "\n",
    "    #case2 - 실제 텍스트 기준으로 찾기\n",
    "    #dropdown.selec_by_visible_text(\"경력순\")\n",
    "\n",
    "    #case3 - <option value> 값으로 찾기\n",
    "    #dropdown.select_by_value(\"5\")\n",
    "\n",
    "    \n",
    "\n",
    "    # driver.find_element_by_xpath('//*[@id=\"lb_exceptWord\"]').send_keys('인공지능')  #검색어 입력\n",
    "    # driver.implicitly_wait(3)\n",
    "\n",
    "    # driver.find_element_by_xpath('//*[@id=\"dev-gi-search\"]').click()    #검색 버튼 클릭\n",
    "    # driver.implicitly_wait(3)\n",
    "\n",
    "\t#창 유지를 위한 무한 반복문\n",
    "    # while True :\n",
    "    #     pass\n",
    "\n",
    "\n",
    "if __name__ == \"__main__\":\n",
    "    main()"
   ]
  },
  {
   "cell_type": "code",
   "execution_count": 24,
   "metadata": {},
   "outputs": [
    {
     "name": "stderr",
     "output_type": "stream",
     "text": [
      "C:\\Users\\bin\\AppData\\Local\\Temp\\ipykernel_17232\\307898654.py:10: DeprecationWarning: executable_path has been deprecated, please pass in a Service object\n",
      "  driver = webdriver.Chrome(chrome_path)\n"
     ]
    },
    {
     "ename": "WebDriverException",
     "evalue": "Message: disconnected: Unable to receive message from renderer\n  (failed to check if window was closed: disconnected: not connected to DevTools)\n  (Session info: chrome=112.0.5615.138)\nStacktrace:\nBacktrace:\n\tGetHandleVerifier [0x0117DCE3+50899]\n\t(No symbol) [0x0110E111]\n\t(No symbol) [0x01015588]\n\t(No symbol) [0x01008305]\n\t(No symbol) [0x0100820C]\n\t(No symbol) [0x01006F06]\n\t(No symbol) [0x0100778A]\n\t(No symbol) [0x0101CE34]\n\t(No symbol) [0x010179A0]\n\t(No symbol) [0x010174E1]\n\t(No symbol) [0x01017D4C]\n\t(No symbol) [0x01018690]\n\t(No symbol) [0x0106E98D]\n\t(No symbol) [0x0105B8FC]\n\t(No symbol) [0x0106E01C]\n\t(No symbol) [0x0105B6F6]\n\t(No symbol) [0x01037708]\n\t(No symbol) [0x0103886D]\n\tGetHandleVerifier [0x013E3EAE+2566302]\n\tGetHandleVerifier [0x014192B1+2784417]\n\tGetHandleVerifier [0x0141327C+2759788]\n\tGetHandleVerifier [0x01215740+672048]\n\t(No symbol) [0x01118872]\n\t(No symbol) [0x011141C8]\n\t(No symbol) [0x011142AB]\n\t(No symbol) [0x011071B7]\n\tBaseThreadInitThunk [0x75E500F9+25]\n\tRtlGetAppContainerNamedObjectPath [0x77C07BBE+286]\n\tRtlGetAppContainerNamedObjectPath [0x77C07B8E+238]\n",
     "output_type": "error",
     "traceback": [
      "\u001b[1;31m---------------------------------------------------------------------------\u001b[0m",
      "\u001b[1;31mWebDriverException\u001b[0m                        Traceback (most recent call last)",
      "Cell \u001b[1;32mIn[24], line 27\u001b[0m\n\u001b[0;32m     25\u001b[0m dropdown \u001b[39m=\u001b[39m Select(driver\u001b[39m.\u001b[39mfind_element(By\u001b[39m.\u001b[39mXPATH, \u001b[39m'\u001b[39m\u001b[39m/html/body/div/main[2]/div/div/aside[4]/section/div[2]/label/select\u001b[39m\u001b[39m'\u001b[39m))  \u001b[39m#정렬기준 드롭다운\u001b[39;00m\n\u001b[0;32m     26\u001b[0m \u001b[39m#case1 - 인덱스 기준으로 주수 찾기 - 주차별로 들어가기\u001b[39;00m\n\u001b[1;32m---> 27\u001b[0m dropdown\u001b[39m.\u001b[39;49mselect_by_index(idx)\n\u001b[0;32m     28\u001b[0m time\u001b[39m.\u001b[39msleep(\u001b[39m3\u001b[39m)\n\u001b[0;32m     30\u001b[0m year, week_num \u001b[39m=\u001b[39m driver\u001b[39m.\u001b[39mfind_element(By\u001b[39m.\u001b[39mXPATH, \u001b[39m'\u001b[39m\u001b[39m/html/body/div/main[2]/div/div/aside[2]/div[2]\u001b[39m\u001b[39m'\u001b[39m)\u001b[39m.\u001b[39mtext\u001b[39m.\u001b[39msplit(\u001b[39m'\u001b[39m\u001b[39m Weeks \u001b[39m\u001b[39m'\u001b[39m)\n",
      "File \u001b[1;32mc:\\Users\\bin\\anaconda3\\envs\\shinhanAI\\Lib\\site-packages\\selenium\\webdriver\\support\\select.py:94\u001b[0m, in \u001b[0;36mSelect.select_by_index\u001b[1;34m(self, index)\u001b[0m\n\u001b[0;32m     92\u001b[0m match \u001b[39m=\u001b[39m \u001b[39mstr\u001b[39m(index)\n\u001b[0;32m     93\u001b[0m \u001b[39mfor\u001b[39;00m opt \u001b[39min\u001b[39;00m \u001b[39mself\u001b[39m\u001b[39m.\u001b[39moptions:\n\u001b[1;32m---> 94\u001b[0m     \u001b[39mif\u001b[39;00m opt\u001b[39m.\u001b[39;49mget_attribute(\u001b[39m\"\u001b[39;49m\u001b[39mindex\u001b[39;49m\u001b[39m\"\u001b[39;49m) \u001b[39m==\u001b[39m match:\n\u001b[0;32m     95\u001b[0m         \u001b[39mself\u001b[39m\u001b[39m.\u001b[39m_set_selected(opt)\n\u001b[0;32m     96\u001b[0m         \u001b[39mreturn\u001b[39;00m\n",
      "File \u001b[1;32mc:\\Users\\bin\\anaconda3\\envs\\shinhanAI\\Lib\\site-packages\\selenium\\webdriver\\remote\\webelement.py:178\u001b[0m, in \u001b[0;36mWebElement.get_attribute\u001b[1;34m(self, name)\u001b[0m\n\u001b[0;32m    176\u001b[0m \u001b[39mif\u001b[39;00m getAttribute_js \u001b[39mis\u001b[39;00m \u001b[39mNone\u001b[39;00m:\n\u001b[0;32m    177\u001b[0m     _load_js()\n\u001b[1;32m--> 178\u001b[0m attribute_value \u001b[39m=\u001b[39m \u001b[39mself\u001b[39;49m\u001b[39m.\u001b[39;49mparent\u001b[39m.\u001b[39;49mexecute_script(\n\u001b[0;32m    179\u001b[0m     \u001b[39mf\u001b[39;49m\u001b[39m\"\u001b[39;49m\u001b[39m/* getAttribute */return (\u001b[39;49m\u001b[39m{\u001b[39;49;00mgetAttribute_js\u001b[39m}\u001b[39;49;00m\u001b[39m).apply(null, arguments);\u001b[39;49m\u001b[39m\"\u001b[39;49m, \u001b[39mself\u001b[39;49m, name\n\u001b[0;32m    180\u001b[0m )\n\u001b[0;32m    181\u001b[0m \u001b[39mreturn\u001b[39;00m attribute_value\n",
      "File \u001b[1;32mc:\\Users\\bin\\anaconda3\\envs\\shinhanAI\\Lib\\site-packages\\selenium\\webdriver\\remote\\webdriver.py:500\u001b[0m, in \u001b[0;36mWebDriver.execute_script\u001b[1;34m(self, script, *args)\u001b[0m\n\u001b[0;32m    497\u001b[0m converted_args \u001b[39m=\u001b[39m \u001b[39mlist\u001b[39m(args)\n\u001b[0;32m    498\u001b[0m command \u001b[39m=\u001b[39m Command\u001b[39m.\u001b[39mW3C_EXECUTE_SCRIPT\n\u001b[1;32m--> 500\u001b[0m \u001b[39mreturn\u001b[39;00m \u001b[39mself\u001b[39;49m\u001b[39m.\u001b[39;49mexecute(command, {\u001b[39m\"\u001b[39;49m\u001b[39mscript\u001b[39;49m\u001b[39m\"\u001b[39;49m: script, \u001b[39m\"\u001b[39;49m\u001b[39margs\u001b[39;49m\u001b[39m\"\u001b[39;49m: converted_args})[\u001b[39m\"\u001b[39m\u001b[39mvalue\u001b[39m\u001b[39m\"\u001b[39m]\n",
      "File \u001b[1;32mc:\\Users\\bin\\anaconda3\\envs\\shinhanAI\\Lib\\site-packages\\selenium\\webdriver\\remote\\webdriver.py:440\u001b[0m, in \u001b[0;36mWebDriver.execute\u001b[1;34m(self, driver_command, params)\u001b[0m\n\u001b[0;32m    438\u001b[0m response \u001b[39m=\u001b[39m \u001b[39mself\u001b[39m\u001b[39m.\u001b[39mcommand_executor\u001b[39m.\u001b[39mexecute(driver_command, params)\n\u001b[0;32m    439\u001b[0m \u001b[39mif\u001b[39;00m response:\n\u001b[1;32m--> 440\u001b[0m     \u001b[39mself\u001b[39;49m\u001b[39m.\u001b[39;49merror_handler\u001b[39m.\u001b[39;49mcheck_response(response)\n\u001b[0;32m    441\u001b[0m     response[\u001b[39m\"\u001b[39m\u001b[39mvalue\u001b[39m\u001b[39m\"\u001b[39m] \u001b[39m=\u001b[39m \u001b[39mself\u001b[39m\u001b[39m.\u001b[39m_unwrap_value(response\u001b[39m.\u001b[39mget(\u001b[39m\"\u001b[39m\u001b[39mvalue\u001b[39m\u001b[39m\"\u001b[39m, \u001b[39mNone\u001b[39;00m))\n\u001b[0;32m    442\u001b[0m     \u001b[39mreturn\u001b[39;00m response\n",
      "File \u001b[1;32mc:\\Users\\bin\\anaconda3\\envs\\shinhanAI\\Lib\\site-packages\\selenium\\webdriver\\remote\\errorhandler.py:245\u001b[0m, in \u001b[0;36mErrorHandler.check_response\u001b[1;34m(self, response)\u001b[0m\n\u001b[0;32m    243\u001b[0m         alert_text \u001b[39m=\u001b[39m value[\u001b[39m\"\u001b[39m\u001b[39malert\u001b[39m\u001b[39m\"\u001b[39m]\u001b[39m.\u001b[39mget(\u001b[39m\"\u001b[39m\u001b[39mtext\u001b[39m\u001b[39m\"\u001b[39m)\n\u001b[0;32m    244\u001b[0m     \u001b[39mraise\u001b[39;00m exception_class(message, screen, stacktrace, alert_text)  \u001b[39m# type: ignore[call-arg]  # mypy is not smart enough here\u001b[39;00m\n\u001b[1;32m--> 245\u001b[0m \u001b[39mraise\u001b[39;00m exception_class(message, screen, stacktrace)\n",
      "\u001b[1;31mWebDriverException\u001b[0m: Message: disconnected: Unable to receive message from renderer\n  (failed to check if window was closed: disconnected: not connected to DevTools)\n  (Session info: chrome=112.0.5615.138)\nStacktrace:\nBacktrace:\n\tGetHandleVerifier [0x0117DCE3+50899]\n\t(No symbol) [0x0110E111]\n\t(No symbol) [0x01015588]\n\t(No symbol) [0x01008305]\n\t(No symbol) [0x0100820C]\n\t(No symbol) [0x01006F06]\n\t(No symbol) [0x0100778A]\n\t(No symbol) [0x0101CE34]\n\t(No symbol) [0x010179A0]\n\t(No symbol) [0x010174E1]\n\t(No symbol) [0x01017D4C]\n\t(No symbol) [0x01018690]\n\t(No symbol) [0x0106E98D]\n\t(No symbol) [0x0105B8FC]\n\t(No symbol) [0x0106E01C]\n\t(No symbol) [0x0105B6F6]\n\t(No symbol) [0x01037708]\n\t(No symbol) [0x0103886D]\n\tGetHandleVerifier [0x013E3EAE+2566302]\n\tGetHandleVerifier [0x014192B1+2784417]\n\tGetHandleVerifier [0x0141327C+2759788]\n\tGetHandleVerifier [0x01215740+672048]\n\t(No symbol) [0x01118872]\n\t(No symbol) [0x011141C8]\n\t(No symbol) [0x011142AB]\n\t(No symbol) [0x011071B7]\n\tBaseThreadInitThunk [0x75E500F9+25]\n\tRtlGetAppContainerNamedObjectPath [0x77C07BBE+286]\n\tRtlGetAppContainerNamedObjectPath [0x77C07B8E+238]\n"
     ]
    }
   ],
   "source": [
    "# -*- coding: utf-8 -*-\n",
    "\n",
    "from selenium import webdriver\n",
    "from selenium.webdriver.support.ui import Select\n",
    "import time\n",
    "import pandas as pd\n",
    "\n",
    "\n",
    "\n",
    "driver = webdriver.Chrome(chrome_path)\n",
    "driver.get('https://circlechart.kr/page_chart/onoff.circle?serviceGbn=ALL')\n",
    "url = 'https://circlechart.kr/page_chart/onoff.circle?serviceGbn=ALL'\n",
    "driver.get(url)\n",
    "driver.implicitly_wait(3)\n",
    "\n",
    "# # 주간별 날짜 가져와서 리스트로 만들기\n",
    "# week_date_list = []\n",
    "# for i in range(2, 696):\n",
    "#     date = driver.find_element(By.XPATH, '/html/body/div/main[2]/div/div/aside[4]/section/div[2]/label/select/option[{0}]'.format(i)).text\n",
    "#     week_date_list.append(date)\n",
    "\n",
    "\n",
    "music_list=[]\n",
    "for idx in range(1,695):\n",
    "    dropdown = Select(driver.find_element(By.XPATH, '/html/body/div/main[2]/div/div/aside[4]/section/div[2]/label/select'))  #정렬기준 드롭다운\n",
    "    #case1 - 인덱스 기준으로 주수 찾기 - 주차별로 들어가기\n",
    "    dropdown.select_by_index(idx)\n",
    "    time.sleep(3)\n",
    "    \n",
    "    year, week_num = driver.find_element(By.XPATH, '/html/body/div/main[2]/div/div/aside[2]/div[2]').text.split(' Weeks ')\n",
    "    \n",
    "    # 주 별로 데이터 저장 - 200위까지 불러오기\n",
    "    for i in range(1,201):\n",
    "        rank = driver.find_element(By.XPATH, '//*[@id=\"pc_chart_tbody\"]/tr[{0}]/td[1]/div/span'.format(i)).text\n",
    "        music = driver.find_element(By.XPATH, '//*[@id=\"pc_chart_tbody\"]/tr[{0}]/td[3]/div/section[2]/div/div[1]'.format(i)).text\n",
    "        singer, album = driver.find_element(By.XPATH, '//*[@id=\"pc_chart_tbody\"]/tr[{0}]/td[3]/div/section[2]/div/div[2]'.format(i)).text.split(' | ')\n",
    "        start_date, end_date = week_date_list[idx-1].split('~')\n",
    "\n",
    "        temp = {\n",
    "            'year':year,\n",
    "            'week_num':week_num,\n",
    "            'start_date':start_date,\n",
    "            'end_date':end_date,\n",
    "            'rank':rank,\n",
    "            'music':music,\n",
    "            'singer':singer,\n",
    "            'album':album\n",
    "        }\n",
    "        music_list.append(temp)\n",
    "\n",
    "\n",
    "#case2 - 실제 텍스트 기준으로 찾기\n",
    "#dropdown.selec_by_visible_text(\"경력순\")\n",
    "\n",
    "#case3 - <option value> 값으로 찾기\n",
    "#dropdown.select_by_value(\"5\")\n",
    "\n",
    "\n",
    "\n",
    "# driver.find_element_by_xpath('//*[@id=\"lb_exceptWord\"]').send_keys('인공지능')  #검색어 입력\n",
    "# driver.implicitly_wait(3)\n",
    "\n",
    "# driver.find_element_by_xpath('//*[@id=\"dev-gi-search\"]').click()    #검색 버튼 클릭\n",
    "# driver.implicitly_wait(3)\n",
    "\n",
    "#창 유지를 위한 무한 반복문\n",
    "# while True :\n",
    "#     pass\n",
    "\n",
    "\n"
   ]
  },
  {
   "cell_type": "code",
   "execution_count": 21,
   "metadata": {},
   "outputs": [],
   "source": [
    "music_data = pd.DataFrame(music_list)\n",
    "music_data.to_csv('./music_data_sample')"
   ]
  },
  {
   "cell_type": "code",
   "execution_count": 102,
   "metadata": {},
   "outputs": [
    {
     "name": "stdout",
     "output_type": "stream",
     "text": [
      "15\n",
      "14\n",
      "13\n",
      "12\n",
      "11\n",
      "10\n",
      "9\n",
      "8\n",
      "7\n",
      "6\n",
      "5\n",
      "4\n",
      "3\n",
      "2\n",
      "1\n"
     ]
    }
   ],
   "source": [
    "for week_num in range(15,0,-1):\n",
    "    print(week_num)"
   ]
  },
  {
   "cell_type": "code",
   "execution_count": null,
   "metadata": {},
   "outputs": [],
   "source": []
  }
 ],
 "metadata": {
  "kernelspec": {
   "display_name": "Python 3",
   "language": "python",
   "name": "python3"
  },
  "language_info": {
   "codemirror_mode": {
    "name": "ipython",
    "version": 3
   },
   "file_extension": ".py",
   "mimetype": "text/x-python",
   "name": "python",
   "nbconvert_exporter": "python",
   "pygments_lexer": "ipython3",
   "version": "3.11.3"
  },
  "orig_nbformat": 4
 },
 "nbformat": 4,
 "nbformat_minor": 2
}
