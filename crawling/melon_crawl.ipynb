{
 "cells": [
  {
   "attachments": {},
   "cell_type": "markdown",
   "metadata": {},
   "source": [
    "# 멜론 크롤링\n",
    "1.노래 리스트 받아와서 쿼리 바꿔서 검색\n",
    "그 안에서 id 찾아서 -> 노래 id 리스트업\n",
    "2.노래 id로 노래상세페이지 쿼리바꿔가면서 데이터 크롤링 - 발매일, 장르, 좋아요수, 댓글수"
   ]
  },
  {
   "cell_type": "code",
   "execution_count": 9,
   "metadata": {},
   "outputs": [],
   "source": [
    "import time\n",
    "import pandas as pd\n",
    "import bs4\n",
    "from bs4 import BeautifulSoup\n",
    "import requests"
   ]
  },
  {
   "cell_type": "code",
   "execution_count": 4,
   "metadata": {},
   "outputs": [],
   "source": [
    "# 1. 노래 리스트에서 가져와서 노래별로 id 찾기\n",
    "music_list = ['and july', 'cupid', '꽃']\n",
    "singer_list = ['heize', '피프티피프티', '지수']\n",
    "\n",
    "# 띄어쓰기는 +로 바꿔주기\n",
    "music_list = [m.replace(' ', '+') for m in music_list]\n",
    "singer_list = [s.replace(' ', '+') for s in singer_list]"
   ]
  },
  {
   "cell_type": "code",
   "execution_count": 135,
   "metadata": {},
   "outputs": [
    {
     "data": {
      "text/plain": [
       "['8271355', '36206259', '36331121']"
      ]
     },
     "execution_count": 135,
     "metadata": {},
     "output_type": "execute_result"
    }
   ],
   "source": [
    "\n",
    "# 2. 노래 id 찾아서 code_list 만들기\n",
    "# https://www.melon.com/search/total/index.htm?q=heize+and+july\n",
    "\n",
    "code_list=[]\n",
    "for idx, music in enumerate(music_list):\n",
    "    base_url = 'https://www.melon.com/search/total/index.htm?q='\n",
    "    URL = base_url + singer_list[idx] + '+' + music\n",
    "    header = {\"User-Agent\":\"Mozilla/5.0 (Windows NT 10.0; Win64; x64) AppleWebKit/537.36 (KHTML, like Gecko) Chrome/100.0.4896.75 Safari/537.36\"}\n",
    "    response = requests.get(URL,headers=header)\n",
    "    soup = BeautifulSoup(response.text, 'html.parser')\n",
    "\n",
    "    links = soup.select_one('#frm_songList > div > table > tbody > tr:nth-child(1) > td:nth-child(1) > div > input')\n",
    "    code = links.attrs['value']\n",
    "    code_list.append(code)\n",
    "code_list"
   ]
  },
  {
   "cell_type": "code",
   "execution_count": 145,
   "metadata": {},
   "outputs": [
    {
     "name": "stdout",
     "output_type": "stream",
     "text": [
      "뮤비 코드:50152059 뮤비좋아요:2309, 뮤비뷰수588781\n",
      "노래코드:8271355 발매일2016.07.18, 장르랩/힙합 좋아요182074\n",
      "--------------------------------------------------------------\n",
      "뮤비 코드:50260014 뮤비좋아요:217, 뮤비뷰수8829\n",
      "노래코드:36206259 발매일2023.02.24, 장르댄스 좋아요50755\n",
      "--------------------------------------------------------------\n",
      "뮤비 코드:50260334 뮤비좋아요:1488, 뮤비뷰수116284\n",
      "노래코드:36331121 발매일2023.03.31, 장르댄스 좋아요86179\n",
      "--------------------------------------------------------------\n"
     ]
    }
   ],
   "source": [
    "# 노래 id로 노래상세페이지 쿼리바꿔가면서 데이터 크롤링 - 발매일, 장르, 좋아요수, 댓글수\n",
    "# 뮤비 데이터 - 좋아요, 뷰\n",
    "\n",
    "import json\n",
    "import re\n",
    "\n",
    "for code in code_list:\n",
    "    header = {\"User-Agent\":\"Mozilla/5.0 (Windows NT 10.0; Win64; x64) AppleWebKit/537.36 (KHTML, like Gecko) Chrome/100.0.4896.75 Safari/537.36\"}\n",
    "    URL = f'https://www.melon.com/song/detail.htm?songId={code}'\n",
    "    response_1 = requests.get(URL,headers=header)\n",
    "    soup = BeautifulSoup(response_1.text, 'html.parser')\n",
    "\n",
    "    # 발매일, 장르\n",
    "    release_date = soup.select_one('#downloadfrm > div > div > div.entry > div.meta > dl > dd:nth-child(4)').text\n",
    "    category = soup.select_one('#downloadfrm > div > div > div.entry > div.meta > dl > dd:nth-child(6)').text\n",
    "    \n",
    "    # 뮤비 고유 code 가져오기\n",
    "    movie = soup.select_one('#conts > div.section_movie > div.service_list_video.type03.d_video_list > ul > li > div.thumb > a')\n",
    "    movie = movie.attrs['href']\n",
    "    movie = re.sub('[a-zA-z:.(\\')]', '', movie)\n",
    "    movie_code = movie.split(', ')[1]\n",
    "\n",
    "    # 뮤비 고유 코드 이용해서 json 접근해서 뮤비 뷰수와 좋아요 가져오기\n",
    "    URL_3 = f'https://www.melon.com/commonlike/getMvLikeWithReadCnt.json?contsIds={movie_code}'\n",
    "    response_3 = requests.get(URL_3, headers=header).text\n",
    "    movie_json = json.loads(response_3)\n",
    "    movie_like = movie_json['contsLike'][0]['LOVECNT']\n",
    "    movie_views = movie_json['contsLike'][0]['READCNT']\n",
    "    print(f'뮤비 코드:{movie_code} 뮤비좋아요:{movie_like}, 뮤비뷰수{movie_views}')\n",
    "\n",
    "    # 좋아요 가져오기위해 json으로 접근\n",
    "    URL_2 = f'https://www.melon.com/commonlike/getSongLike.json?contsIds={code}'\n",
    "    response_2 = requests.get(URL_2,headers=header).text\n",
    "\n",
    "    like_json = json.loads(response_2)\n",
    "    like_count = like_json['contsLike'][0]['SUMMCNT']\n",
    "\n",
    "    print(f'노래코드:{code} 발매일{release_date}, 장르{category} 좋아요{like_count}')\n",
    "    print('--------------------------------------------------------------')"
   ]
  },
  {
   "cell_type": "code",
   "execution_count": null,
   "metadata": {},
   "outputs": [],
   "source": []
  },
  {
   "cell_type": "code",
   "execution_count": null,
   "metadata": {},
   "outputs": [],
   "source": []
  },
  {
   "cell_type": "code",
   "execution_count": null,
   "metadata": {},
   "outputs": [],
   "source": []
  }
 ],
 "metadata": {
  "kernelspec": {
   "display_name": "Python 3",
   "language": "python",
   "name": "python3"
  },
  "language_info": {
   "codemirror_mode": {
    "name": "ipython",
    "version": 3
   },
   "file_extension": ".py",
   "mimetype": "text/x-python",
   "name": "python",
   "nbconvert_exporter": "python",
   "pygments_lexer": "ipython3",
   "version": "3.11.3"
  },
  "orig_nbformat": 4
 },
 "nbformat": 4,
 "nbformat_minor": 2
}
