{
 "cells": [
  {
   "attachments": {},
   "cell_type": "markdown",
   "metadata": {},
   "source": [
    "# 음악 흥행 예측 모델"
   ]
  },
  {
   "attachments": {},
   "cell_type": "markdown",
   "metadata": {},
   "source": [
    "## 1.데이터 수집\n",
    "### 1-1 가온데이터 수집"
   ]
  },
  {
   "cell_type": "code",
   "execution_count": 2,
   "metadata": {},
   "outputs": [],
   "source": [
    "from selenium import webdriver\n",
    "from selenium.webdriver.common.by import By\n",
    "from selenium.webdriver.common.keys import Keys\n",
    "import json\n",
    "import pandas as pd\n",
    "import os\n",
    "import re\n",
    "import time\n",
    "import requests\n",
    "from bs4 import BeautifulSoup\n",
    "import json\n",
    "import numpy as np"
   ]
  },
  {
   "cell_type": "code",
   "execution_count": 10,
   "metadata": {},
   "outputs": [],
   "source": [
    "# 가온 디지털차트의 주간 날짜 딕셔너리 만들기\n",
    "url = 'https://circlechart.kr/page_chart/onoff.circle?nationGbn=T&serviceGbn=ALL&'\n",
    "# 주차별 날짜 리스트 뽑기\n",
    "res = requests.get(url)\n",
    "soup = BeautifulSoup(res.text, 'html.parser')\n",
    "results = soup.select_one('body > div > main.hidden.md\\:block > div > div > aside.mt-14.text-\\[12px\\] > section > div.float-right > label > select')\n",
    "week_date_list = results.text.split('\\n')\n",
    "\n",
    "date_dict = {}\n",
    "for i in range(2,len(week_date_list)-1):\n",
    "    week_key = soup.select_one('body > div > main.hidden.md\\:block > div > div > aside.mt-14.text-\\[12px\\] > section > div.float-right > label > select > option:nth-child({0})'.format(i))\n",
    "    week_key = week_key.attrs['value']\n",
    "    date_dict[week_key] = week_date_list[i]\n",
    "\n",
    "# json 파일로 저장\n",
    "with open('date_dict.json', 'w') as f : \n",
    "\tjson.dump(date_dict, f)\n",
    "        \n",
    "\n",
    "# 가온 디지털차트의 주간 날짜 딕셔너리 json 데이터 읽어오기\n",
    "with open('date_dict.json', 'r') as f:\n",
    "    date_dict = json.load(f)\n",
    "\n",
    "# 셀레니움을 위한 크롬 드라이버 설정\n",
    "chrome_path = r\"C:\\Users\\chromedriver.exe\"\n",
    "driver = webdriver.Chrome(chrome_path)\n",
    "\n",
    "\n",
    "#필요한 폴더 없으면 생성\n",
    "crawler_DIR = os.listdir('.')\n",
    "   \n",
    "if 'data' not in crawler_DIR:\n",
    "    #폴더생성\n",
    "    os.makedirs('./data')\n",
    "\n",
    " os.makedirs('./data/melon_data')\n",
    "    \n",
    "for year in range(2013,2024):\n",
    "\n",
    "    for week_num in range(1,54):\n",
    "\n",
    "        week_num = str(week_num).zfill(2)\n",
    "        date_key = str(year) + str(week_num)\n",
    "\n",
    "        url = f'https://circlechart.kr/page_chart/onoff.circle?nationGbn=T&serviceGbn=ALL&targetTime={week_num}&hitYear={year}&termGbn=week&yearTime=3'\n",
    "        driver.get(url)\n",
    "\n",
    "\n",
    "        elements = driver.find_elements(By.CSS_SELECTOR, '#pc_chart_tbody tr')\n",
    "        result = []\n",
    "        for idx, element in enumerate(elements):\n",
    "\n",
    "            start_date, end_date = date_dict[date_key].split('~')\n",
    "            rank = element.find_element(By.CSS_SELECTOR, 'td > div > span').text\n",
    "            music = element.find_element(By.CSS_SELECTOR, 'td:nth-child(3) > div > section:nth-child(2) > div > div.font-bold.mb-2').text\n",
    "            singer, album = element.find_element(By.CSS_SELECTOR, 'td:nth-child(3) > div > section:nth-child(2) > div > div.text-sm.text-gray-400.font-bold').text.split(' | ')\n",
    "            # production = element.find_element(By.CSS_SELECTOR, 'td.text-left.text-xs > div:nth-child(1) > span').text\n",
    "            # distribution = element.find_element(By.CSS_SELECTOR, 'td.text-left.text-xs > div.mt-2 > span').text\n",
    "\n",
    "            temp = {\n",
    "                'year':year,\n",
    "                'week_num':week_num,\n",
    "                'start_date':start_date,\n",
    "                'end_date':end_date,\n",
    "                'rank':rank,\n",
    "                'music':music,\n",
    "                'singer':singer,\n",
    "                'album':album,\n",
    "                # 'production':production,\n",
    "                # 'distribution':distribution\n",
    "            }\n",
    "            \n",
    "            result.append(temp)\n",
    "\n",
    "        df = pd.DataFrame(result)\n",
    "        df.to_csv(f'./data/gaon_data_{year}{week_num}.csv')\n",
    "\n",
    "gaon_data_list = os.listdir('./data/')\n",
    "list_tmp_df = []\n",
    "for data in gaon_data_list:\n",
    "\n",
    "    df = pd.read_csv(f'./data/{data}', index_col=0)\n",
    "    df = df[:100]\n",
    "\n",
    "    try:\n",
    "        # 글자 행 삭제\n",
    "        drop_index = df.loc[df['year']=='year'].index\n",
    "        df = df.drop(drop_index, axis=0)\n",
    "    except:\n",
    "        pass\n",
    "    list_tmp_df.append(df)\n",
    "    \n",
    "gaon_df = pd.concat(list_tmp_df, ignore_index=True)\n",
    "gaon_df = gaon_df[['year', 'week_num', 'start_date', 'end_date', 'rank', 'music', 'singer', 'album']]\n",
    "\n",
    "gaon_df.to_csv('./data/gaon_final_data.csv')"
   ]
  },
  {
   "attachments": {},
   "cell_type": "markdown",
   "metadata": {},
   "source": [
    "### 1-2 멜론 데이터 수집"
   ]
  },
  {
   "cell_type": "code",
   "execution_count": null,
   "metadata": {},
   "outputs": [],
   "source": [
    "melon_final_result = []\n",
    "for year in range(2013,2024):\n",
    "    df = pd.read_csv('./data/gaon_final_data.csv', index_col=0)\n",
    "    df = df.loc[df['year']==year]\n",
    "\n",
    "    # 노래제목 리스트\n",
    "    music_list = df['music'].unique().tolist()\n",
    "    music_list = music_list[500:]\n",
    "\n",
    "    # singer\n",
    "    for music in music_list:\n",
    "        try:\n",
    "            singer = df['singer'].loc[df['music']==music].tolist()[0]\n",
    "        except:\n",
    "            print('오류', music)\n",
    "\n",
    "\n",
    "    # 노래 id 딕셔너리 만들기 (key:노래id값, value:노래 제목)\n",
    "    id_dict={}\n",
    "    for music in music_list:\n",
    "        singer = df['singer'].loc[df['music']==music].tolist()[0]\n",
    "\n",
    "        # 가수이름 - 정규표현식으로 괄호 안의 내용 모두 삭제\n",
    "        if singer.find('(') != -1:\n",
    "            singer = re.sub('\\([^)]*\\)','', singer) \n",
    "        else:\n",
    "            pass\n",
    "\n",
    "        # 노래제목 - 정규표현식으로 괄호 안의 내용 모두 삭제\n",
    "        if music.find('(') != -1:\n",
    "            music = re.sub('\\([^)]*\\)','', music) \n",
    "        else:\n",
    "            pass\n",
    "        \n",
    "        singer = singer.rstrip()\n",
    "        music = music.rstrip()\n",
    "\n",
    "        # 공백을 '+'로 바꿔줌\n",
    "        music = music.replace(' ', '+')\n",
    "        singer = singer.replace(' ', '+')\n",
    "\n",
    "        # 특수문자 제거\n",
    "        singer = re.sub('[-=+#/\\?:^.@*\\\"※~ㆍ!』‘|\\(\\)\\[\\]`\\'…》\\”\\“\\’·]', \"\",singer)\n",
    "\n",
    "        print(f'music:{music}, singer:{singer}')\n",
    "\n",
    "        try:\n",
    "            URL = f'https://www.melon.com/search/total/index.htm?q={music}+{singer}'\n",
    "            header = {\"User-Agent\":\"Mozilla/5.0 (Windows NT 10.0; Win64; x64) AppleWebKit/537.36 (KHTML, like Gecko) Chrome/100.0.4896.75 Safari/537.36\"}\n",
    "            response = requests.get(URL,headers=header)\n",
    "            time.sleep(1)\n",
    "            soup = BeautifulSoup(response.text, 'html.parser')\n",
    "\n",
    "            # try:\n",
    "            links = soup.select_one('#frm_songList > div > table > tbody > tr:nth-child(1) > td:nth-child(1) > div > input')\n",
    "            #frm_songList > div > table > tbody > tr:nth-child(1) > td:nth-child(1) > div > input\n",
    "\n",
    "            music_id = links.attrs['value']\n",
    "            print(music_id)\n",
    "        except:\n",
    "            print(f'오류, music:{music}')\n",
    "            pass\n",
    "\n",
    "        # +을 공백로 바꿔줌\n",
    "        music = music.replace('+', ' ')\n",
    "        singer = singer.replace('+', ' ')\n",
    "\n",
    "        id_dict[music_id] = [music, singer]\n",
    "        time.sleep(1)\n",
    "\n",
    "    # 노래 id만 있는 리스트 \n",
    "    id_list = list(id_dict.keys())\n",
    "\n",
    "\n",
    "\n",
    "    # 데이터 뽑아오기\n",
    "    result = []\n",
    "\n",
    "    for id in id_list:\n",
    "        music = id_dict[id][0]\n",
    "        singer = id_dict[id][1]\n",
    "        print(f'현재 {music} 크롤링 중')\n",
    "\n",
    "        try:\n",
    "            URL_1 = f'https://www.melon.com/song/detail.htm?songId={id}'\n",
    "            response_1 = requests.get(URL_1,headers=header)\n",
    "            time.sleep(1)\n",
    "            soup = BeautifulSoup(response_1.text, 'html.parser')\n",
    "\n",
    "            # 발매일, 장르\n",
    "            release_date = soup.select_one('#downloadfrm > div > div > div.entry > div.meta > dl > dd:nth-child(4)').text\n",
    "            category = soup.select_one('#downloadfrm > div > div > div.entry > div.meta > dl > dd:nth-child(6)').text\n",
    "            \n",
    "\n",
    "            # 좋아요 개수 json 접근\n",
    "            URL_2 = f'https://www.melon.com/commonlike/getSongLike.json?contsIds={id}'\n",
    "            response_2 = requests.get(URL_2,headers=header).text\n",
    "            time.sleep(1)\n",
    "            like_json = json.loads(response_2)\n",
    "            music_like = like_json['contsLike'][0]['SUMMCNT']\n",
    "\n",
    "            # 코멘트 개수 json 접근\n",
    "            URL_3 = f'https://www.melon.com/song/songReviewCnt.json?songId={id}'\n",
    "            response_3 = requests.get(URL_3,headers=header).text\n",
    "            time.sleep(1)\n",
    "\n",
    "            comment_json = json.loads(response_3)\n",
    "            comment_count = comment_json['reviewValidCmtCnt']\n",
    "\n",
    "            temp = {\n",
    "            'music':music,\n",
    "            'singer':singer,\n",
    "            'music_id':id,\n",
    "            'release_date':release_date,\n",
    "            'category':category,\n",
    "            'music_like':music_like,\n",
    "            'comment_count':comment_count,\n",
    "        }\n",
    "\n",
    "            result.append(temp)\n",
    "        except:\n",
    "            print(f'오류, music:{music}')\n",
    "            pass\n",
    "\n",
    "\n",
    "    df = pd.DataFrame(result)\n",
    "    df.to_csv(f'./data/melon_data/melon_data_{year}.csv')\n",
    "    \n",
    "melon_data_list = os.listdir('./data/melon_data')\n",
    "\n",
    "list_tmp_df_m = []\n",
    "for data in melon_data_list:\n",
    "    df = pd.read_csv(f'./data/melon_data/{data}')\n",
    "\n",
    "    # 글자 행 삭제 후 week_num값을 int로 형변환\n",
    "    drop_index = df.loc[df['music']=='music'].index\n",
    "    df = df.drop(drop_index, axis=0)\n",
    "\n",
    "    list_tmp_df_m.append(df)\n",
    "\n",
    "melon_df = pd.concat(list_tmp_df_m, ignore_index=True)\n",
    "melon_df = melon_df[['music','singer','music_id','release_date','category','music_like','comment_count']]"
   ]
  },
  {
   "attachments": {},
   "cell_type": "markdown",
   "metadata": {},
   "source": [
    "## 2.데이터 전처리"
   ]
  },
  {
   "cell_type": "code",
   "execution_count": 2,
   "metadata": {},
   "outputs": [],
   "source": [
    "# 저장한 데이터 불러오기\n",
    "import pandas as pd\n",
    "gaon_df = pd.read_csv('../data/gaon_final_data.csv', index_col=0)\n",
    "melon_df = pd.read_csv('../data/melon_final_data.csv', index_col=0)"
   ]
  },
  {
   "attachments": {},
   "cell_type": "markdown",
   "metadata": {},
   "source": [
    "### 2-0 데이터 타입 변환"
   ]
  },
  {
   "cell_type": "code",
   "execution_count": 3,
   "metadata": {},
   "outputs": [],
   "source": [
    "gaon_df['start_date'] = pd.to_datetime(gaon_df['start_date'], format='%Y.%m.%d')\n",
    "gaon_df['end_date'] = pd.to_datetime(gaon_df['end_date'], format='%Y.%m.%d')\n",
    "melon_df['release_date'] = pd.to_datetime(melon_df['release_date'], format='%Y.%m.%d')"
   ]
  },
  {
   "attachments": {},
   "cell_type": "markdown",
   "metadata": {},
   "source": [
    "### 2-1 데이터 특수문자 공백제거"
   ]
  },
  {
   "cell_type": "code",
   "execution_count": 4,
   "metadata": {},
   "outputs": [],
   "source": [
    "gaon_df['music'] = gaon_df['music'].str.lower()\n",
    "gaon_df['singer'] = gaon_df['singer'].str.lower()"
   ]
  },
  {
   "cell_type": "code",
   "execution_count": 8,
   "metadata": {},
   "outputs": [],
   "source": [
    "import numpy as np\n",
    "import re\n",
    "\n",
    "def Save_Bracket(df, column):\n",
    "    '''데이터의 괄호 안의 내용을 컬럼으로 추가하는 함수입니다.'''\n",
    "    result = []\n",
    "    new_column = []\n",
    "    for i in range(len(df)):\n",
    "        data = df.iloc[i][f'{column}']\n",
    "\n",
    "        # 소문자로 바꾸기\n",
    "        data = data.lower()\n",
    "\n",
    "        # 괄호 안 내용 저장\n",
    "        if data.find('(') != -1:\n",
    "            p = re.compile('\\(([^)]+)')\n",
    "            data_bracket = p.findall(data)[0]\n",
    "            # 괄호 삭제\n",
    "            data = re.sub('\\([^)]*\\)','', data)\n",
    "            # 양 쪽 공백 제거\n",
    "            data = data.strip()\n",
    "\n",
    "            # 리스트에 데이터 추가\n",
    "            result.append(data)\n",
    "            new_column.append(data_bracket)\n",
    "            \n",
    "        else:\n",
    "            result.append(data)\n",
    "            new_column.append(np.NaN)\n",
    "\n",
    "    df[f'{column}'] = result\n",
    "    df[f'{column} bracket'] = new_column\n",
    "\n",
    "    return df\n",
    "\n",
    "\n",
    "def Make_Clean_Name(df, column):\n",
    "    '''음악 데이터를 정제하는 함수입니다'''\n",
    "    result = []\n",
    "    for i in range(len(df)):\n",
    "        data = df.iloc[i][f'{column}']\n",
    "\n",
    "        # 특수문자 제거 (콤마는 빼고 제거)\n",
    "        data = re.sub('[-=+#/\\?:^.@★*\\\"※~ㆍ!』‘|\\(\\)\\[\\]`\\'…》\\”\\“\\’·]', \" \",data)\n",
    "\n",
    "        # 소문자로 바꾸기\n",
    "        data = data.lower()\n",
    "        \n",
    "        if column == 'singer':\n",
    "            # 가수이름은 모든 공백 제거\n",
    "            data = data.replace(' ','')\n",
    "        else:  \n",
    "            # 앞,뒤 공백 제거\n",
    "            data = data.strip()\n",
    "\n",
    "        result.append(data)\n",
    "\n",
    "    df[f'{column}'] = result\n",
    "\n",
    "    return df\n",
    "\n",
    "\n",
    "# gaon_df 전처리\n",
    "gaon_df = Save_Bracket(gaon_df, 'music')\n",
    "gaon_df = Save_Bracket(gaon_df, 'singer')\n",
    "gaon_df = Make_Clean_Name(gaon_df, 'music')\n",
    "gaon_df = Make_Clean_Name(gaon_df, 'singer')\n",
    "\n",
    "# melon_df 전처리\n",
    "melon_df = Make_Clean_Name(melon_df, 'music')\n",
    "melon_df = Make_Clean_Name(melon_df, 'singer')"
   ]
  },
  {
   "attachments": {},
   "cell_type": "markdown",
   "metadata": {},
   "source": [
    "### 2-2 차트에 든 횟수 DV(종속변수) 컬럼 만들기"
   ]
  },
  {
   "cell_type": "code",
   "execution_count": 9,
   "metadata": {},
   "outputs": [],
   "source": [
    "gaon_df['singer-music'] = gaon_df['singer'] + '-' + gaon_df['music']\n",
    "DV_df = pd.DataFrame(gaon_df['singer-music'].value_counts())\n",
    "DV_df.reset_index(drop=False, inplace=True)\n",
    "DV_df.rename(columns={'index':'singer-music', 'singer-music':'rank_count'}, inplace=True)"
   ]
  },
  {
   "attachments": {},
   "cell_type": "markdown",
   "metadata": {},
   "source": [
    "### 2-3 멜론데이터에 가온차트 start_date 데이터 컬럼으로 추가"
   ]
  },
  {
   "cell_type": "code",
   "execution_count": 10,
   "metadata": {},
   "outputs": [],
   "source": [
    "def Add_startdate(df1, df2):\n",
    "    date_list = []\n",
    "    for i in range(len(df1)):\n",
    "\n",
    "        music = df1['music'].iloc[i]\n",
    "        singer = df1['singer'].iloc[i]\n",
    "\n",
    "        try:\n",
    "            start_date = df2['start_date'].loc[(df2['music']==music) & ((df2['singer']==singer)|(df2['singer bracket']==singer))].iloc[0]\n",
    "            date_list.append(start_date)\n",
    "        except:\n",
    "            date_list.append(np.NaN)\n",
    "\n",
    "    df1['start_date'] = date_list\n",
    "\n",
    "    return df1\n",
    "\n"
   ]
  },
  {
   "cell_type": "code",
   "execution_count": 11,
   "metadata": {},
   "outputs": [],
   "source": [
    "melon_df = Add_startdate(melon_df, gaon_df)"
   ]
  },
  {
   "attachments": {},
   "cell_type": "markdown",
   "metadata": {},
   "source": [
    "### 2-4 발매 7일이내 순위 진입 컬럼 추가"
   ]
  },
  {
   "cell_type": "code",
   "execution_count": null,
   "metadata": {},
   "outputs": [],
   "source": [
    "# 날짜 datetime 형식으로 변환환\n",
    "melon_df['start_date'] = pd.to_datetime(melon_df['start_date'])\n",
    "melon_df['release_date'] = pd.to_datetime(melon_df['release_date'])\n"
   ]
  },
  {
   "cell_type": "code",
   "execution_count": null,
   "metadata": {},
   "outputs": [],
   "source": [
    "\n",
    "# 7일 계산해서 calculate컬럼으로 추가\n",
    "melon_df['calculate'] = melon_df['release_date'] - melon_df['start_date']\n",
    "# 7일이내면 값 1, 아니면 0\n",
    "melon_df['within 7days'] =  abs(melon_df['calculate']) < pd.Timedelta(days=7).replace({True:1, False:0})\n",
    "# melon_df['within 7days'].replace({True:1, False:0}, inplace=True)\n",
    "\n",
    "# 쓸모없는 컬럼 삭제\n",
    "melon_df.drop(columns=['start_date', 'calculate'], inplace=True)"
   ]
  },
  {
   "attachments": {},
   "cell_type": "markdown",
   "metadata": {},
   "source": [
    "### 2-5 카테고리의 국내드라마 데이터로 OST컬럼 생성"
   ]
  },
  {
   "cell_type": "code",
   "execution_count": null,
   "metadata": {},
   "outputs": [],
   "source": [
    "# ost컬럼 추가 + 카테고리에서 발라드,국내드라마에서 국내드라마는 삭제\n",
    "def Make_OST_column(df):\n",
    "    ost_list = []\n",
    "    category_list = []\n",
    "\n",
    "    for i in range(len(df)):\n",
    "        category = df['category'].iloc[i]\n",
    "        try:\n",
    "            a, b = category.split(', ')\n",
    "            if b == '국내드라마':\n",
    "                ost_list.append(1)\n",
    "                category_list.append(a)\n",
    "            else:\n",
    "                ost_list.append(0)\n",
    "                category_list.append(category)\n",
    "        except:\n",
    "            ost_list.append(0)\n",
    "            category_list.append(category)\n",
    "\n",
    "    df['ost'] = ost_list\n",
    "    df['category'] = category_list\n",
    "\n",
    "    return df\n",
    "\n",
    "melon_df = Make_OST_column(melon_df)"
   ]
  },
  {
   "cell_type": "code",
   "execution_count": null,
   "metadata": {},
   "outputs": [],
   "source": [
    "\n",
    "# 고유값인 가수-노래제목 컬럼 만들기\n",
    "melon_df['singer-music'] = melon_df['singer']+'-'+melon_df['music']\n",
    "\n",
    "# 가수-노래제목 기준으로 중복 제거\n",
    "melon_df.drop_duplicates(subset='singer-music', inplace=True)\n",
    "\n",
    "# 인덱스 재정렬\n",
    "melon_df.reset_index(drop=True, inplace=True)"
   ]
  },
  {
   "attachments": {},
   "cell_type": "markdown",
   "metadata": {},
   "source": [
    "### 2-6 종속변수 생성 - 가온 차트인 횟수"
   ]
  },
  {
   "cell_type": "code",
   "execution_count": null,
   "metadata": {},
   "outputs": [],
   "source": [
    "# 가수 괄호 딕셔너리 만들기\n",
    "singer_bracket_dict = {}\n",
    "bracket_df = gaon_df[gaon_df['singer bracket'].notnull()]\n",
    "bracket_df = bracket_df[['singer', 'singer bracket']]\n",
    "bracket_dict = bracket_df.set_index('singer').T.to_dict('records')\n",
    "bracket_dict = bracket_dict[0]\n",
    "\n",
    "# 종속변수 붙이기\n",
    "\n",
    "def Make_DV(df1, df2, dict):\n",
    "    \n",
    "    count_list = []\n",
    "    for i in range(len(df1)):\n",
    "\n",
    "        # 멜론 데이터에 있는 노래가 DV_1에 있는 지 확인 후, rank_count 데이터 붙이기\n",
    "        singer_music = df1['singer-music'].iloc[i]\n",
    "        singer = df1['singer'].iloc[i]\n",
    "        music = df1['music'].iloc[i]\n",
    "\n",
    "        try:\n",
    "            # 괄호 안의 이름으로도 찾아보기\n",
    "            singer_bracket = dict[singer]\n",
    "            global singer_singerbracket\n",
    "            singer_singerbracket = singer_bracket+'-'+music\n",
    "            \n",
    "\n",
    "            # DV_df에 해당 노래가 있으면, rank_count값을 리스트에 추가\n",
    "            if len(df2.loc[(df2['singer-music']==singer_music)|(df2['singer-music']==singer_singerbracket)]) > 0:\n",
    "                rank_count = df2['rank_count'].loc[(df2['singer-music']==singer_music)|(df2['singer-music']==singer_singerbracket)].iloc[0]\n",
    "                count_list.append(rank_count)\n",
    "            else:\n",
    "                count_list.append(np.NaN)\n",
    "        except:\n",
    "            # DV_df에 해당 노래가 있으면, rank_count값을 리스트에 추가\n",
    "            if len(df2.loc[(df2['singer-music']==singer_music)]) > 0:\n",
    "                rank_count = df2['rank_count'].loc[df2['singer-music']==singer_music].iloc[0]\n",
    "                count_list.append(rank_count)\n",
    "            else:\n",
    "                count_list.append(np.NaN)\n",
    "\n",
    "    df1['rank_count'] = count_list\n",
    "\n",
    "    return df1\n",
    "\n",
    "music_df = Make_DV(melon_df, DV_df, bracket_dict)\n",
    "\n",
    "# 필요없는 컬럼 singer-music 삭제\n",
    "music_df.drop(columns=['singer-music'], inplace=True, axis=0)"
   ]
  },
  {
   "cell_type": "code",
   "execution_count": null,
   "metadata": {},
   "outputs": [],
   "source": [
    "music_df.columns"
   ]
  },
  {
   "attachments": {},
   "cell_type": "markdown",
   "metadata": {},
   "source": [
    "## 3.EDA"
   ]
  },
  {
   "cell_type": "code",
   "execution_count": 12,
   "metadata": {},
   "outputs": [],
   "source": [
    "#Library for modelling\n",
    "from sklearn.preprocessing import LabelEncoder #Encodes Categorical Data into Numerical\n",
    "from sklearn.model_selection import train_test_split #For spliting data into training and testing sets\n",
    "from sklearn.linear_model import LinearRegression #Linear Regression model\n",
    "from sklearn.linear_model import Lasso #Lasso regression model\n",
    "from sklearn.linear_model import Ridge #Ridge Regression Model\n",
    "from sklearn.ensemble import RandomForestRegressor#Random Forest Regression Model\n",
    "from sklearn.metrics import mean_absolute_error \n",
    "\n",
    "#Libraries for Deep Learning\n",
    "from keras.callbacks import ModelCheckpoint\n",
    "from keras.models import Sequential\n",
    "from keras.layers import Dense, Activation, Flatten\n",
    "\n",
    "#Library for Data Visualization\n",
    "import seaborn as sns\n",
    "import matplotlib.pyplot as plt\n",
    "from matplotlib.pyplot import figure\n",
    "\n",
    "%matplotlib inline\n",
    "\n",
    "# 한글 폰트 사용을 위해서 세팅\n",
    "from matplotlib import font_manager, rc\n",
    "font_path = \"./NanumGothic.ttf\"\n",
    "font = font_manager.FontProperties(fname=font_path).get_name()\n",
    "rc('font', family=font)"
   ]
  },
  {
   "cell_type": "code",
   "execution_count": 13,
   "metadata": {},
   "outputs": [
    {
     "data": {
      "text/plain": [
       "<Axes: title={'center': 'Top 10 music_like category'}, xlabel='category', ylabel='music_like'>"
      ]
     },
     "execution_count": 13,
     "metadata": {},
     "output_type": "execute_result"
    },
    {
     "data": {
      "image/png": "[encoded data removed]",
      "text/plain": [
       "<Figure size 2000x800 with 1 Axes>"
      ]
     },
     "metadata": {},
     "output_type": "display_data"
    }
   ],
   "source": [
    "#Sorting by music_like\n",
    "sort_streams=music_df.sort_values(by=['music_like'],ascending=False)\n",
    "\n",
    "plt.figure(figsize=(20,8))\n",
    "plt.title(\"Top 10 music_like category\")\n",
    "sns.barplot(x='category',y='music_like',data=sort_streams.head(10))"
   ]
  },
  {
   "cell_type": "code",
   "execution_count": 14,
   "metadata": {},
   "outputs": [
    {
     "data": {
      "text/plain": [
       "<Axes: title={'center': 'Top 10 Most Liked Artists'}, xlabel='singer', ylabel='music_like'>"
      ]
     },
     "execution_count": 14,
     "metadata": {},
     "output_type": "execute_result"
    },
    {
     "data": {
      "image/png": "[encoded data removed]",
      "text/plain": [
       "<Figure size 2000x800 with 1 Axes>"
      ]
     },
     "metadata": {},
     "output_type": "display_data"
    }
   ],
   "source": [
    "plt.figure(figsize=(20,8))\n",
    "plt.title(\"Top 10 Most Liked Artists\")\n",
    "sns.barplot(x='singer',y='music_like',data=sort_streams.head(10))"
   ]
  },
  {
   "cell_type": "code",
   "execution_count": 16,
   "metadata": {},
   "outputs": [
    {
     "name": "stderr",
     "output_type": "stream",
     "text": [
      "C:\\Users\\bin\\AppData\\Local\\Temp\\ipykernel_36560\\1449779839.py:2: FutureWarning: The default value of numeric_only in DataFrame.corr is deprecated. In a future version, it will default to False. Select only valid columns or specify the value of numeric_only to silence this warning.\n",
      "  corr=music_df.corr()\n"
     ]
    },
    {
     "data": {
      "text/plain": [
       "<Axes: >"
      ]
     },
     "execution_count": 16,
     "metadata": {},
     "output_type": "execute_result"
    },
    {
     "data": {
      "image/png": "[encoded data removed]",
      "text/plain": [
       "<Figure size 1200x1200 with 2 Axes>"
      ]
     },
     "metadata": {},
     "output_type": "display_data"
    }
   ],
   "source": [
    "#Calculating Correlation\n",
    "corr=music_df.corr()\n",
    "\n",
    "#Plotting Correlation\n",
    "plt.figure(figsize=(12,12))\n",
    "sns.heatmap(corr,annot=True,cmap=\"GnBu\")"
   ]
  },
  {
   "attachments": {},
   "cell_type": "markdown",
   "metadata": {},
   "source": [
    "## 4.모델링\n",
    "### 4-1 데이터 전처리 - word2vec"
   ]
  },
  {
   "cell_type": "code",
   "execution_count": 17,
   "metadata": {},
   "outputs": [],
   "source": [
    "from gensim.models.word2vec import Word2Vec\n",
    "\n",
    "m_singer_list = music_df['singer'].tolist()\n",
    "\n",
    "#모델 불러오기\n",
    "#리스트인 melon_singer를 word2vec , mincount 1로 1개이상 값은 다 \n",
    "\n",
    "# model = Word2Vec(sentences=[m_singer_list], min_count=1)\n",
    "model = Word2Vec(sentences=[m_singer_list], min_count=1, vector_size=1)\n",
    "\n",
    "singer_w2_dict = {}\n",
    "for singer in m_singer_list:\n",
    "    singer_w2_dict[singer] = model.wv[singer]\n",
    "\n",
    "\n",
    "\n",
    "# singer값을 word2vec 데이터로 바꾸기\n",
    "def make_word2vec_column(df,column,dict):\n",
    "    w2_list = []\n",
    "    for i in range(len(df)):\n",
    "\n",
    "        singer = df[f'{column}'].iloc[i]\n",
    "        try:\n",
    "            data = dict[singer][0]\n",
    "            w2_list.append(data)\n",
    "        except:\n",
    "            w2_list.append(np.NaN)\n",
    "\n",
    "    df[f'{column}'] = w2_list\n",
    "\n",
    "    return df\n",
    "\n",
    "music_df = make_word2vec_column(music_df,'singer',singer_w2_dict)"
   ]
  },
  {
   "attachments": {},
   "cell_type": "markdown",
   "metadata": {},
   "source": [
    "### 4-2 데이터 전처리 - 카테고리 변수 원핫인코딩"
   ]
  },
  {
   "cell_type": "code",
   "execution_count": 18,
   "metadata": {},
   "outputs": [
    {
     "name": "stderr",
     "output_type": "stream",
     "text": [
      "c:\\Users\\bin\\anaconda3\\envs\\shinhanAI\\lib\\site-packages\\sklearn\\preprocessing\\_encoders.py:868: FutureWarning: `sparse` was renamed to `sparse_output` in version 1.2 and will be removed in 1.4. `sparse_output` is ignored unless you leave `sparse` to its default value.\n",
      "  warnings.warn(\n"
     ]
    }
   ],
   "source": [
    "# 카테고리 맨 앞꺼 빼고 삭제하는 함수\n",
    "def delete_category(df):\n",
    "    cate = []\n",
    "\n",
    "    for i in range(len(df)):\n",
    "        category = df['category'].iloc[i]\n",
    "        category_list = category.split(',')\n",
    "        cate.append(category_list[0])\n",
    "\n",
    "    df['category'] = cate\n",
    "\n",
    "    return df\n",
    "music_df = delete_category(music_df)\n",
    "\n",
    "\n",
    "from sklearn.preprocessing import OneHotEncoder\n",
    "ohe = OneHotEncoder(sparse=False)\n",
    "# fit_transform은 train에만 사용하고 test에는 학습된 인코더에 fit만 해야한다\n",
    "\n",
    "train_cat = ohe.fit_transform(music_df[['category']])\n",
    "music_df = pd.concat([music_df.drop(columns=['category']),\n",
    "           pd.DataFrame(train_cat, columns=['category_' + col for col in ohe.categories_[0]])], axis=1)\n",
    "\n",
    "\n",
    "# 사용 안할 컬럼 삭제\n",
    "music_df.drop(columns=['music','release_date'], axis=0, inplace=True)"
   ]
  },
  {
   "attachments": {},
   "cell_type": "markdown",
   "metadata": {},
   "source": [
    "### 4-3 모델링"
   ]
  },
  {
   "cell_type": "code",
   "execution_count": null,
   "metadata": {},
   "outputs": [],
   "source": [
    "import numpy as np\n",
    "from sklearn.model_selection import train_test_split\n",
    "from sklearn.metrics import r2_score, mean_squared_log_error as msle\n",
    "from sklearn.linear_model import LinearRegression\n",
    "from sklearn.tree import DecisionTreeRegressor\n",
    "from sklearn.ensemble import RandomForestRegressor\n",
    "from xgboost import XGBRegressor\n",
    "\n",
    "def get_scores(model, xtrain, xtest, ytrain, ytest):\n",
    "  pred1 = model.predict(xtrain)\n",
    "  pred2 = model.predict(xtest)\n",
    "\n",
    "  A1 = r2_score(ytrain, pred1)\n",
    "  A2 = r2_score(ytest, pred2)\n",
    "\n",
    "  # mlse는 음수 안됨\n",
    "  pred2 = np.where(pred2<0, 0, pred2)\n",
    "  B = msle(ytest, pred2)\n",
    "  C = np.sqrt(B) #rmsle\n",
    "\n",
    "  data = [round(x, 4) for x in [A1, A2, C]]\n",
    "  names = 'r2_train r2_test rmsle'.split()\n",
    "\n",
    "  temp = pd.Series(data, index=names)\n",
    "  return temp\n",
    "\n",
    "\n",
    "def make_models(xtrain, xtest, ytrain, ytest):\n",
    "  temp = pd.DataFrame()\n",
    "\n",
    "  model1 = LinearRegression().fit(xtrain, ytrain)\n",
    "  temp['model1'] = get_scores(model1, xtrain, xtest, ytrain, ytest)\n",
    "\n",
    "  model2 = DecisionTreeRegressor(random_state=0).fit(xtrain, ytrain)\n",
    "  temp['model2'] = get_scores(model2, xtrain, xtest, ytrain, ytest)\n",
    "  for d in range(3,9):\n",
    "    model2 = DecisionTreeRegressor(max_depth = d, random_state=0).fit(xtrain, ytrain)\n",
    "    temp[f'model2_{d}'] = get_scores(model2, xtrain, xtest, ytrain, ytest)\n",
    "\n",
    "  model3 = RandomForestRegressor(random_state=0).fit(xtrain, ytrain)\n",
    "  temp['model3'] = get_scores(model3, xtrain, xtest, ytrain, ytest)\n",
    "  for d in range(3,9):\n",
    "    model3 = RandomForestRegressor(max_depth = d, random_state=0).fit(xtrain, ytrain)\n",
    "    temp[f'model3_{d}'] = get_scores(model3, xtrain, xtest, ytrain, ytest)\n",
    "\n",
    "  model4 = XGBRegressor(objective='reg:squarederror').fit(xtrain, ytrain)\n",
    "  temp['model4'] = get_scores(model4, xtrain, xtest, ytrain, ytest)\n",
    "\n",
    "  temp = temp.T\n",
    "  return temp\n",
    "\n",
    "\n",
    "# 데이터 분리\n",
    "# XF, YF 분리 후에\n",
    "YF = music_df['rank']\n",
    "XF = music_df.drop(columns='rank', axis=1)\n",
    "xtrain, xtest, ytrain, ytest = train_test_split(XF, YF, test_size=0.2, random_state=0)"
   ]
  },
  {
   "cell_type": "code",
   "execution_count": 20,
   "metadata": {},
   "outputs": [
    {
     "name": "stdout",
     "output_type": "stream",
     "text": [
      "0.9450273028860358\n",
      "        Id  Predicted Streams  Actual Stream\n",
      "1729  1729               8.16             11\n",
      "3640  3640               1.86              1\n",
      "3218  3218              13.14              1\n",
      "3000  3000              55.38            268\n",
      "3912  3912               7.26              1\n",
      "...    ...                ...            ...\n",
      "4141  4141               3.56              7\n",
      "295    295               1.82              1\n",
      "1129  1129               1.86              2\n",
      "1988  1988               1.18              1\n",
      "455    455               9.04             11\n",
      "\n",
      "[877 rows x 3 columns]\n"
     ]
    }
   ],
   "source": [
    "from sklearn.model_selection import train_test_split\n",
    "\n",
    "training_data, testing_data = train_test_split(music_df, test_size=0.2, random_state=25)\n",
    "\n",
    "testing_data_rank=testing_data['rank_count']\n",
    "testing_data=testing_data.drop('rank_count', axis=1)\n",
    "\n",
    "x_train=training_data.drop('rank_count',axis=1)\n",
    "y_train=training_data['rank_count']\n",
    "\n",
    "\n",
    "#Random Forest Regression\n",
    "r_model=RandomForestRegressor(n_estimators=50)\n",
    "r_model.fit(x_train,y_train)\n",
    "print(r_model.score(x_train,y_train))\n",
    "\n",
    "#Making predictions on test set \n",
    "r_predict=r_model.predict(testing_data)\n",
    "\n",
    "r_output=pd.DataFrame({'Id':testing_data.index,'Predicted Streams':r_predict,'Actual Stream':testing_data_rank})\n",
    "print(r_output)"
   ]
  }
 ],
 "metadata": {
  "kernelspec": {
   "display_name": "Python 3",
   "language": "python",
   "name": "python3"
  },
  "language_info": {
   "codemirror_mode": {
    "name": "ipython",
    "version": 3
   },
   "file_extension": ".py",
   "mimetype": "text/x-python",
   "name": "python",
   "nbconvert_exporter": "python",
   "pygments_lexer": "ipython3",
   "version": "3.10.9"
  },
  "orig_nbformat": 4
 },
 "nbformat": 4,
 "nbformat_minor": 2
}
