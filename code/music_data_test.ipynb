{
 "cells": [
  {
   "attachments": {},
   "cell_type": "markdown",
   "metadata": {},
   "source": [
    "# 4/25 데이터 확인"
   ]
  },
  {
   "attachments": {},
   "cell_type": "markdown",
   "metadata": {},
   "source": [
    "## 우빈 데이터"
   ]
  },
  {
   "cell_type": "code",
   "execution_count": 65,
   "metadata": {},
   "outputs": [],
   "source": [
    "import pandas as pd\n",
    "\n",
    "df_gaon_w = pd.read_csv('./gaon0425(2).csv')\n",
    "df_gaon_w = df_gaon_w[['year','week_num','start_date','end_date','rank', 'music', 'singer', 'album']]"
   ]
  },
  {
   "cell_type": "code",
   "execution_count": 66,
   "metadata": {},
   "outputs": [
    {
     "name": "stdout",
     "output_type": "stream",
     "text": [
      "<class 'pandas.core.frame.DataFrame'>\n",
      "RangeIndex: 9988 entries, 0 to 9987\n",
      "Data columns (total 8 columns):\n",
      " #   Column      Non-Null Count  Dtype \n",
      "---  ------      --------------  ----- \n",
      " 0   year        9988 non-null   int64 \n",
      " 1   week_num    9988 non-null   int64 \n",
      " 2   start_date  9988 non-null   object\n",
      " 3   end_date    9988 non-null   object\n",
      " 4   rank        9988 non-null   int64 \n",
      " 5   music       9988 non-null   object\n",
      " 6   singer      9988 non-null   object\n",
      " 7   album       9988 non-null   object\n",
      "dtypes: int64(3), object(5)\n",
      "memory usage: 624.4+ KB\n"
     ]
    }
   ],
   "source": [
    "df_gaon_w.info()"
   ]
  },
  {
   "cell_type": "code",
   "execution_count": 67,
   "metadata": {},
   "outputs": [
    {
     "data": {
      "text/plain": [
       "2021    4020\n",
       "2020    2958\n",
       "2022    2410\n",
       "2023     600\n",
       "Name: year, dtype: int64"
      ]
     },
     "execution_count": 67,
     "metadata": {},
     "output_type": "execute_result"
    }
   ],
   "source": [
    "df_gaon_w['year'].value_counts()"
   ]
  },
  {
   "cell_type": "code",
   "execution_count": 68,
   "metadata": {},
   "outputs": [
    {
     "data": {
      "text/plain": [
       "44"
      ]
     },
     "execution_count": 68,
     "metadata": {},
     "output_type": "execute_result"
    }
   ],
   "source": [
    "len(df_gaon_w.loc[df_gaon_w['year']==2022]['week_num'].unique().tolist())"
   ]
  },
  {
   "cell_type": "code",
   "execution_count": 69,
   "metadata": {},
   "outputs": [
    {
     "data": {
      "text/plain": [
       "43"
      ]
     },
     "execution_count": 69,
     "metadata": {},
     "output_type": "execute_result"
    }
   ],
   "source": [
    "len(df_gaon_w.loc[df_gaon_w['year']==2021]['week_num'].unique().tolist())"
   ]
  },
  {
   "cell_type": "code",
   "execution_count": 70,
   "metadata": {},
   "outputs": [
    {
     "data": {
      "text/plain": [
       "42"
      ]
     },
     "execution_count": 70,
     "metadata": {},
     "output_type": "execute_result"
    }
   ],
   "source": [
    "len(df_gaon_w.loc[df_gaon_w['year']==2020]['week_num'].unique().tolist())"
   ]
  },
  {
   "cell_type": "code",
   "execution_count": 71,
   "metadata": {},
   "outputs": [
    {
     "name": "stdout",
     "output_type": "stream",
     "text": [
      "1주차 0개 뽑힘\n",
      "2주차 0개 뽑힘\n",
      "3주차 0개 뽑힘\n",
      "4주차 0개 뽑힘\n",
      "5주차 0개 뽑힘\n",
      "6주차 0개 뽑힘\n",
      "7주차 0개 뽑힘\n",
      "8주차 0개 뽑힘\n",
      "9주차 0개 뽑힘\n",
      "10주차 100개 뽑힘\n",
      "11주차 99개 뽑힘\n",
      "12주차 98개 뽑힘\n",
      "13주차 96개 뽑힘\n",
      "14주차 95개 뽑힘\n",
      "15주차 94개 뽑힘\n",
      "16주차 92개 뽑힘\n",
      "17주차 91개 뽑힘\n",
      "18주차 90개 뽑힘\n",
      "19주차 88개 뽑힘\n",
      "20주차 87개 뽑힘\n",
      "21주차 86개 뽑힘\n",
      "22주차 84개 뽑힘\n",
      "23주차 83개 뽑힘\n",
      "24주차 82개 뽑힘\n",
      "25주차 80개 뽑힘\n",
      "26주차 79개 뽑힘\n",
      "27주차 78개 뽑힘\n",
      "28주차 76개 뽑힘\n",
      "29주차 75개 뽑힘\n",
      "30주차 74개 뽑힘\n",
      "31주차 72개 뽑힘\n",
      "32주차 71개 뽑힘\n",
      "33주차 70개 뽑힘\n",
      "34주차 68개 뽑힘\n",
      "35주차 67개 뽑힘\n",
      "36주차 65개 뽑힘\n",
      "37주차 2개 뽑힘\n",
      "38주차 0개 뽑힘\n",
      "39주차 28개 뽑힘\n",
      "40주차 100개 뽑힘\n",
      "41주차 100개 뽑힘\n",
      "42주차 100개 뽑힘\n",
      "43주차 27개 뽑힘\n",
      "44주차 100개 뽑힘\n",
      "45주차 100개 뽑힘\n",
      "46주차 100개 뽑힘\n",
      "47주차 16개 뽑힘\n",
      "48주차 14개 뽑힘\n",
      "49주차 13개 뽑힘\n",
      "50주차 8개 뽑힘\n",
      "51주차 6개 뽑힘\n",
      "52주차 4개 뽑힘\n"
     ]
    }
   ],
   "source": [
    "# 2020년도의 주차들 다 100위씩 뽑혔는지 확인\n",
    "for i in range(1,53):\n",
    "    count_num = len(df_gaon_w.loc[(df_gaon_w['year']==2020) & (df_gaon_w['week_num']==i)])\n",
    "    print(f'{i}주차 {count_num}개 뽑힘')"
   ]
  },
  {
   "cell_type": "code",
   "execution_count": 72,
   "metadata": {},
   "outputs": [
    {
     "name": "stdout",
     "output_type": "stream",
     "text": [
      "1주차 0개 뽑힘\n",
      "2주차 0개 뽑힘\n",
      "3주차 0개 뽑힘\n",
      "4주차 0개 뽑힘\n",
      "5주차 0개 뽑힘\n",
      "6주차 0개 뽑힘\n",
      "7주차 0개 뽑힘\n",
      "8주차 0개 뽑힘\n",
      "9주차 0개 뽑힘\n",
      "10주차 100개 뽑힘\n",
      "11주차 100개 뽑힘\n",
      "12주차 100개 뽑힘\n",
      "13주차 100개 뽑힘\n",
      "14주차 100개 뽑힘\n",
      "15주차 100개 뽑힘\n",
      "16주차 100개 뽑힘\n",
      "17주차 100개 뽑힘\n",
      "18주차 100개 뽑힘\n",
      "19주차 100개 뽑힘\n",
      "20주차 100개 뽑힘\n",
      "21주차 100개 뽑힘\n",
      "22주차 100개 뽑힘\n",
      "23주차 100개 뽑힘\n",
      "24주차 100개 뽑힘\n",
      "25주차 100개 뽑힘\n",
      "26주차 100개 뽑힘\n",
      "27주차 100개 뽑힘\n",
      "28주차 100개 뽑힘\n",
      "29주차 100개 뽑힘\n",
      "30주차 100개 뽑힘\n",
      "31주차 100개 뽑힘\n",
      "32주차 100개 뽑힘\n",
      "33주차 100개 뽑힘\n",
      "34주차 99개 뽑힘\n",
      "35주차 97개 뽑힘\n",
      "36주차 96개 뽑힘\n",
      "37주차 94개 뽑힘\n",
      "38주차 93개 뽑힘\n",
      "39주차 91개 뽑힘\n",
      "40주차 89개 뽑힘\n",
      "41주차 88개 뽑힘\n",
      "42주차 86개 뽑힘\n",
      "43주차 85개 뽑힘\n",
      "44주차 83개 뽑힘\n",
      "45주차 82개 뽑힘\n",
      "46주차 81개 뽑힘\n",
      "47주차 80개 뽑힘\n",
      "48주차 78개 뽑힘\n",
      "49주차 77개 뽑힘\n",
      "50주차 75개 뽑힘\n",
      "51주차 74개 뽑힘\n",
      "52주차 72개 뽑힘\n"
     ]
    }
   ],
   "source": [
    "# 2021년도의 주차들 다 100위씩 뽑혔는지 확인\n",
    "for i in range(1,53):\n",
    "    count_num = len(df_gaon_w.loc[(df_gaon_w['year']==2021) & (df_gaon_w['week_num']==i)])\n",
    "    print(f'{i}주차 {count_num}개 뽑힘')"
   ]
  },
  {
   "cell_type": "markdown",
   "metadata": {},
   "source": [
    "## 성법데이터"
   ]
  },
  {
   "cell_type": "code",
   "execution_count": 39,
   "metadata": {},
   "outputs": [],
   "source": [
    "df_gaon = pd.read_csv('./gaon_seong.csv')\n",
    "df_gaon = df_gaon[['year','week_num','start_date','end_date','rank', 'music', 'singer', 'album']]"
   ]
  },
  {
   "cell_type": "code",
   "execution_count": 64,
   "metadata": {},
   "outputs": [
    {
     "name": "stdout",
     "output_type": "stream",
     "text": [
      "1주차 0개 뽑힘\n",
      "2주차 0개 뽑힘\n",
      "3주차 0개 뽑힘\n",
      "4주차 0개 뽑힘\n",
      "5주차 0개 뽑힘\n",
      "6주차 0개 뽑힘\n",
      "7주차 0개 뽑힘\n",
      "8주차 0개 뽑힘\n",
      "9주차 0개 뽑힘\n",
      "10주차 100개 뽑힘\n",
      "11주차 100개 뽑힘\n",
      "12주차 100개 뽑힘\n",
      "13주차 100개 뽑힘\n",
      "14주차 100개 뽑힘\n",
      "15주차 100개 뽑힘\n",
      "16주차 100개 뽑힘\n",
      "17주차 100개 뽑힘\n",
      "18주차 100개 뽑힘\n",
      "19주차 100개 뽑힘\n",
      "20주차 100개 뽑힘\n",
      "21주차 100개 뽑힘\n",
      "22주차 100개 뽑힘\n",
      "23주차 100개 뽑힘\n",
      "24주차 100개 뽑힘\n",
      "25주차 100개 뽑힘\n",
      "26주차 100개 뽑힘\n",
      "27주차 100개 뽑힘\n",
      "28주차 100개 뽑힘\n",
      "29주차 100개 뽑힘\n",
      "30주차 99개 뽑힘\n",
      "31주차 96개 뽑힘\n",
      "32주차 94개 뽑힘\n",
      "33주차 93개 뽑힘\n",
      "34주차 91개 뽑힘\n",
      "35주차 89개 뽑힘\n",
      "36주차 88개 뽑힘\n",
      "37주차 86개 뽑힘\n",
      "38주차 85개 뽑힘\n",
      "39주차 83개 뽑힘\n",
      "40주차 81개 뽑힘\n",
      "41주차 80개 뽑힘\n",
      "42주차 78개 뽑힘\n",
      "43주차 77개 뽑힘\n",
      "44주차 75개 뽑힘\n",
      "45주차 73개 뽑힘\n",
      "46주차 72개 뽑힘\n",
      "47주차 70개 뽑힘\n",
      "48주차 69개 뽑힘\n",
      "49주차 67개 뽑힘\n",
      "50주차 65개 뽑힘\n",
      "51주차 64개 뽑힘\n",
      "52주차 62개 뽑힘\n"
     ]
    }
   ],
   "source": [
    "# 2014년도의 주차들 다 100위씩 뽑혔는지 확인\n",
    "for i in range(1,53):\n",
    "    count_num = len(df_gaon.loc[(df_gaon['year']==2014) & (df_gaon['week_num']==i)])\n",
    "    print(f'{i}주차 {count_num}개 뽑힘')"
   ]
  },
  {
   "cell_type": "code",
   "execution_count": 63,
   "metadata": {},
   "outputs": [
    {
     "name": "stdout",
     "output_type": "stream",
     "text": [
      "1주차 0개 뽑힘\n",
      "2주차 0개 뽑힘\n",
      "3주차 0개 뽑힘\n",
      "4주차 0개 뽑힘\n",
      "5주차 0개 뽑힘\n",
      "6주차 0개 뽑힘\n",
      "7주차 0개 뽑힘\n",
      "8주차 0개 뽑힘\n",
      "9주차 0개 뽑힘\n",
      "10주차 100개 뽑힘\n",
      "11주차 100개 뽑힘\n",
      "12주차 100개 뽑힘\n",
      "13주차 100개 뽑힘\n",
      "14주차 100개 뽑힘\n",
      "15주차 100개 뽑힘\n",
      "16주차 100개 뽑힘\n",
      "17주차 100개 뽑힘\n",
      "18주차 100개 뽑힘\n",
      "19주차 100개 뽑힘\n",
      "20주차 100개 뽑힘\n",
      "21주차 100개 뽑힘\n",
      "22주차 100개 뽑힘\n",
      "23주차 100개 뽑힘\n",
      "24주차 100개 뽑힘\n",
      "25주차 100개 뽑힘\n",
      "26주차 100개 뽑힘\n",
      "27주차 100개 뽑힘\n",
      "28주차 100개 뽑힘\n",
      "29주차 100개 뽑힘\n",
      "30주차 100개 뽑힘\n",
      "31주차 97개 뽑힘\n",
      "32주차 95개 뽑힘\n",
      "33주차 92개 뽑힘\n",
      "34주차 89개 뽑힘\n",
      "35주차 87개 뽑힘\n",
      "36주차 85개 뽑힘\n",
      "37주차 84개 뽑힘\n",
      "38주차 81개 뽑힘\n",
      "39주차 79개 뽑힘\n",
      "40주차 77개 뽑힘\n",
      "41주차 76개 뽑힘\n",
      "42주차 73개 뽑힘\n",
      "43주차 71개 뽑힘\n",
      "44주차 69개 뽑힘\n",
      "45주차 68개 뽑힘\n",
      "46주차 65개 뽑힘\n",
      "47주차 63개 뽑힘\n",
      "48주차 62개 뽑힘\n",
      "49주차 61개 뽑힘\n",
      "50주차 53개 뽑힘\n",
      "51주차 58개 뽑힘\n",
      "52주차 57개 뽑힘\n"
     ]
    }
   ],
   "source": [
    "# 2015년도의 주차들 다 100위씩 뽑혔는지 확인\n",
    "for i in range(1,53):\n",
    "    count_num = len(df_gaon.loc[(df_gaon['year']==2015) & (df_gaon['week_num']==i)])\n",
    "    print(f'{i}주차 {count_num}개 뽑힘')"
   ]
  },
  {
   "cell_type": "code",
   "execution_count": 62,
   "metadata": {},
   "outputs": [
    {
     "name": "stdout",
     "output_type": "stream",
     "text": [
      "1주차 0개 뽑힘\n",
      "2주차 0개 뽑힘\n",
      "3주차 0개 뽑힘\n",
      "4주차 0개 뽑힘\n",
      "5주차 0개 뽑힘\n",
      "6주차 0개 뽑힘\n",
      "7주차 0개 뽑힘\n",
      "8주차 0개 뽑힘\n",
      "9주차 0개 뽑힘\n",
      "10주차 100개 뽑힘\n",
      "11주차 100개 뽑힘\n",
      "12주차 100개 뽑힘\n",
      "13주차 100개 뽑힘\n",
      "14주차 100개 뽑힘\n",
      "15주차 100개 뽑힘\n",
      "16주차 100개 뽑힘\n",
      "17주차 100개 뽑힘\n",
      "18주차 100개 뽑힘\n",
      "19주차 100개 뽑힘\n",
      "20주차 100개 뽑힘\n",
      "21주차 100개 뽑힘\n",
      "22주차 100개 뽑힘\n",
      "23주차 100개 뽑힘\n",
      "24주차 100개 뽑힘\n",
      "25주차 100개 뽑힘\n",
      "26주차 100개 뽑힘\n",
      "27주차 100개 뽑힘\n",
      "28주차 100개 뽑힘\n",
      "29주차 100개 뽑힘\n",
      "30주차 100개 뽑힘\n",
      "31주차 100개 뽑힘\n",
      "32주차 100개 뽑힘\n",
      "33주차 100개 뽑힘\n",
      "34주차 100개 뽑힘\n",
      "35주차 100개 뽑힘\n",
      "36주차 100개 뽑힘\n",
      "37주차 100개 뽑힘\n",
      "38주차 100개 뽑힘\n",
      "39주차 100개 뽑힘\n",
      "40주차 100개 뽑힘\n",
      "41주차 100개 뽑힘\n",
      "42주차 78개 뽑힘\n",
      "43주차 63개 뽑힘\n",
      "44주차 52개 뽑힘\n",
      "45주차 44개 뽑힘\n",
      "46주차 36개 뽑힘\n",
      "47주차 28개 뽑힘\n",
      "48주차 21개 뽑힘\n",
      "49주차 14개 뽑힘\n",
      "50주차 16개 뽑힘\n",
      "51주차 6개 뽑힘\n",
      "52주차 8개 뽑힘\n"
     ]
    }
   ],
   "source": [
    "# 2014년도의 주차들 다 100위씩 뽑혔는지 확인\n",
    "for i in range(1,53):\n",
    "    count_num = len(df_gaon.loc[(df_gaon['year']==2016) & (df_gaon['week_num']==i)])\n",
    "    print(f'{i}주차 {count_num}개 뽑힘')"
   ]
  },
  {
   "cell_type": "code",
   "execution_count": null,
   "metadata": {},
   "outputs": [],
   "source": [
    "# 문제\n",
    "# 1.1~9주차는 왜 건너뛰는거지\n",
    "# 2.30주차부터 왜 100위가 아니고 점점 줄이면서 뽑아오는거지"
   ]
  },
  {
   "attachments": {},
   "cell_type": "markdown",
   "metadata": {},
   "source": [
    "## 새로 뽑은 데이터 확인 - 2022"
   ]
  },
  {
   "cell_type": "code",
   "execution_count": 59,
   "metadata": {},
   "outputs": [],
   "source": [
    "df_gaon = pd.read_csv('./gaon_2022.csv')"
   ]
  },
  {
   "cell_type": "code",
   "execution_count": 60,
   "metadata": {},
   "outputs": [
    {
     "name": "stdout",
     "output_type": "stream",
     "text": [
      "1주차 0개 뽑힘\n",
      "2주차 0개 뽑힘\n",
      "3주차 0개 뽑힘\n",
      "4주차 0개 뽑힘\n",
      "5주차 0개 뽑힘\n",
      "6주차 0개 뽑힘\n",
      "7주차 0개 뽑힘\n",
      "8주차 0개 뽑힘\n",
      "9주차 0개 뽑힘\n",
      "10주차 98개 뽑힘\n",
      "11주차 96개 뽑힘\n",
      "12주차 95개 뽑힘\n",
      "13주차 94개 뽑힘\n",
      "14주차 92개 뽑힘\n",
      "15주차 90개 뽑힘\n",
      "16주차 88개 뽑힘\n",
      "17주차 87개 뽑힘\n",
      "18주차 86개 뽑힘\n",
      "19주차 84개 뽑힘\n",
      "20주차 82개 뽑힘\n",
      "21주차 80개 뽑힘\n",
      "22주차 79개 뽑힘\n",
      "23주차 78개 뽑힘\n",
      "24주차 76개 뽑힘\n",
      "25주차 74개 뽑힘\n",
      "26주차 73개 뽑힘\n",
      "27주차 72개 뽑힘\n",
      "28주차 71개 뽑힘\n",
      "29주차 70개 뽑힘\n",
      "30주차 68개 뽑힘\n",
      "31주차 67개 뽑힘\n",
      "32주차 100개 뽑힘\n",
      "33주차 100개 뽑힘\n",
      "34주차 100개 뽑힘\n",
      "35주차 100개 뽑힘\n",
      "36주차 100개 뽑힘\n",
      "37주차 100개 뽑힘\n",
      "38주차 100개 뽑힘\n",
      "39주차 100개 뽑힘\n",
      "40주차 100개 뽑힘\n",
      "41주차 100개 뽑힘\n",
      "42주차 100개 뽑힘\n",
      "43주차 100개 뽑힘\n",
      "44주차 100개 뽑힘\n",
      "45주차 100개 뽑힘\n",
      "46주차 100개 뽑힘\n",
      "47주차 100개 뽑힘\n",
      "48주차 66개 뽑힘\n",
      "49주차 65개 뽑힘\n",
      "50주차 64개 뽑힘\n",
      "51주차 63개 뽑힘\n",
      "52주차 62개 뽑힘\n"
     ]
    }
   ],
   "source": [
    "# 2022년도의 주차들 다 100위씩 뽑혔는지 확인\n",
    "for i in range(1,53):\n",
    "    count_num = len(df_gaon.loc[(df_gaon['year']==2022) & (df_gaon['week_num']==i)])\n",
    "    print(f'{i}주차 {count_num}개 뽑힘')"
   ]
  },
  {
   "cell_type": "code",
   "execution_count": null,
   "metadata": {},
   "outputs": [],
   "source": []
  },
  {
   "attachments": {},
   "cell_type": "markdown",
   "metadata": {},
   "source": [
    "## 2022 데이터 0427 확인"
   ]
  },
  {
   "cell_type": "code",
   "execution_count": 2,
   "metadata": {},
   "outputs": [],
   "source": [
    "import pandas as pd\n",
    "df_gaon_0427 = pd.read_csv('./gaon_0427.csv')"
   ]
  },
  {
   "cell_type": "code",
   "execution_count": 8,
   "metadata": {},
   "outputs": [
    {
     "name": "stdout",
     "output_type": "stream",
     "text": [
      "1주차 100개 뽑힘\n",
      "2주차 100개 뽑힘\n",
      "3주차 100개 뽑힘\n",
      "4주차 100개 뽑힘\n",
      "5주차 100개 뽑힘\n",
      "6주차 100개 뽑힘\n",
      "7주차 100개 뽑힘\n",
      "8주차 100개 뽑힘\n",
      "9주차 100개 뽑힘\n",
      "10주차 100개 뽑힘\n",
      "11주차 100개 뽑힘\n",
      "12주차 100개 뽑힘\n",
      "13주차 100개 뽑힘\n",
      "14주차 100개 뽑힘\n",
      "15주차 100개 뽑힘\n",
      "16주차 100개 뽑힘\n",
      "17주차 99개 뽑힘\n",
      "18주차 98개 뽑힘\n",
      "19주차 97개 뽑힘\n",
      "20주차 96개 뽑힘\n",
      "21주차 95개 뽑힘\n",
      "22주차 93개 뽑힘\n",
      "23주차 92개 뽑힘\n",
      "24주차 91개 뽑힘\n",
      "25주차 90개 뽑힘\n",
      "26주차 89개 뽑힘\n",
      "27주차 88개 뽑힘\n",
      "28주차 100개 뽑힘\n",
      "29주차 100개 뽑힘\n",
      "30주차 100개 뽑힘\n",
      "31주차 100개 뽑힘\n",
      "32주차 100개 뽑힘\n",
      "33주차 100개 뽑힘\n",
      "34주차 100개 뽑힘\n",
      "35주차 100개 뽑힘\n",
      "36주차 100개 뽑힘\n",
      "37주차 100개 뽑힘\n",
      "38주차 100개 뽑힘\n",
      "39주차 100개 뽑힘\n",
      "40주차 100개 뽑힘\n",
      "41주차 100개 뽑힘\n",
      "42주차 100개 뽑힘\n",
      "43주차 100개 뽑힘\n",
      "44주차 6개 뽑힘\n",
      "45주차 5개 뽑힘\n",
      "46주차 4개 뽑힘\n",
      "47주차 3개 뽑힘\n",
      "48주차 1개 뽑힘\n",
      "49주차 0개 뽑힘\n",
      "50주차 1개 뽑힘\n",
      "51주차 100개 뽑힘\n",
      "52주차 2개 뽑힘\n"
     ]
    }
   ],
   "source": [
    "# 20022년도의 주차들 다 100위씩 뽑혔는지 확인\n",
    "for i in range(1,53):\n",
    "    count_num = len(df_gaon_0427.loc[(df_gaon_0427['year']==2022) & (df_gaon_0427['week_num']==i)])\n",
    "    print(f'{i}주차 {count_num}개 뽑힘')"
   ]
  },
  {
   "attachments": {},
   "cell_type": "markdown",
   "metadata": {},
   "source": [
    "## 2022 데이터 0427 확인2"
   ]
  },
  {
   "cell_type": "code",
   "execution_count": 18,
   "metadata": {},
   "outputs": [],
   "source": [
    "import pandas as pd\n",
    "df_gaon_0427_2 = pd.read_csv('./gaon_0427(2).csv')"
   ]
  },
  {
   "cell_type": "code",
   "execution_count": 21,
   "metadata": {},
   "outputs": [
    {
     "name": "stdout",
     "output_type": "stream",
     "text": [
      "1주차 81개 뽑힘\n",
      "2주차 80개 뽑힘\n",
      "3주차 78개 뽑힘\n",
      "4주차 77개 뽑힘\n",
      "5주차 76개 뽑힘\n",
      "6주차 75개 뽑힘\n",
      "7주차 73개 뽑힘\n",
      "8주차 72개 뽑힘\n",
      "9주차 71개 뽑힘\n",
      "10주차 70개 뽑힘\n",
      "11주차 69개 뽑힘\n",
      "12주차 68개 뽑힘\n",
      "13주차 67개 뽑힘\n",
      "14주차 65개 뽑힘\n",
      "15주차 64개 뽑힘\n",
      "16주차 63개 뽑힘\n",
      "17주차 62개 뽑힘\n",
      "18주차 61개 뽑힘\n",
      "19주차 60개 뽑힘\n",
      "20주차 59개 뽑힘\n",
      "21주차 58개 뽑힘\n",
      "22주차 56개 뽑힘\n",
      "23주차 55개 뽑힘\n",
      "24주차 54개 뽑힘\n",
      "25주차 53개 뽑힘\n",
      "26주차 52개 뽑힘\n",
      "27주차 51개 뽑힘\n",
      "28주차 100개 뽑힘\n",
      "29주차 100개 뽑힘\n",
      "30주차 100개 뽑힘\n",
      "31주차 97개 뽑힘\n",
      "32주차 100개 뽑힘\n",
      "33주차 93개 뽑힘\n",
      "34주차 95개 뽑힘\n",
      "35주차 94개 뽑힘\n",
      "36주차 87개 뽑힘\n",
      "37주차 91개 뽑힘\n",
      "38주차 90개 뽑힘\n",
      "39주차 88개 뽑힘\n",
      "40주차 86개 뽑힘\n",
      "41주차 85개 뽑힘\n",
      "42주차 84개 뽑힘\n",
      "43주차 82개 뽑힘\n",
      "44주차 0개 뽑힘\n",
      "45주차 0개 뽑힘\n",
      "46주차 0개 뽑힘\n",
      "47주차 0개 뽑힘\n",
      "48주차 0개 뽑힘\n",
      "49주차 0개 뽑힘\n",
      "50주차 0개 뽑힘\n",
      "51주차 0개 뽑힘\n",
      "52주차 0개 뽑힘\n"
     ]
    }
   ],
   "source": [
    "# 20022년도의 주차들 다 100위씩 뽑혔는지 확인\n",
    "for i in range(1,53):\n",
    "    count_num = len(df_gaon_0427_2.loc[(df_gaon_0427_2['year']==2022) & (df_gaon_0427['week_num']==i)])\n",
    "    print(f'{i}주차 {count_num}개 뽑힘')"
   ]
  },
  {
   "attachments": {},
   "cell_type": "markdown",
   "metadata": {},
   "source": [
    "# 2022 데이터 0427 확인3"
   ]
  },
  {
   "cell_type": "code",
   "execution_count": 26,
   "metadata": {},
   "outputs": [],
   "source": [
    "import pandas as pd\n",
    "df_gaon_0427_3 = pd.read_csv('./gaon_0427(3).csv')"
   ]
  },
  {
   "cell_type": "code",
   "execution_count": 27,
   "metadata": {},
   "outputs": [
    {
     "data": {
      "text/plain": [
       "53"
      ]
     },
     "execution_count": 27,
     "metadata": {},
     "output_type": "execute_result"
    }
   ],
   "source": [
    "len(df_gaon_0427_2.loc[df_gaon_0427_2['year']==2022]['week_num'].unique().tolist())"
   ]
  },
  {
   "cell_type": "code",
   "execution_count": 28,
   "metadata": {},
   "outputs": [
    {
     "name": "stdout",
     "output_type": "stream",
     "text": [
      "1주차 100개 뽑힘\n",
      "2주차 100개 뽑힘\n",
      "3주차 100개 뽑힘\n",
      "4주차 100개 뽑힘\n",
      "5주차 100개 뽑힘\n",
      "6주차 100개 뽑힘\n",
      "7주차 100개 뽑힘\n",
      "8주차 100개 뽑힘\n",
      "9주차 100개 뽑힘\n",
      "10주차 100개 뽑힘\n",
      "11주차 100개 뽑힘\n",
      "12주차 100개 뽑힘\n",
      "13주차 100개 뽑힘\n",
      "14주차 100개 뽑힘\n",
      "15주차 100개 뽑힘\n",
      "16주차 100개 뽑힘\n",
      "17주차 99개 뽑힘\n",
      "18주차 98개 뽑힘\n",
      "19주차 97개 뽑힘\n",
      "20주차 96개 뽑힘\n",
      "21주차 95개 뽑힘\n",
      "22주차 93개 뽑힘\n",
      "23주차 92개 뽑힘\n",
      "24주차 91개 뽑힘\n",
      "25주차 90개 뽑힘\n",
      "26주차 89개 뽑힘\n",
      "27주차 88개 뽑힘\n",
      "28주차 100개 뽑힘\n",
      "29주차 100개 뽑힘\n",
      "30주차 100개 뽑힘\n",
      "31주차 100개 뽑힘\n",
      "32주차 100개 뽑힘\n",
      "33주차 100개 뽑힘\n",
      "34주차 100개 뽑힘\n",
      "35주차 100개 뽑힘\n",
      "36주차 100개 뽑힘\n",
      "37주차 100개 뽑힘\n",
      "38주차 100개 뽑힘\n",
      "39주차 100개 뽑힘\n",
      "40주차 100개 뽑힘\n",
      "41주차 100개 뽑힘\n",
      "42주차 100개 뽑힘\n",
      "43주차 100개 뽑힘\n",
      "44주차 6개 뽑힘\n",
      "45주차 5개 뽑힘\n",
      "46주차 4개 뽑힘\n",
      "47주차 3개 뽑힘\n",
      "48주차 1개 뽑힘\n",
      "49주차 0개 뽑힘\n",
      "50주차 1개 뽑힘\n",
      "51주차 100개 뽑힘\n",
      "52주차 2개 뽑힘\n"
     ]
    }
   ],
   "source": [
    "# 20022년도의 주차들 다 100위씩 뽑혔는지 확인\n",
    "for i in range(1,53):\n",
    "    count_num = len(df_gaon_0427_3.loc[(df_gaon_0427_3['year']==2022) & (df_gaon_0427['week_num']==i)])\n",
    "    print(f'{i}주차 {count_num}개 뽑힘')"
   ]
  },
  {
   "attachments": {},
   "cell_type": "markdown",
   "metadata": {},
   "source": [
    "## 2022 데이터 27주씩 쪼개서"
   ]
  },
  {
   "cell_type": "code",
   "execution_count": 54,
   "metadata": {},
   "outputs": [],
   "source": [
    "import pandas as pd\n",
    "df_gaon_0427_half = pd.read_csv('./gaon_0427_half.csv')"
   ]
  },
  {
   "cell_type": "code",
   "execution_count": 55,
   "metadata": {},
   "outputs": [
    {
     "data": {
      "text/plain": [
       "[28,\n",
       " 29,\n",
       " 30,\n",
       " 31,\n",
       " 32,\n",
       " 33,\n",
       " 34,\n",
       " 35,\n",
       " 36,\n",
       " 37,\n",
       " 38,\n",
       " 39,\n",
       " 40,\n",
       " 41,\n",
       " 42,\n",
       " 43,\n",
       " 44,\n",
       " 45,\n",
       " 46,\n",
       " 47,\n",
       " 48,\n",
       " 49,\n",
       " 50,\n",
       " 51,\n",
       " 52,\n",
       " 53]"
      ]
     },
     "execution_count": 55,
     "metadata": {},
     "output_type": "execute_result"
    }
   ],
   "source": [
    "sorted(df_gaon_0427_half.loc[df_gaon_0427_half['year']==2022]['week_num'].unique().tolist())"
   ]
  },
  {
   "cell_type": "code",
   "execution_count": 56,
   "metadata": {},
   "outputs": [
    {
     "name": "stdout",
     "output_type": "stream",
     "text": [
      "1주차 0개 뽑힘\n",
      "2주차 0개 뽑힘\n",
      "3주차 0개 뽑힘\n",
      "4주차 0개 뽑힘\n",
      "5주차 0개 뽑힘\n",
      "6주차 0개 뽑힘\n",
      "7주차 0개 뽑힘\n",
      "8주차 0개 뽑힘\n",
      "9주차 0개 뽑힘\n",
      "10주차 0개 뽑힘\n",
      "11주차 0개 뽑힘\n",
      "12주차 0개 뽑힘\n",
      "13주차 0개 뽑힘\n",
      "14주차 0개 뽑힘\n",
      "15주차 0개 뽑힘\n",
      "16주차 0개 뽑힘\n",
      "17주차 0개 뽑힘\n",
      "18주차 0개 뽑힘\n",
      "19주차 0개 뽑힘\n",
      "20주차 0개 뽑힘\n",
      "21주차 0개 뽑힘\n",
      "22주차 0개 뽑힘\n",
      "23주차 0개 뽑힘\n",
      "24주차 0개 뽑힘\n",
      "25주차 0개 뽑힘\n",
      "26주차 0개 뽑힘\n",
      "27주차 0개 뽑힘\n",
      "28주차 100개 뽑힘\n",
      "29주차 100개 뽑힘\n",
      "30주차 100개 뽑힘\n",
      "31주차 100개 뽑힘\n",
      "32주차 100개 뽑힘\n",
      "33주차 100개 뽑힘\n",
      "34주차 100개 뽑힘\n",
      "35주차 57개 뽑힘\n",
      "36주차 47개 뽑힘\n",
      "37주차 40개 뽑힘\n",
      "38주차 34개 뽑힘\n",
      "39주차 30개 뽑힘\n",
      "40주차 21개 뽑힘\n",
      "41주차 24개 뽑힘\n",
      "42주차 15개 뽑힘\n",
      "43주차 18개 뽑힘\n",
      "44주차 16개 뽑힘\n",
      "45주차 9개 뽑힘\n",
      "46주차 13개 뽑힘\n",
      "47주차 11개 뽑힘\n",
      "48주차 10개 뽑힘\n",
      "49주차 8개 뽑힘\n",
      "50주차 6개 뽑힘\n",
      "51주차 5개 뽑힘\n",
      "52주차 3개 뽑힘\n",
      "53주차 2개 뽑힘\n"
     ]
    }
   ],
   "source": [
    "# 20022년도의 주차들 다 100위씩 뽑혔는지 확인\n",
    "for i in range(1,54):\n",
    "    count_num = len(df_gaon_0427_half.loc[(df_gaon_0427_half['year']==2022) & (df_gaon_0427_half['week_num']==i)])\n",
    "    print(f'{i}주차 {count_num}개 뽑힘')"
   ]
  },
  {
   "attachments": {},
   "cell_type": "markdown",
   "metadata": {},
   "source": [
    "## half 다시 확인"
   ]
  },
  {
   "cell_type": "code",
   "execution_count": 49,
   "metadata": {},
   "outputs": [],
   "source": [
    "import pandas as pd\n",
    "df_gaon_0427_half_1 = pd.read_csv('./gaon_0427_half(1).csv')"
   ]
  },
  {
   "cell_type": "code",
   "execution_count": 50,
   "metadata": {},
   "outputs": [
    {
     "data": {
      "text/plain": [
       "[1,\n",
       " 2,\n",
       " 3,\n",
       " 4,\n",
       " 5,\n",
       " 6,\n",
       " 7,\n",
       " 8,\n",
       " 9,\n",
       " 10,\n",
       " 11,\n",
       " 12,\n",
       " 13,\n",
       " 14,\n",
       " 15,\n",
       " 16,\n",
       " 17,\n",
       " 18,\n",
       " 19,\n",
       " 20,\n",
       " 21,\n",
       " 22,\n",
       " 23,\n",
       " 24,\n",
       " 25,\n",
       " 26,\n",
       " 27]"
      ]
     },
     "execution_count": 50,
     "metadata": {},
     "output_type": "execute_result"
    }
   ],
   "source": [
    "sorted(df_gaon_0427_half_1.loc[df_gaon_0427_half_1['year']==2022]['week_num'].unique().tolist())"
   ]
  },
  {
   "cell_type": "code",
   "execution_count": 53,
   "metadata": {},
   "outputs": [
    {
     "name": "stdout",
     "output_type": "stream",
     "text": [
      "1주차 100개 뽑힘\n",
      "2주차 100개 뽑힘\n",
      "3주차 100개 뽑힘\n",
      "4주차 100개 뽑힘\n",
      "5주차 100개 뽑힘\n",
      "6주차 100개 뽑힘\n",
      "7주차 100개 뽑힘\n",
      "8주차 100개 뽑힘\n",
      "9주차 100개 뽑힘\n",
      "10주차 100개 뽑힘\n",
      "11주차 100개 뽑힘\n",
      "12주차 100개 뽑힘\n",
      "13주차 100개 뽑힘\n",
      "14주차 100개 뽑힘\n",
      "15주차 100개 뽑힘\n",
      "16주차 100개 뽑힘\n",
      "17주차 100개 뽑힘\n",
      "18주차 100개 뽑힘\n",
      "19주차 100개 뽑힘\n",
      "20주차 100개 뽑힘\n",
      "21주차 100개 뽑힘\n",
      "22주차 100개 뽑힘\n",
      "23주차 100개 뽑힘\n",
      "24주차 100개 뽑힘\n",
      "25주차 100개 뽑힘\n",
      "26주차 100개 뽑힘\n",
      "27주차 100개 뽑힘\n"
     ]
    }
   ],
   "source": [
    "# 20022년도의 주차들 다 100위씩 뽑혔는지 확인\n",
    "for i in range(1,28):\n",
    "    count_num = len(df_gaon_0427_half_1.loc[(df_gaon_0427_half_1['year']==2022) & (df_gaon_0427_half_1['week_num']==i)])\n",
    "    print(f'{i}주차 {count_num}개 뽑힘')"
   ]
  },
  {
   "attachments": {},
   "cell_type": "markdown",
   "metadata": {},
   "source": [
    "# 인스타 데이터 확인"
   ]
  },
  {
   "cell_type": "code",
   "execution_count": 25,
   "metadata": {},
   "outputs": [],
   "source": [
    "insta_df = pd.read_csv('./instagram_singer1.csv')\n",
    "insta_df.drop(['Unnamed: 0'], axis=1, inplace=True)"
   ]
  },
  {
   "cell_type": "code",
   "execution_count": 26,
   "metadata": {},
   "outputs": [
    {
     "data": {
      "text/html": [
       "<div>\n",
       "<style scoped>\n",
       "    .dataframe tbody tr th:only-of-type {\n",
       "        vertical-align: middle;\n",
       "    }\n",
       "\n",
       "    .dataframe tbody tr th {\n",
       "        vertical-align: top;\n",
       "    }\n",
       "\n",
       "    .dataframe thead th {\n",
       "        text-align: right;\n",
       "    }\n",
       "</style>\n",
       "<table border=\"1\" class=\"dataframe\">\n",
       "  <thead>\n",
       "    <tr style=\"text-align: right;\">\n",
       "      <th></th>\n",
       "      <th>name</th>\n",
       "      <th>구독자순</th>\n",
       "      <th>게시물순</th>\n",
       "    </tr>\n",
       "  </thead>\n",
       "  <tbody>\n",
       "    <tr>\n",
       "      <th>0</th>\n",
       "      <td>J</td>\n",
       "      <td>7065만</td>\n",
       "      <td>887개</td>\n",
       "    </tr>\n",
       "    <tr>\n",
       "      <th>1</th>\n",
       "      <td>BTS official</td>\n",
       "      <td>6814만</td>\n",
       "      <td>1,134개</td>\n",
       "    </tr>\n",
       "    <tr>\n",
       "      <th>2</th>\n",
       "      <td>JISOO🤍</td>\n",
       "      <td>6484만</td>\n",
       "      <td>878개</td>\n",
       "    </tr>\n",
       "    <tr>\n",
       "      <th>3</th>\n",
       "      <td>ROSÉ</td>\n",
       "      <td>6361만</td>\n",
       "      <td>853개</td>\n",
       "    </tr>\n",
       "    <tr>\n",
       "      <th>4</th>\n",
       "      <td>BLΛƆKPIИK</td>\n",
       "      <td>4994만</td>\n",
       "      <td>1,554개</td>\n",
       "    </tr>\n",
       "    <tr>\n",
       "      <th>...</th>\n",
       "      <td>...</td>\n",
       "      <td>...</td>\n",
       "      <td>...</td>\n",
       "    </tr>\n",
       "    <tr>\n",
       "      <th>208</th>\n",
       "      <td>Hip-Hop Korea</td>\n",
       "      <td>255</td>\n",
       "      <td>6개</td>\n",
       "    </tr>\n",
       "    <tr>\n",
       "      <th>209</th>\n",
       "      <td>halfbasement9395</td>\n",
       "      <td>12</td>\n",
       "      <td>개</td>\n",
       "    </tr>\n",
       "    <tr>\n",
       "      <th>210</th>\n",
       "      <td>M.O.N.T official</td>\n",
       "      <td>53</td>\n",
       "      <td>23개</td>\n",
       "    </tr>\n",
       "    <tr>\n",
       "      <th>211</th>\n",
       "      <td>YEOJIN SHADIEST / DIVA MOMENTS</td>\n",
       "      <td>12</td>\n",
       "      <td>91개</td>\n",
       "    </tr>\n",
       "    <tr>\n",
       "      <th>212</th>\n",
       "      <td>MX10</td>\n",
       "      <td>2</td>\n",
       "      <td>개</td>\n",
       "    </tr>\n",
       "  </tbody>\n",
       "</table>\n",
       "<p>213 rows × 3 columns</p>\n",
       "</div>"
      ],
      "text/plain": [
       "                               name   구독자순    게시물순\n",
       "0                                 J  7065만    887개\n",
       "1                      BTS official  6814만  1,134개\n",
       "2                            JISOO🤍  6484만    878개\n",
       "3                             ROSÉ  6361만    853개\n",
       "4                         BLΛƆKPIИK  4994만  1,554개\n",
       "..                              ...    ...     ...\n",
       "208                   Hip-Hop Korea    255      6개\n",
       "209                halfbasement9395     12       개\n",
       "210                M.O.N.T official     53     23개\n",
       "211  YEOJIN SHADIEST / DIVA MOMENTS     12     91개\n",
       "212                            MX10      2       개\n",
       "\n",
       "[213 rows x 3 columns]"
      ]
     },
     "execution_count": 26,
     "metadata": {},
     "output_type": "execute_result"
    }
   ],
   "source": [
    "insta_df"
   ]
  },
  {
   "cell_type": "code",
   "execution_count": null,
   "metadata": {},
   "outputs": [],
   "source": []
  }
 ],
 "metadata": {
  "kernelspec": {
   "display_name": "Python 3",
   "language": "python",
   "name": "python3"
  },
  "language_info": {
   "codemirror_mode": {
    "name": "ipython",
    "version": 3
   },
   "file_extension": ".py",
   "mimetype": "text/x-python",
   "name": "python",
   "nbconvert_exporter": "python",
   "pygments_lexer": "ipython3",
   "version": "3.11.3"
  },
  "orig_nbformat": 4
 },
 "nbformat": 4,
 "nbformat_minor": 2
}
