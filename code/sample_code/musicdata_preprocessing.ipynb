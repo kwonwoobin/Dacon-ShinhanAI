{
 "cells": [
  {
   "cell_type": "code",
   "execution_count": 1,
   "metadata": {},
   "outputs": [],
   "source": [
    "import pandas as pd\n",
    "import re\n",
    "import numpy as np"
   ]
  },
  {
   "cell_type": "code",
   "execution_count": 2,
   "metadata": {},
   "outputs": [],
   "source": [
    "gaon_df = pd.read_csv('../data/gaon_final_data.csv', index_col=0)\n",
    "melon_df = pd.read_csv('../data/melon_final_data.csv', index_col=0)"
   ]
  },
  {
   "attachments": {},
   "cell_type": "markdown",
   "metadata": {},
   "source": [
    "### 1.데이터 특수문자 공백제거"
   ]
  },
  {
   "cell_type": "code",
   "execution_count": 3,
   "metadata": {},
   "outputs": [],
   "source": [
    "# test1 = '더보이즈 (the boyz)'\n",
    "# # test2 = 'stayc (스테이씨)'\n",
    "# # test3 = '아이브'\n",
    "\n",
    "# if test1.find('(') != -1:\n",
    "#     p = re.compile('\\(([^)]+)')\n",
    "#     data_bracket = p.findall(test1)[0]\n",
    "#     test1 = re.sub('\\([^)]*\\)','', test1)"
   ]
  },
  {
   "cell_type": "code",
   "execution_count": 4,
   "metadata": {},
   "outputs": [],
   "source": [
    "# 괄호 따로 저장해서 컬럼으로 추가\n",
    "### 가수 괄호는 따로 컬럼에 저장 *혹시 데이터 일치여부에 사용할 수 있으니\n",
    "\n",
    "def Save_Bracket(df, column):\n",
    "    result = []\n",
    "    new_column = []\n",
    "    for i in range(len(df)):\n",
    "        data = df.iloc[i][f'{column}']\n",
    "\n",
    "        # 소문자로 바꾸기\n",
    "        data = data.lower()\n",
    "\n",
    "        # 괄호 안 내용 저장\n",
    "        if data.find('(') != -1:\n",
    "            p = re.compile('\\(([^)]+)')\n",
    "            data_bracket = p.findall(data)[0]\n",
    "            # 괄호 삭제\n",
    "            data = re.sub('\\([^)]*\\)','', data)\n",
    "            # 양 쪽 공백 제거\n",
    "            data = data.strip()\n",
    "\n",
    "            # 리스트에 데이터 추가\n",
    "            result.append(data)\n",
    "            new_column.append(data_bracket)\n",
    "            \n",
    "        else:\n",
    "            result.append(data)\n",
    "            new_column.append(np.NaN)\n",
    "\n",
    "    df[f'{column}'] = result\n",
    "    df[f'{column} bracket'] = new_column\n",
    "\n",
    "    return df\n",
    "\n",
    "# 멜론 데이터 전처리\n",
    "def Make_Clean_Name(df, column):\n",
    "    result = []\n",
    "    for i in range(len(df)):\n",
    "        data = df.iloc[i][f'{column}']\n",
    "\n",
    "        # 특수문자 제거 (콤마는 빼고 제거)\n",
    "        data = re.sub('[-=+#/\\?:^.@★*\\\"※~ㆍ!』‘|\\(\\)\\[\\]`\\'…》\\”\\“\\’·]', \" \",data)\n",
    "\n",
    "        # 소문자로 바꾸기\n",
    "        data = data.lower()\n",
    "        \n",
    "        if column == 'singer':\n",
    "            # 가수이름은 모든 공백 제거\n",
    "            data = data.replace(' ','')\n",
    "        else:  \n",
    "            # 앞,뒤 공백 제거\n",
    "            data = data.strip()\n",
    "\n",
    "        result.append(data)\n",
    "\n",
    "    df[f'{column}'] = result\n",
    "\n",
    "    return df\n"
   ]
  },
  {
   "cell_type": "code",
   "execution_count": 5,
   "metadata": {},
   "outputs": [],
   "source": [
    "# gaon_df 전처리\n",
    "gaon_df = Save_Bracket(gaon_df, 'music')\n",
    "gaon_df = Save_Bracket(gaon_df, 'singer')\n",
    "gaon_df = Make_Clean_Name(gaon_df, 'music')\n",
    "gaon_df = Make_Clean_Name(gaon_df, 'singer')\n",
    "\n",
    "# melon_df 전처리\n",
    "melon_df = Make_Clean_Name(melon_df, 'music')\n",
    "melon_df = Make_Clean_Name(melon_df, 'singer')"
   ]
  },
  {
   "attachments": {},
   "cell_type": "markdown",
   "metadata": {},
   "source": [
    "### 2.차트에 든 횟수 DV(종속변수) 컬럼 만들기"
   ]
  },
  {
   "cell_type": "code",
   "execution_count": 6,
   "metadata": {},
   "outputs": [],
   "source": [
    "gaon_df['singer-music'] = gaon_df['singer'] + '-' + gaon_df['music']\n",
    "DV_df = pd.DataFrame(gaon_df['singer-music'].value_counts())\n",
    "DV_df.reset_index(drop=False, inplace=True)\n",
    "DV_df.rename(columns={'index':'singer-music', 'singer-music':'rank_count'}, inplace=True)"
   ]
  },
  {
   "cell_type": "code",
   "execution_count": 7,
   "metadata": {},
   "outputs": [
    {
     "data": {
      "text/html": [
       "<div>\n",
       "<style scoped>\n",
       "    .dataframe tbody tr th:only-of-type {\n",
       "        vertical-align: middle;\n",
       "    }\n",
       "\n",
       "    .dataframe tbody tr th {\n",
       "        vertical-align: top;\n",
       "    }\n",
       "\n",
       "    .dataframe thead th {\n",
       "        text-align: right;\n",
       "    }\n",
       "</style>\n",
       "<table border=\"1\" class=\"dataframe\">\n",
       "  <thead>\n",
       "    <tr style=\"text-align: right;\">\n",
       "      <th></th>\n",
       "      <th>singer-music</th>\n",
       "      <th>rank_count</th>\n",
       "    </tr>\n",
       "  </thead>\n",
       "  <tbody>\n",
       "    <tr>\n",
       "      <th>0</th>\n",
       "      <td>방탄소년단-봄날</td>\n",
       "      <td>324</td>\n",
       "    </tr>\n",
       "    <tr>\n",
       "      <th>1</th>\n",
       "      <td>폴킴-모든 날, 모든 순간</td>\n",
       "      <td>268</td>\n",
       "    </tr>\n",
       "    <tr>\n",
       "      <th>2</th>\n",
       "      <td>akmu-어떻게 이별까지 사랑하겠어, 널 사랑하는 거지</td>\n",
       "      <td>171</td>\n",
       "    </tr>\n",
       "    <tr>\n",
       "      <th>3</th>\n",
       "      <td>아이유-밤편지</td>\n",
       "      <td>169</td>\n",
       "    </tr>\n",
       "    <tr>\n",
       "      <th>4</th>\n",
       "      <td>임영웅-이제 나만 믿어요</td>\n",
       "      <td>161</td>\n",
       "    </tr>\n",
       "    <tr>\n",
       "      <th>...</th>\n",
       "      <td>...</td>\n",
       "      <td>...</td>\n",
       "    </tr>\n",
       "    <tr>\n",
       "      <th>7369</th>\n",
       "      <td>백지영,나원주-니가 내리는 날</td>\n",
       "      <td>1</td>\n",
       "    </tr>\n",
       "    <tr>\n",
       "      <th>7370</th>\n",
       "      <td>에이핑크-동화 같은 사랑</td>\n",
       "      <td>1</td>\n",
       "    </tr>\n",
       "    <tr>\n",
       "      <th>7371</th>\n",
       "      <td>에이핑크-천사가 아냐</td>\n",
       "      <td>1</td>\n",
       "    </tr>\n",
       "    <tr>\n",
       "      <th>7372</th>\n",
       "      <td>싸이-rock will never die</td>\n",
       "      <td>1</td>\n",
       "    </tr>\n",
       "    <tr>\n",
       "      <th>7373</th>\n",
       "      <td>lesserafim-no return</td>\n",
       "      <td>1</td>\n",
       "    </tr>\n",
       "  </tbody>\n",
       "</table>\n",
       "<p>7374 rows × 2 columns</p>\n",
       "</div>"
      ],
      "text/plain": [
       "                        singer-music  rank_count\n",
       "0                           방탄소년단-봄날         324\n",
       "1                     폴킴-모든 날, 모든 순간         268\n",
       "2     akmu-어떻게 이별까지 사랑하겠어, 널 사랑하는 거지         171\n",
       "3                            아이유-밤편지         169\n",
       "4                      임영웅-이제 나만 믿어요         161\n",
       "...                              ...         ...\n",
       "7369                백지영,나원주-니가 내리는 날           1\n",
       "7370                   에이핑크-동화 같은 사랑           1\n",
       "7371                     에이핑크-천사가 아냐           1\n",
       "7372          싸이-rock will never die           1\n",
       "7373            lesserafim-no return           1\n",
       "\n",
       "[7374 rows x 2 columns]"
      ]
     },
     "execution_count": 7,
     "metadata": {},
     "output_type": "execute_result"
    }
   ],
   "source": [
    "DV_df"
   ]
  },
  {
   "attachments": {},
   "cell_type": "markdown",
   "metadata": {},
   "source": [
    "### 3.멜론에 가온 start_date 붙이기"
   ]
  },
  {
   "cell_type": "code",
   "execution_count": 8,
   "metadata": {},
   "outputs": [],
   "source": [
    "def Add_startdate(df1, df2):\n",
    "    date_list = []\n",
    "    for i in range(len(df1)):\n",
    "\n",
    "        music = df1['music'].iloc[i]\n",
    "        singer = df1['singer'].iloc[i]\n",
    "\n",
    "        try:\n",
    "            start_date = df2['start_date'].loc[(df2['music']==music) & ((df2['singer']==singer)|(df2['singer bracket']==singer))].iloc[0]\n",
    "            date_list.append(start_date)\n",
    "        except:\n",
    "            date_list.append(np.NaN)\n",
    "\n",
    "    df1['start_date'] = date_list\n",
    "\n",
    "    return df1"
   ]
  },
  {
   "cell_type": "code",
   "execution_count": 9,
   "metadata": {},
   "outputs": [],
   "source": [
    "melon_df = Add_startdate(melon_df, gaon_df)"
   ]
  },
  {
   "attachments": {},
   "cell_type": "markdown",
   "metadata": {},
   "source": [
    "#### start,release로 7일이내 순위진입 T,F 뽑아서 컬럼"
   ]
  },
  {
   "cell_type": "code",
   "execution_count": 10,
   "metadata": {},
   "outputs": [],
   "source": [
    "# 날짜 datetime 형식으로 변환환\n",
    "melon_df['start_date'] = pd.to_datetime(melon_df['start_date'])\n",
    "melon_df['release_date'] = pd.to_datetime(melon_df['release_date'])\n",
    "\n",
    "# 7일 계산해서 calculate컬럼으로 추가\n",
    "melon_df['calculate'] = melon_df['release_date'] - melon_df['start_date']\n",
    "# 7일이내면 값 1, 아니면 0\n",
    "melon_df['within 7days'] =  abs(melon_df['calculate']) < pd.Timedelta(days=7)\n",
    "melon_df['within 7days'].replace({True:1, False:0}, inplace=True)\n",
    "\n",
    "# 쓸모없는 컬럼 삭제\n",
    "melon_df.drop(columns=['start_date', 'calculate'], inplace=True)"
   ]
  },
  {
   "attachments": {},
   "cell_type": "markdown",
   "metadata": {},
   "source": [
    "### 4.melon에 카테고리에서 국내드라마로 OST 컬럼 이진변수 만들기"
   ]
  },
  {
   "cell_type": "code",
   "execution_count": 11,
   "metadata": {},
   "outputs": [],
   "source": [
    "# ost컬럼 추가 + 카테고리에서 발라드,국내드라마에서 국내드라마는 삭제\n",
    "def Make_OST_column(df):\n",
    "    ost_list = []\n",
    "    category_list = []\n",
    "\n",
    "    for i in range(len(df)):\n",
    "        category = df['category'].iloc[i]\n",
    "        try:\n",
    "            a, b = category.split(', ')\n",
    "            if b == '국내드라마':\n",
    "                ost_list.append(1)\n",
    "                category_list.append(a)\n",
    "            else:\n",
    "                ost_list.append(0)\n",
    "                category_list.append(category)\n",
    "        except:\n",
    "            ost_list.append(0)\n",
    "            category_list.append(category)\n",
    "\n",
    "    df['ost'] = ost_list\n",
    "    df['category'] = category_list\n",
    "\n",
    "    return df"
   ]
  },
  {
   "cell_type": "code",
   "execution_count": 12,
   "metadata": {},
   "outputs": [],
   "source": [
    "melon_df = Make_OST_column(melon_df)"
   ]
  },
  {
   "cell_type": "code",
   "execution_count": 13,
   "metadata": {},
   "outputs": [
    {
     "data": {
      "text/plain": [
       "0    4447\n",
       "1     459\n",
       "Name: ost, dtype: int64"
      ]
     },
     "execution_count": 13,
     "metadata": {},
     "output_type": "execute_result"
    }
   ],
   "source": [
    "melon_df['ost'].value_counts()"
   ]
  },
  {
   "cell_type": "code",
   "execution_count": 14,
   "metadata": {},
   "outputs": [],
   "source": [
    "# 고유값인 가수-노래제목 컬럼 만들기\n",
    "melon_df['singer-music'] = melon_df['singer']+'-'+melon_df['music']\n",
    "\n",
    "# 가수-노래제목 기준으로 중복 제거\n",
    "melon_df.drop_duplicates(subset='singer-music', inplace=True)\n",
    "\n",
    "# 인덱스 재정렬\n",
    "melon_df.reset_index(drop=True, inplace=True)"
   ]
  },
  {
   "attachments": {},
   "cell_type": "markdown",
   "metadata": {},
   "source": [
    "### 5. 종속변수(정답값) 붙이기 - 가온 차트인 횟수"
   ]
  },
  {
   "cell_type": "code",
   "execution_count": 15,
   "metadata": {},
   "outputs": [
    {
     "name": "stderr",
     "output_type": "stream",
     "text": [
      "C:\\Users\\bin\\AppData\\Local\\Temp\\ipykernel_6740\\2359084250.py:5: UserWarning: DataFrame columns are not unique, some columns will be omitted.\n",
      "  bracket_dict = bracket_df.set_index('singer').T.to_dict('records')\n"
     ]
    }
   ],
   "source": [
    "# 가수 괄호 딕셔너리 만들기\n",
    "singer_bracket_dict = {}\n",
    "bracket_df = gaon_df[gaon_df['singer bracket'].notnull()]\n",
    "bracket_df = bracket_df[['singer', 'singer bracket']]\n",
    "bracket_dict = bracket_df.set_index('singer').T.to_dict('records')\n",
    "bracket_dict = bracket_dict[0]"
   ]
  },
  {
   "cell_type": "code",
   "execution_count": 16,
   "metadata": {},
   "outputs": [
    {
     "data": {
      "text/plain": [
       "'k.will'"
      ]
     },
     "execution_count": 16,
     "metadata": {},
     "output_type": "execute_result"
    }
   ],
   "source": [
    "bracket_dict['케이윌']"
   ]
  },
  {
   "cell_type": "code",
   "execution_count": 17,
   "metadata": {},
   "outputs": [],
   "source": [
    "# 종속변수 붙이기\n",
    "\n",
    "def Make_DV(df1, df2, dict):\n",
    "    \n",
    "    count_list = []\n",
    "    for i in range(len(df1)):\n",
    "\n",
    "        # 멜론 데이터에 있는 노래가 DV_1에 있는 지 확인 후, rank_count 데이터 붙이기\n",
    "        singer_music = df1['singer-music'].iloc[i]\n",
    "        singer = df1['singer'].iloc[i]\n",
    "        music = df1['music'].iloc[i]\n",
    "\n",
    "        try:\n",
    "            # 괄호 안의 이름으로도 찾아보기\n",
    "            singer_bracket = dict[singer]\n",
    "            global singer_singerbracket\n",
    "            singer_singerbracket = singer_bracket+'-'+music\n",
    "            \n",
    "\n",
    "            # DV_df에 해당 노래가 있으면, rank_count값을 리스트에 추가\n",
    "            if len(df2.loc[(df2['singer-music']==singer_music)|(df2['singer-music']==singer_singerbracket)]) > 0:\n",
    "                rank_count = df2['rank_count'].loc[(df2['singer-music']==singer_music)|(df2['singer-music']==singer_singerbracket)].iloc[0]\n",
    "                count_list.append(rank_count)\n",
    "            else:\n",
    "                count_list.append(np.NaN)\n",
    "        except:\n",
    "            # DV_df에 해당 노래가 있으면, rank_count값을 리스트에 추가\n",
    "            if len(df2.loc[(df2['singer-music']==singer_music)]) > 0:\n",
    "                rank_count = df2['rank_count'].loc[df2['singer-music']==singer_music].iloc[0]\n",
    "                count_list.append(rank_count)\n",
    "            else:\n",
    "                count_list.append(np.NaN)\n",
    "\n",
    "    df1['rank_count'] = count_list\n",
    "\n",
    "    return df1"
   ]
  },
  {
   "cell_type": "code",
   "execution_count": 18,
   "metadata": {},
   "outputs": [],
   "source": [
    "melon_df = Make_DV(melon_df, DV_df, bracket_dict)"
   ]
  },
  {
   "cell_type": "code",
   "execution_count": 19,
   "metadata": {},
   "outputs": [],
   "source": [
    "# # 종속변수 붙이기\n",
    "\n",
    "# count_list = []\n",
    "# for i in range(len(melon_df)):\n",
    "\n",
    "#     # 멜론 데이터에 있는 노래가 DV_df에 있는 지 확인 후, rank_count 데이터 붙이기\n",
    "#     singer_music = melon_df['singer-music'].iloc[i]\n",
    "#     singer = melon_df['singer'].iloc[i]\n",
    "#     music = melon_df['music'].iloc[i]\n",
    "\n",
    "#     try:\n",
    "#         # 괄호 안의 이름으로도 찾아보기\n",
    "#         singer_bracket = bracket_dict[singer]\n",
    "#         singer_singerbracket = singer_bracket+'-'+music\n",
    "\n",
    "#         # DV_df에 해당 노래가 있으면, rank_count값을 리스트에 추가\n",
    "#         if len(DV_df.loc[(DV_df['singer-music']==singer_music)|(DV_df['singer-music']==singer_singerbracket)]) > 0:\n",
    "#             rank_count = DV_df['rank_count'].loc[(DV_df['singer-music']==singer_music)|(DV_df['singer-music']==singer_singerbracket)].iloc[0]\n",
    "#             count_list.append(rank_count)\n",
    "#         else:\n",
    "#             count_list.append(np.NaN)\n",
    "#     except:\n",
    "#         # DV_df에 해당 노래가 있으면, rank_count값을 리스트에 추가\n",
    "#         if len(DV_df.loc[(DV_df['singer-music']==singer_music)|(DV_df['singer-music']==singer_singerbracket)]) > 0:\n",
    "#             rank_count = DV_df['rank_count'].loc[DV_df['singer-music']==singer_music].iloc[0]\n",
    "#             count_list.append(rank_count)\n",
    "#         else:\n",
    "#             count_list.append(np.NaN)\n",
    "# melon_df['rank_count'] = count_list"
   ]
  },
  {
   "cell_type": "code",
   "execution_count": 20,
   "metadata": {},
   "outputs": [],
   "source": [
    "# 필요없는 컬럼 singer-music 삭제\n",
    "melon_df.drop(columns=['singer-music'], inplace=True, axis=0)"
   ]
  },
  {
   "cell_type": "code",
   "execution_count": 21,
   "metadata": {},
   "outputs": [
    {
     "data": {
      "text/html": [
       "<div>\n",
       "<style scoped>\n",
       "    .dataframe tbody tr th:only-of-type {\n",
       "        vertical-align: middle;\n",
       "    }\n",
       "\n",
       "    .dataframe tbody tr th {\n",
       "        vertical-align: top;\n",
       "    }\n",
       "\n",
       "    .dataframe thead th {\n",
       "        text-align: right;\n",
       "    }\n",
       "</style>\n",
       "<table border=\"1\" class=\"dataframe\">\n",
       "  <thead>\n",
       "    <tr style=\"text-align: right;\">\n",
       "      <th></th>\n",
       "      <th>music</th>\n",
       "      <th>singer</th>\n",
       "      <th>music_id</th>\n",
       "      <th>release_date</th>\n",
       "      <th>category</th>\n",
       "      <th>music_like</th>\n",
       "      <th>comment_count</th>\n",
       "      <th>within 7days</th>\n",
       "      <th>ost</th>\n",
       "      <th>rank_count</th>\n",
       "    </tr>\n",
       "  </thead>\n",
       "  <tbody>\n",
       "    <tr>\n",
       "      <th>0</th>\n",
       "      <td>dancing queen</td>\n",
       "      <td>소녀시대</td>\n",
       "      <td>3994911</td>\n",
       "      <td>2013-01-01</td>\n",
       "      <td>댄스</td>\n",
       "      <td>21566</td>\n",
       "      <td>36</td>\n",
       "      <td>1</td>\n",
       "      <td>0</td>\n",
       "      <td>11</td>\n",
       "    </tr>\n",
       "    <tr>\n",
       "      <th>1</th>\n",
       "      <td>사랑은 이렇게</td>\n",
       "      <td>케이윌</td>\n",
       "      <td>3995922</td>\n",
       "      <td>2012-12-22</td>\n",
       "      <td>발라드</td>\n",
       "      <td>9927</td>\n",
       "      <td>11</td>\n",
       "      <td>0</td>\n",
       "      <td>1</td>\n",
       "      <td>8</td>\n",
       "    </tr>\n",
       "    <tr>\n",
       "      <th>2</th>\n",
       "      <td>숲</td>\n",
       "      <td>이승기</td>\n",
       "      <td>3968836</td>\n",
       "      <td>2012-11-22</td>\n",
       "      <td>발라드</td>\n",
       "      <td>155630</td>\n",
       "      <td>361</td>\n",
       "      <td>0</td>\n",
       "      <td>0</td>\n",
       "      <td>3</td>\n",
       "    </tr>\n",
       "    <tr>\n",
       "      <th>3</th>\n",
       "      <td>카페인</td>\n",
       "      <td>양요섭</td>\n",
       "      <td>3971021</td>\n",
       "      <td>2012-11-26</td>\n",
       "      <td>발라드</td>\n",
       "      <td>80677</td>\n",
       "      <td>205</td>\n",
       "      <td>0</td>\n",
       "      <td>0</td>\n",
       "      <td>14</td>\n",
       "    </tr>\n",
       "    <tr>\n",
       "      <th>4</th>\n",
       "      <td>매력있어</td>\n",
       "      <td>akmu</td>\n",
       "      <td>3987723</td>\n",
       "      <td>2012-12-12</td>\n",
       "      <td>포크/블루스</td>\n",
       "      <td>38280</td>\n",
       "      <td>36</td>\n",
       "      <td>0</td>\n",
       "      <td>0</td>\n",
       "      <td>17</td>\n",
       "    </tr>\n",
       "    <tr>\n",
       "      <th>...</th>\n",
       "      <td>...</td>\n",
       "      <td>...</td>\n",
       "      <td>...</td>\n",
       "      <td>...</td>\n",
       "      <td>...</td>\n",
       "      <td>...</td>\n",
       "      <td>...</td>\n",
       "      <td>...</td>\n",
       "      <td>...</td>\n",
       "      <td>...</td>\n",
       "    </tr>\n",
       "    <tr>\n",
       "      <th>4380</th>\n",
       "      <td>나의 바람</td>\n",
       "      <td>비투비</td>\n",
       "      <td>36414423</td>\n",
       "      <td>2023-05-02</td>\n",
       "      <td>댄스</td>\n",
       "      <td>29084</td>\n",
       "      <td>776</td>\n",
       "      <td>1</td>\n",
       "      <td>0</td>\n",
       "      <td>1</td>\n",
       "    </tr>\n",
       "    <tr>\n",
       "      <th>4381</th>\n",
       "      <td>heaven</td>\n",
       "      <td>임재현</td>\n",
       "      <td>36394038</td>\n",
       "      <td>2023-04-25</td>\n",
       "      <td>발라드</td>\n",
       "      <td>16137</td>\n",
       "      <td>41</td>\n",
       "      <td>1</td>\n",
       "      <td>1</td>\n",
       "      <td>1</td>\n",
       "    </tr>\n",
       "    <tr>\n",
       "      <th>4382</th>\n",
       "      <td>안녕이라고 말하지마</td>\n",
       "      <td>vos</td>\n",
       "      <td>36410735</td>\n",
       "      <td>2023-04-30</td>\n",
       "      <td>발라드</td>\n",
       "      <td>7537</td>\n",
       "      <td>22</td>\n",
       "      <td>1</td>\n",
       "      <td>0</td>\n",
       "      <td>1</td>\n",
       "    </tr>\n",
       "    <tr>\n",
       "      <th>4383</th>\n",
       "      <td>이브, 프시케 그리고 푸른 수염의 아내</td>\n",
       "      <td>lesserafim</td>\n",
       "      <td>36411344</td>\n",
       "      <td>2023-05-01</td>\n",
       "      <td>댄스</td>\n",
       "      <td>14849</td>\n",
       "      <td>264</td>\n",
       "      <td>1</td>\n",
       "      <td>0</td>\n",
       "      <td>1</td>\n",
       "    </tr>\n",
       "    <tr>\n",
       "      <th>4384</th>\n",
       "      <td>no return</td>\n",
       "      <td>lesserafim</td>\n",
       "      <td>36411343</td>\n",
       "      <td>2023-05-01</td>\n",
       "      <td>댄스</td>\n",
       "      <td>14573</td>\n",
       "      <td>122</td>\n",
       "      <td>1</td>\n",
       "      <td>0</td>\n",
       "      <td>1</td>\n",
       "    </tr>\n",
       "  </tbody>\n",
       "</table>\n",
       "<p>4385 rows × 10 columns</p>\n",
       "</div>"
      ],
      "text/plain": [
       "                      music      singer  music_id release_date category  \\\n",
       "0             dancing queen        소녀시대   3994911   2013-01-01       댄스   \n",
       "1                   사랑은 이렇게         케이윌   3995922   2012-12-22      발라드   \n",
       "2                         숲         이승기   3968836   2012-11-22      발라드   \n",
       "3                       카페인         양요섭   3971021   2012-11-26      발라드   \n",
       "4                      매력있어        akmu   3987723   2012-12-12   포크/블루스   \n",
       "...                     ...         ...       ...          ...      ...   \n",
       "4380                  나의 바람         비투비  36414423   2023-05-02       댄스   \n",
       "4381                 heaven         임재현  36394038   2023-04-25      발라드   \n",
       "4382             안녕이라고 말하지마         vos  36410735   2023-04-30      발라드   \n",
       "4383  이브, 프시케 그리고 푸른 수염의 아내  lesserafim  36411344   2023-05-01       댄스   \n",
       "4384              no return  lesserafim  36411343   2023-05-01       댄스   \n",
       "\n",
       "      music_like  comment_count  within 7days  ost  rank_count  \n",
       "0          21566             36             1    0          11  \n",
       "1           9927             11             0    1           8  \n",
       "2         155630            361             0    0           3  \n",
       "3          80677            205             0    0          14  \n",
       "4          38280             36             0    0          17  \n",
       "...          ...            ...           ...  ...         ...  \n",
       "4380       29084            776             1    0           1  \n",
       "4381       16137             41             1    1           1  \n",
       "4382        7537             22             1    0           1  \n",
       "4383       14849            264             1    0           1  \n",
       "4384       14573            122             1    0           1  \n",
       "\n",
       "[4385 rows x 10 columns]"
      ]
     },
     "execution_count": 21,
     "metadata": {},
     "output_type": "execute_result"
    }
   ],
   "source": [
    "melon_df"
   ]
  },
  {
   "cell_type": "code",
   "execution_count": 22,
   "metadata": {},
   "outputs": [],
   "source": [
    "melon_df.to_csv('./melon_pre.csv')"
   ]
  },
  {
   "attachments": {},
   "cell_type": "markdown",
   "metadata": {},
   "source": [
    "### 6.가수 이름 word2vec "
   ]
  },
  {
   "cell_type": "code",
   "execution_count": 20,
   "metadata": {},
   "outputs": [],
   "source": [
    "from gensim.models.word2vec import Word2Vec"
   ]
  },
  {
   "cell_type": "code",
   "execution_count": 21,
   "metadata": {},
   "outputs": [],
   "source": [
    "m_singer_list = melon_df['singer'].tolist()"
   ]
  },
  {
   "cell_type": "code",
   "execution_count": 22,
   "metadata": {},
   "outputs": [],
   "source": [
    "#모델 불러오기\n",
    "#리스트인 melon_singer를 word2vec , mincount 1로 1개이상 값은 다 \n",
    "\n",
    "model = Word2Vec(sentences=[m_singer_list], min_count=1)\n",
    "\n",
    "singer_w2_dict = {}\n",
    "for singer in m_singer_list:\n",
    "    singer_w2_dict[singer] = model.wv[singer]\n"
   ]
  },
  {
   "cell_type": "code",
   "execution_count": 23,
   "metadata": {},
   "outputs": [],
   "source": [
    "# singer값을 word2vec 데이터로 바꾸기\n",
    "\n",
    "def make_word2vec_column(df,column,dict):\n",
    "    w2_list = []\n",
    "    for i in range(len(melon_df)):\n",
    "\n",
    "        singer = melon_df[f'{column}'].iloc[i]\n",
    "        try:\n",
    "            data = dict[singer]\n",
    "            w2_list.append(data)\n",
    "        except:\n",
    "            w2_list.append(np.NaN)\n",
    "\n",
    "    df[f'{column}'] = w2_list\n",
    "\n",
    "    return df"
   ]
  },
  {
   "cell_type": "code",
   "execution_count": 24,
   "metadata": {},
   "outputs": [],
   "source": [
    "melon = make_word2vec_column(melon_df,'singer',singer_w2_dict)"
   ]
  },
  {
   "attachments": {},
   "cell_type": "markdown",
   "metadata": {},
   "source": [
    "### 7.melon 카테고리에서 자른것들 원핫인코딩"
   ]
  },
  {
   "cell_type": "code",
   "execution_count": 126,
   "metadata": {},
   "outputs": [],
   "source": [
    "# # 카테고리 세분화 - 2개까지만\n",
    "# def Divide_category(df):\n",
    "#     cate_1 = []\n",
    "#     cate_2 = []\n",
    "\n",
    "\n",
    "#     for i in range(len(df)):\n",
    "#         category = df['category'].iloc[i]\n",
    "#         category_list = category.split(',')\n",
    "#         if len(category_list) == 1:\n",
    "#             cate_1.append(category_list[0])\n",
    "#             cate_2.append(np.NaN)\n",
    "#         elif len(category_list) >= 2:\n",
    "#             cate_1.append(category_list[0])\n",
    "#             cate_2.append(category_list[1])\n",
    "        \n",
    "#     df['category_1'] = cate_1\n",
    "#     df['category_2'] = cate_2\n",
    "\n",
    "#     return df\n",
    "\n",
    "# 카테고리 맨 앞꺼 빼고 삭제하는 함수\n",
    "def delete_category(df):\n",
    "    cate = []\n",
    "\n",
    "    for i in range(len(df)):\n",
    "        category = df['category'].iloc[i]\n",
    "        category_list = category.split(',')\n",
    "        cate.append(category_list[0])\n",
    "\n",
    "    df['category'] = cate\n",
    "\n",
    "    return df"
   ]
  },
  {
   "cell_type": "code",
   "execution_count": 127,
   "metadata": {},
   "outputs": [],
   "source": [
    "melon_df = delete_category(melon_df)"
   ]
  },
  {
   "cell_type": "code",
   "execution_count": 128,
   "metadata": {},
   "outputs": [],
   "source": [
    "from sklearn.preprocessing import OneHotEncoder"
   ]
  },
  {
   "cell_type": "code",
   "execution_count": 129,
   "metadata": {},
   "outputs": [
    {
     "name": "stderr",
     "output_type": "stream",
     "text": [
      "c:\\Users\\bin\\anaconda3\\envs\\shinhanAI\\Lib\\site-packages\\sklearn\\preprocessing\\_encoders.py:868: FutureWarning: `sparse` was renamed to `sparse_output` in version 1.2 and will be removed in 1.4. `sparse_output` is ignored unless you leave `sparse` to its default value.\n",
      "  warnings.warn(\n"
     ]
    }
   ],
   "source": [
    "ohe = OneHotEncoder(sparse=False)\n",
    "# fit_transform은 train에만 사용하고 test에는 학습된 인코더에 fit만 해야한다\n",
    "train_cat = ohe.fit_transform(melon_df[['category']])\n",
    "melon_df = pd.concat([melon_df.drop(columns=['category']),\n",
    "           pd.DataFrame(train_cat, columns=['category_' + col for col in ohe.categories_[0]])], axis=1)"
   ]
  },
  {
   "cell_type": "code",
   "execution_count": 131,
   "metadata": {},
   "outputs": [
    {
     "data": {
      "text/plain": [
       "Index(['music', 'singer', 'music_id', 'release_date', 'music_like',\n",
       "       'comment_count', 'within 7days', 'ost', 'singer-music', 'rank_count',\n",
       "       'category_CCM', 'category_J-POP', 'category_POP', 'category_R&B/Soul',\n",
       "       'category_게임', 'category_국내드라마', 'category_국내영화', 'category_국외영화',\n",
       "       'category_댄스', 'category_랩/힙합', 'category_록/메탈', 'category_발라드',\n",
       "       'category_성인가요/트로트', 'category_애니메이션/웹툰', 'category_월드뮤직',\n",
       "       'category_인디음악', 'category_일렉트로니카', 'category_재즈', 'category_클래식',\n",
       "       'category_포크/블루스'],\n",
       "      dtype='object')"
      ]
     },
     "execution_count": 131,
     "metadata": {},
     "output_type": "execute_result"
    }
   ],
   "source": [
    "melon_df.columns"
   ]
  },
  {
   "cell_type": "code",
   "execution_count": 132,
   "metadata": {},
   "outputs": [],
   "source": [
    "melon_df.to_csv('./music_pre.csv')"
   ]
  },
  {
   "cell_type": "code",
   "execution_count": null,
   "metadata": {},
   "outputs": [],
   "source": []
  },
  {
   "cell_type": "code",
   "execution_count": null,
   "metadata": {},
   "outputs": [],
   "source": []
  },
  {
   "cell_type": "code",
   "execution_count": 9,
   "metadata": {},
   "outputs": [],
   "source": [
    "import pandas as pd\n",
    "df = pd.read_csv('./music_pre.csv', index_col=0)"
   ]
  },
  {
   "cell_type": "code",
   "execution_count": 11,
   "metadata": {},
   "outputs": [
    {
     "data": {
      "text/plain": [
       "Index(['music', 'singer', 'music_id', 'release_date', 'music_like',\n",
       "       'comment_count', 'within 7days', 'ost', 'rank_count', 'category_CCM',\n",
       "       'category_J-POP', 'category_POP', 'category_R&B/Soul', 'category_게임',\n",
       "       'category_국내드라마', 'category_국내영화', 'category_국외영화', 'category_댄스',\n",
       "       'category_랩/힙합', 'category_록/메탈', 'category_발라드', 'category_성인가요/트로트',\n",
       "       'category_애니메이션/웹툰', 'category_월드뮤직', 'category_인디음악',\n",
       "       'category_일렉트로니카', 'category_재즈', 'category_클래식', 'category_포크/블루스'],\n",
       "      dtype='object')"
      ]
     },
     "execution_count": 11,
     "metadata": {},
     "output_type": "execute_result"
    }
   ],
   "source": [
    "df.columns"
   ]
  },
  {
   "cell_type": "code",
   "execution_count": null,
   "metadata": {},
   "outputs": [],
   "source": []
  }
 ],
 "metadata": {
  "kernelspec": {
   "display_name": "Python 3",
   "language": "python",
   "name": "python3"
  },
  "language_info": {
   "codemirror_mode": {
    "name": "ipython",
    "version": 3
   },
   "file_extension": ".py",
   "mimetype": "text/x-python",
   "name": "python",
   "nbconvert_exporter": "python",
   "pygments_lexer": "ipython3",
   "version": "3.10.9"
  },
  "orig_nbformat": 4
 },
 "nbformat": 4,
 "nbformat_minor": 2
}
