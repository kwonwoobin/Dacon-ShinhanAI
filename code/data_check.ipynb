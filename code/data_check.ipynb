{
 "cells": [
  {
   "cell_type": "code",
   "execution_count": 1,
   "metadata": {},
   "outputs": [],
   "source": [
    "import pandas as pd"
   ]
  },
  {
   "attachments": {},
   "cell_type": "markdown",
   "metadata": {},
   "source": [
    "# data check"
   ]
  },
  {
   "cell_type": "code",
   "execution_count": 71,
   "metadata": {},
   "outputs": [
    {
     "data": {
      "text/plain": [
       "1022"
      ]
     },
     "execution_count": 71,
     "metadata": {},
     "output_type": "execute_result"
    }
   ],
   "source": [
    "gaon_df = pd.read_csv('gaon_final_data.csv', index_col=0)\n",
    "gaon_df = gaon_df.loc[gaon_df['year']==2016]\n",
    "gaon_df['check']=gaon_df['music']+gaon_df['singer']\n",
    "gaon_df['check'].nunique()\n"
   ]
  },
  {
   "cell_type": "code",
   "execution_count": 77,
   "metadata": {},
   "outputs": [
    {
     "data": {
      "text/plain": [
       "array(['또 하루 (Feat. 개코)', '어땠을까', '소녀', ..., 'Dreamer',\n",
       "       '독도리 (Feat. 매드클라운)', '봄에 오면 괴롭힐 거예요'], dtype=object)"
      ]
     },
     "execution_count": 77,
     "metadata": {},
     "output_type": "execute_result"
    }
   ],
   "source": [
    "gaon_df['music'].unique()"
   ]
  },
  {
   "cell_type": "code",
   "execution_count": 72,
   "metadata": {},
   "outputs": [],
   "source": [
    "gaon_list = gaon_df['music'].unique().tolist()"
   ]
  },
  {
   "cell_type": "code",
   "execution_count": 79,
   "metadata": {},
   "outputs": [
    {
     "data": {
      "text/plain": [
       "array(['또 하루', '어땠을까', '소녀', '걱정말아요 그대', '함께', 'DADDY', '사랑이 맞을거야',\n",
       "       '매일 그대와', '나팔바지', '청춘', '유레카', '혜화동', '다시', 'OOH-AHH하게',\n",
       "       '네게 줄 수 있는건 오직 사랑뿐', '덤앤더머', '불공평해', '화이트', '또 다시 사랑',\n",
       "       'Boys And Girls', 'HOT PINK', '우주를 건너', 'Hello', '오늘부터 우리는', '스물셋',\n",
       "       'Ah-Choo', '호구', 'I', '취향저격', '열두 시가 되면', '사랑했지만', '아니라고',\n",
       "       'No Make Up', '친구라도 될 걸 그랬어', 'Dream', 'Dear Santa', '밤의 멜로디',\n",
       "       '비처럼 음악처럼', '비가 내리면', '왜 또', '이별밖에', 'Love Line', '바람이나 좀 쐐', '불꽃',\n",
       "       'RUN', '크리스마스니까', '안아보자', '보라빛향기', '겁', '지못미', '아마도 그건', '심쿵해',\n",
       "       '꺼내 먹어요', '어깨', '그런 사람', '북두칠성', '모르나봐', 'Girl x Friend', '무중력',\n",
       "       '가질 수 없는 너', '꿀잼', '웃픈 하루', '세월이 가면', 'Dumb Dumb', '기억 속의 먼 그대에게',\n",
       "       '백세인생', '야생화', '리듬 타', '푸르던', 'Hello Bitches', 'Zeze', 'HOME',\n",
       "       'Must Have Love', '4 Walls', '오늘은', '오만과 편견', '세가지 소원', '위잉위잉',\n",
       "       '보통연애', '발자국', '이럴거면 그러지말지', 'Okey Dokey', 'LOVE ME RIGHT', '가끔',\n",
       "       '사랑난로', '그 남잔 말야', 'CALL ME BABY', '말해 Yes Or No',\n",
       "       'VENI VIDI VICI', '꿀', 'Heaven', 'Break', '니 얼굴', '니가 하면 로맨스',\n",
       "       '이미 슬픈 사랑', '이젠 잊기로 해요', '차가운 손', '어떻게 사랑이 그래요', '너 같은', '가질래',\n",
       "       '사랑가시', '잘 지내고 있니', '로코 드라마', 'Better Man', '그 사람이 너니까',\n",
       "       '기억날 그날이 와도', 'PLASTIC', 'I am Love', '우연이라도', '사랑보다 깊은 상처', '날',\n",
       "       '잊어버리지마', '나 군대 간다', '당신의 지갑에는 얼마의 사랑이 있나요.', '사랑인걸', '사각지대',\n",
       "       '눈물바다', '세상 한가운데', 'Such', '나만의 슬픔', '찔려', '사랑합니다', '너는 나 나는 너',\n",
       "       '시간을 달려서', '어디에도', '사랑이었다 )', 'I Miss You', '어린왕자', '너와 나의 시간은',\n",
       "       '괜찮다가도', '어김없이', '아스라이', 'UUU', '서프라이즈', 'what2do',\n",
       "       'pale blue note', '사이다', '사랑별', 'TRUST', '회상', '유복하게 살았는데',\n",
       "       '이 밤이 지나기 전에', '1991年, 찬바람이 불던 밤....', '그 집 앞', 'Always',\n",
       "       '내 이름을 불러줘', '말하고 싶어도', '그런 날엔', '그거 알아?', 'EVERYTHING', '사랑만들기',\n",
       "       '서른 즈음에', 'Rain', 'BABY BABY', '약도 없대요', '싫어', '비밀', '철없어', '좋더라',\n",
       "       '뭐 어때', '이별이 오지 못하게', 'One Call Away', '벌써 겨울', '사랑한 그때처럼', '기다려줘',\n",
       "       '눈물', '생각해', '1cm의 자존심', '질투 나요 BABY', '사랑한다 할 수 있기에', '끝사랑',\n",
       "       'PICK ME', '거짓말', 'I Love You', 'Love You More', '유리구슬',\n",
       "       '떠나야 할 그 사람', 'Love Yourself', 'Tell Me', '횡단보도', '만화처럼',\n",
       "       '뭔가 될 것 같은 날', 'ALWAYS', 'Whoo', '조금만 더', '내 맘은 어디에 두죠', '여러분',\n",
       "       '뭘 알어', 'Everytime', '넌 is 뭔들', 'Press Your Number',\n",
       "       'Because of You', '꽃같아', '다시 사랑한다면', '길', '공감', '팔당댐', 'Galaxy',\n",
       "       'Drip Drop', 'Feel So Good', '금요일밤', 'Soldier', '벌써', '우리끼리',\n",
       "       'Emotion', 'Guess Who', '야 하고 싶어', '사랑이 온다', '봄인가 봐', 'ONLY ONE',\n",
       "       '이끌림', '미스터 미스터리', 'FANTASTIC BABY', 'Let It Be', 'Crazy', '같이살자',\n",
       "       '한숨', 'You Are My Everything', '손잡아 줘요', '너 라는 계절', 'WORLD TOUR',\n",
       "       'FXXK WIT US', '덕수궁 돌담길의 봄', 'OFFICIAL', '그림자', '싶은데',\n",
       "       '한 사람을 사랑했네', '봄 사랑 벚꽃 말고', '오늘은 가지마', '영혼없이 말하지마', '이야기',\n",
       "       'Mirror', '우연히 봄', '다시 너를', '말해! 뭐해?', '7월 7일', 'Don`t Cry',\n",
       "       '그녀가 곁에 없다면', '무지개', '같은 곳에서', 'Yum-Yum', 'Cool Hot Sweet Love',\n",
       "       'Fingertips', '사랑이니까', 'Don`t Matter', '장미꽃 향기는 바람에 날리고', '살찐 사랑',\n",
       "       '내가 이래', '처음인가요', '그렇게 안녕', 'Light Me Up', '24시간', 'City',\n",
       "       '사랑에 빠졌죠', 'Fly', '빗속으로', 'With You', '봄비', '사랑에 빠져요', '그녀가 웃었죠',\n",
       "       '떠나야만해', '사실은', '홍대와 건대 사이', 'Interview', '애태우는 여자', '자장가를 활용한 신곡',\n",
       "       '밤을 지워가네', '귀여운 여자', '키스', '담배', 'D', '꽃송이가', '한 발짝 두 발짝', '스토커',\n",
       "       '몇 년 후에', '봄이 좋냐??', '봄날의 기억', '사랑하자', '여수 밤바다', 'LIAR LIAR',\n",
       "       '다시 산다면', 'Killing Me', '나를 찾아줘', '그려본다', '너 내게로 와라', '너 같아서',\n",
       "       '8만원', '자리비움', 'So Pretty', '너도', '그대, 바람이 되어', 'Crush', '썸타',\n",
       "       '기대해도 좋은 날', '이렇게 예뻤나', '니꺼내꺼', '일기장', '니가 보인다', '제발', '알아',\n",
       "       '하늘을 걸어', 'How Can I Love You', 'Toy', '제주도의 푸른 밤',\n",
       "       'Walkin` In The Rain', '사랑이었다', '하여가', '살아있네', '질투', 'NO눈치',\n",
       "       '돌아오지마', '빙글빙글', '사랑의 바보', 'HOME RUN', 'The Name', '나쁜 여자',\n",
       "       '하늘바라기', 'MY STAR', '1년 365일', '다이너마이트', '네가 손짓해주면', '안봐도 비디오',\n",
       "       '사랑은 바람처럼', '희망고문', '밤샘', '나비 무덤', '어린애', 'Dynamic Love', '스쳐 간다',\n",
       "       'MISSING U', '비와', 'It`s OK', '사랑이란', '손의 이별', 'Home', '서툰 시',\n",
       "       'CHEER UP', '내 입술 따뜻한 커피처럼', 'Destiny', '예쁘다', '이 노래가 끝나면',\n",
       "       '홍대에 가면', '커플', '딴따라', 'NICE 2 MEET U', '안주거리', '너 나 우리', '소중한 사랑',\n",
       "       '너 없이 못 살아', 'Touchdown', '눈, 코, 입', '사랑했던걸까', 'RE-BYE',\n",
       "       '사람들이 움직이는 게', '새삼스럽게 왜', '불타오르네', '초록창가', 'Dream Girls',\n",
       "       '사소한 것에서', '주변인', '우아해', '벚꽃이 지면', 'Save ME',\n",
       "       'Epilogue : Young Forever', '똑 똑 똑', 'Doo Wap', '9 to 5',\n",
       "       'Love is not over', 'House Of Cards', '오늘 쓱', 'In The Air',\n",
       "       'Pick Me', 'I NEED U', 'The Day', 'I Just Wanna Dance', '끄덕끄덕',\n",
       "       '꿈처럼', '매일 매일 기다려', '마치 비행기', '안아줘', '나랑 갈래', '사진 찍어 보내 줘', '멀리멀리',\n",
       "       '그 사람', '향기', 'Gravity', 'Stand by me', 'TALK', '이별쟁이', '섹시한 남자',\n",
       "       'Good Luck', '열아홉', '1llusion', '두 남자', 'Life In Color', '하루종일',\n",
       "       '사랑 앞에서', 'Big Mini World', 'The Time Goes On',\n",
       "       'Falling Crazy In Love', '쏘쏘', '자격지심', '널 사랑하지 않아', '어쩌면 나',\n",
       "       '백만송이 장미', '좋아', '할 말', '궁금해', '다 좋아', '냉장고', '아직도 나를 사랑한다면',\n",
       "       'WINDY DAY', 'White T-Shirt', 'Nearness is to love', '우주가 있어',\n",
       "       '21', '니가 있어야 살아', '오늘 모해', '너였다면', 'L.I.E', '토요일의 끝에서',\n",
       "       'Shut Up & Groove', 'Time Travel', '바람에 머문다', 'SWEET MELODY',\n",
       "       'ROCK THE WORLD', 'Free Somebody', '젖고있어', 'I`M IN TROUBLE',\n",
       "       '데려다줄래', '내게 말해줘', 'APPLE PIE', '늦잠', '이 사랑을 떠나가면 안돼요',\n",
       "       'I Don`t Mind', 'Flexin', 'Monster', 'Lucky One', '일상으로의 초대',\n",
       "       'Lazenca, Save Us', '아주 오래된 연인들', '뚝뚝뚝', 'Artificial Love',\n",
       "       'Stronger', 'Cloud 9', '백색소음', '유리어항', '녹턴', 'They Never Know',\n",
       "       '민물 장어의 꿈', '바라지 않아', 'I`ll Be There', '알록달록', 'Heartbreak Hotel',\n",
       "       '너에게 안겨', '여름밤 피크닉', 'GOOD', '달고나', '봄에 오면 괴롭힐 거예요'], dtype=object)"
      ]
     },
     "execution_count": 79,
     "metadata": {},
     "output_type": "execute_result"
    }
   ],
   "source": [
    "melon_df =  pd.read_csv('./melon_data/melon_data_2016.csv', index_col=0)\n",
    "melon_df['check']=melon_df['music']+melon_df['singer']\n",
    "melon_df['music'].unique()"
   ]
  },
  {
   "cell_type": "code",
   "execution_count": 74,
   "metadata": {},
   "outputs": [],
   "source": [
    "melon_list = melon_df['music'].unique().tolist()"
   ]
  },
  {
   "cell_type": "code",
   "execution_count": 75,
   "metadata": {},
   "outputs": [],
   "source": [
    "result = []\n",
    "for i in melon_list:\n",
    "    if i not in gaon_list:\n",
    "        result.append(i)"
   ]
  },
  {
   "cell_type": "code",
   "execution_count": null,
   "metadata": {},
   "outputs": [],
   "source": []
  },
  {
   "cell_type": "code",
   "execution_count": null,
   "metadata": {},
   "outputs": [],
   "source": []
  },
  {
   "cell_type": "code",
   "execution_count": null,
   "metadata": {},
   "outputs": [],
   "source": []
  },
  {
   "cell_type": "code",
   "execution_count": null,
   "metadata": {},
   "outputs": [],
   "source": []
  },
  {
   "cell_type": "code",
   "execution_count": 8,
   "metadata": {},
   "outputs": [],
   "source": [
    "gaon_df = pd.read_csv('gaon_final_data.csv', index_col=0)\n",
    "melon_df = pd.read_csv('melon_data_2023.csv', index_col=0)"
   ]
  },
  {
   "cell_type": "code",
   "execution_count": 9,
   "metadata": {},
   "outputs": [
    {
     "data": {
      "text/html": [
       "<div>\n",
       "<style scoped>\n",
       "    .dataframe tbody tr th:only-of-type {\n",
       "        vertical-align: middle;\n",
       "    }\n",
       "\n",
       "    .dataframe tbody tr th {\n",
       "        vertical-align: top;\n",
       "    }\n",
       "\n",
       "    .dataframe thead th {\n",
       "        text-align: right;\n",
       "    }\n",
       "</style>\n",
       "<table border=\"1\" class=\"dataframe\">\n",
       "  <thead>\n",
       "    <tr style=\"text-align: right;\">\n",
       "      <th></th>\n",
       "      <th>music</th>\n",
       "      <th>music_id</th>\n",
       "      <th>release_date</th>\n",
       "      <th>category</th>\n",
       "      <th>music_like</th>\n",
       "      <th>comment_count</th>\n",
       "    </tr>\n",
       "  </thead>\n",
       "  <tbody>\n",
       "    <tr>\n",
       "      <th>0</th>\n",
       "      <td>FEARLESS</td>\n",
       "      <td>35009233</td>\n",
       "      <td>2022.05.02</td>\n",
       "      <td>댄스</td>\n",
       "      <td>109534</td>\n",
       "      <td>1828</td>\n",
       "    </tr>\n",
       "    <tr>\n",
       "      <th>1</th>\n",
       "      <td>그대를 알고</td>\n",
       "      <td>35920493</td>\n",
       "      <td>2022.12.13</td>\n",
       "      <td>발라드</td>\n",
       "      <td>37319</td>\n",
       "      <td>95</td>\n",
       "    </tr>\n",
       "    <tr>\n",
       "      <th>2</th>\n",
       "      <td>Rush Hour</td>\n",
       "      <td>35665282</td>\n",
       "      <td>2022.09.22</td>\n",
       "      <td>R&amp;B/Soul</td>\n",
       "      <td>111869</td>\n",
       "      <td>609</td>\n",
       "    </tr>\n",
       "    <tr>\n",
       "      <th>3</th>\n",
       "      <td>사랑인가 봐</td>\n",
       "      <td>34657844</td>\n",
       "      <td>2022.02.18</td>\n",
       "      <td>발라드, 국내드라마</td>\n",
       "      <td>184457</td>\n",
       "      <td>256</td>\n",
       "    </tr>\n",
       "    <tr>\n",
       "      <th>4</th>\n",
       "      <td>Pink Venom</td>\n",
       "      <td>35542908</td>\n",
       "      <td>2022.09.16</td>\n",
       "      <td>랩/힙합</td>\n",
       "      <td>155661</td>\n",
       "      <td>3099</td>\n",
       "    </tr>\n",
       "    <tr>\n",
       "      <th>...</th>\n",
       "      <td>...</td>\n",
       "      <td>...</td>\n",
       "      <td>...</td>\n",
       "      <td>...</td>\n",
       "      <td>...</td>\n",
       "      <td>...</td>\n",
       "    </tr>\n",
       "    <tr>\n",
       "      <th>73</th>\n",
       "      <td>Off My Face</td>\n",
       "      <td>33359309</td>\n",
       "      <td>2021.10.08</td>\n",
       "      <td>POP</td>\n",
       "      <td>165998</td>\n",
       "      <td>282</td>\n",
       "    </tr>\n",
       "    <tr>\n",
       "      <th>74</th>\n",
       "      <td>아버지</td>\n",
       "      <td>35008527</td>\n",
       "      <td>2022.05.02</td>\n",
       "      <td>발라드</td>\n",
       "      <td>51204</td>\n",
       "      <td>571</td>\n",
       "    </tr>\n",
       "    <tr>\n",
       "      <th>75</th>\n",
       "      <td>POP!</td>\n",
       "      <td>35333345</td>\n",
       "      <td>2022.06.24</td>\n",
       "      <td>댄스</td>\n",
       "      <td>91961</td>\n",
       "      <td>1269</td>\n",
       "    </tr>\n",
       "    <tr>\n",
       "      <th>76</th>\n",
       "      <td>Next Level</td>\n",
       "      <td>33487342</td>\n",
       "      <td>2021.05.17</td>\n",
       "      <td>댄스</td>\n",
       "      <td>257601</td>\n",
       "      <td>5923</td>\n",
       "    </tr>\n",
       "    <tr>\n",
       "      <th>77</th>\n",
       "      <td>내 손을 잡아</td>\n",
       "      <td>3414749</td>\n",
       "      <td>2011.05.25</td>\n",
       "      <td>발라드, 국내드라마</td>\n",
       "      <td>207635</td>\n",
       "      <td>1116</td>\n",
       "    </tr>\n",
       "  </tbody>\n",
       "</table>\n",
       "<p>78 rows × 6 columns</p>\n",
       "</div>"
      ],
      "text/plain": [
       "          music  music_id release_date    category  music_like  comment_count\n",
       "0      FEARLESS  35009233   2022.05.02          댄스      109534           1828\n",
       "1        그대를 알고  35920493   2022.12.13         발라드       37319             95\n",
       "2     Rush Hour  35665282   2022.09.22    R&B/Soul      111869            609\n",
       "3        사랑인가 봐  34657844   2022.02.18  발라드, 국내드라마      184457            256\n",
       "4    Pink Venom  35542908   2022.09.16        랩/힙합      155661           3099\n",
       "..          ...       ...          ...         ...         ...            ...\n",
       "73  Off My Face  33359309   2021.10.08         POP      165998            282\n",
       "74          아버지  35008527   2022.05.02         발라드       51204            571\n",
       "75         POP!  35333345   2022.06.24          댄스       91961           1269\n",
       "76   Next Level  33487342   2021.05.17          댄스      257601           5923\n",
       "77      내 손을 잡아   3414749   2011.05.25  발라드, 국내드라마      207635           1116\n",
       "\n",
       "[78 rows x 6 columns]"
      ]
     },
     "execution_count": 9,
     "metadata": {},
     "output_type": "execute_result"
    }
   ],
   "source": [
    "melon_df"
   ]
  },
  {
   "cell_type": "code",
   "execution_count": null,
   "metadata": {},
   "outputs": [],
   "source": []
  }
 ],
 "metadata": {
  "kernelspec": {
   "display_name": "Python 3",
   "language": "python",
   "name": "python3"
  },
  "language_info": {
   "codemirror_mode": {
    "name": "ipython",
    "version": 3
   },
   "file_extension": ".py",
   "mimetype": "text/x-python",
   "name": "python",
   "nbconvert_exporter": "python",
   "pygments_lexer": "ipython3",
   "version": "3.11.3"
  },
  "orig_nbformat": 4
 },
 "nbformat": 4,
 "nbformat_minor": 2
}
