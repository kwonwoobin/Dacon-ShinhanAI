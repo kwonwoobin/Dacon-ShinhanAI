{
 "cells": [
  {
   "cell_type": "code",
   "execution_count": 1,
   "metadata": {},
   "outputs": [],
   "source": [
    "import selenium\n",
    "from selenium import webdriver as wd\n",
    "import time\n",
    "import pandas as pd\n",
    "import bs4\n",
    "from bs4 import BeautifulSoup\n",
    "import requests\n",
    "from itertools import repeat\n",
    "\n",
    "\n",
    "from selenium.webdriver.common.by import By\n",
    "from selenium.webdriver.common.keys import Keys"
   ]
  },
  {
   "cell_type": "code",
   "execution_count": 2,
   "metadata": {},
   "outputs": [
    {
     "name": "stderr",
     "output_type": "stream",
     "text": [
      "C:\\Users\\zzzzz\\AppData\\Local\\Temp\\ipykernel_13224\\2799470202.py:2: DeprecationWarning: executable_path has been deprecated, please pass in a Service object\n",
      "  driver = wd.Chrome('./chromedriver') # 크롬드라이버 경로\n"
     ]
    }
   ],
   "source": [
    "# 크롬드라이버 열기\n",
    "driver = wd.Chrome('./chromedriver') # 크롬드라이버 경로\n",
    "driver.maximize_window() # 크롬창 크기 최대\n",
    "driver.implicitly_wait(10) \n",
    "\n",
    "# 드라이버가 해당 url 접속\n",
    "url =  'https://www.melon.com/search/total/index.htm?q=Kitsch&section=&mwkLogType=T' # 멜론차트 페이지\n",
    "driver.get(url)\n",
    "\n",
    "#html = requests.get(url)\n",
    "#bs_html = BeautifulSoup(driver.requests.get.content,\"html.parser\")"
   ]
  },
  {
   "cell_type": "code",
   "execution_count": 3,
   "metadata": {},
   "outputs": [],
   "source": [
    "next_info = driver.find_element(By.CSS_SELECTOR, '#divCollection > ul > li:nth-child(3) > a')\n",
    "next_info.click()"
   ]
  },
  {
   "cell_type": "code",
   "execution_count": 4,
   "metadata": {},
   "outputs": [],
   "source": [
    "song_info = driver.find_element(By.CSS_SELECTOR, '#frm_defaultList > div > table > tbody > tr:nth-child(1) > td:nth-child(3) > div > div > a.btn.btn_icon_detail > span')\n",
    "song_info.click()"
   ]
  },
  {
   "cell_type": "code",
   "execution_count": 5,
   "metadata": {},
   "outputs": [],
   "source": [
    "html = driver.page_source # 드라이버 현재 페이지의 html 정보 가져오기 \n",
    "                            # cf) requests.get(url)\n",
    "soup = BeautifulSoup(html, 'lxml')"
   ]
  },
  {
   "attachments": {},
   "cell_type": "markdown",
   "metadata": {},
   "source": [
    "좋아요 수"
   ]
  },
  {
   "cell_type": "code",
   "execution_count": 6,
   "metadata": {},
   "outputs": [
    {
     "data": {
      "text/plain": [
       "[<span class=\"cnt\" id=\"d_like_count\">108,929</span>,\n",
       " <span class=\"cnt\">담기</span>,\n",
       " <span class=\"cnt\">프린트</span>,\n",
       " <span class=\"cnt\">가사오류신고</span>,\n",
       " <span class=\"cnt\">193,563</span>,\n",
       " <span class=\"cnt\">\n",
       " <span class=\"none\">총건수</span>\n",
       " 2,805</span>,\n",
       " <span class=\"cnt\">15,695</span>,\n",
       " <span class=\"cnt\">\n",
       " <span class=\"none\">총건수</span>\n",
       " 786</span>,\n",
       " <span class=\"cnt\"> <span class=\"none\">총건수</span> 13,439 </span>,\n",
       " <span class=\"cnt\"> <span class=\"none\">총건수</span> 8,338 </span>]"
      ]
     },
     "execution_count": 6,
     "metadata": {},
     "output_type": "execute_result"
    }
   ],
   "source": [
    "soup.find_all('span', attrs={'class':'cnt'})"
   ]
  },
  {
   "cell_type": "code",
   "execution_count": 7,
   "metadata": {},
   "outputs": [
    {
     "data": {
      "text/plain": [
       "'108,929'"
      ]
     },
     "execution_count": 7,
     "metadata": {},
     "output_type": "execute_result"
    }
   ],
   "source": [
    "soup.find_all('span', attrs={'class':'cnt'})[0].get_text() # 년"
   ]
  },
  {
   "attachments": {},
   "cell_type": "markdown",
   "metadata": {},
   "source": [
    "댓글 수"
   ]
  },
  {
   "cell_type": "code",
   "execution_count": 8,
   "metadata": {},
   "outputs": [
    {
     "data": {
      "text/plain": [
       "[<span class=\"fc_point d_cmtpgn_srch_cnt\">2,046</span>]"
      ]
     },
     "execution_count": 8,
     "metadata": {},
     "output_type": "execute_result"
    }
   ],
   "source": [
    "soup.find_all('span', attrs={'class':'fc_point d_cmtpgn_srch_cnt'})"
   ]
  },
  {
   "cell_type": "code",
   "execution_count": 9,
   "metadata": {},
   "outputs": [
    {
     "data": {
      "text/plain": [
       "'2,046'"
      ]
     },
     "execution_count": 9,
     "metadata": {},
     "output_type": "execute_result"
    }
   ],
   "source": [
    "soup.find_all('span', attrs={'class':'fc_point d_cmtpgn_srch_cnt'})[0].get_text()"
   ]
  },
  {
   "cell_type": "code",
   "execution_count": 10,
   "metadata": {},
   "outputs": [],
   "source": [
    "#like_num = driver.find_element(By.CSS_SELECTOR, \"<span id=\"d_like_count\" class=\"cnt\">108,804</span>\")#\n",
    "#like_num"
   ]
  },
  {
   "cell_type": "code",
   "execution_count": null,
   "metadata": {},
   "outputs": [],
   "source": []
  },
  {
   "cell_type": "code",
   "execution_count": 11,
   "metadata": {},
   "outputs": [
    {
     "data": {
      "text/html": [
       "<div>\n",
       "<style scoped>\n",
       "    .dataframe tbody tr th:only-of-type {\n",
       "        vertical-align: middle;\n",
       "    }\n",
       "\n",
       "    .dataframe tbody tr th {\n",
       "        vertical-align: top;\n",
       "    }\n",
       "\n",
       "    .dataframe thead th {\n",
       "        text-align: right;\n",
       "    }\n",
       "</style>\n",
       "<table border=\"1\" class=\"dataframe\">\n",
       "  <thead>\n",
       "    <tr style=\"text-align: right;\">\n",
       "      <th></th>\n",
       "      <th>album</th>\n",
       "      <th>end_date</th>\n",
       "      <th>music</th>\n",
       "      <th>rank</th>\n",
       "      <th>singer</th>\n",
       "      <th>start_date</th>\n",
       "      <th>week_num</th>\n",
       "      <th>year</th>\n",
       "    </tr>\n",
       "  </thead>\n",
       "  <tbody>\n",
       "    <tr>\n",
       "      <th>0</th>\n",
       "      <td>Kitsch</td>\n",
       "      <td>2023.04.15</td>\n",
       "      <td>Kitsch</td>\n",
       "      <td>1</td>\n",
       "      <td>IVE (아이브)</td>\n",
       "      <td>2023.04.09</td>\n",
       "      <td>15</td>\n",
       "      <td>2023</td>\n",
       "    </tr>\n",
       "    <tr>\n",
       "      <th>1</th>\n",
       "      <td>I`ve IVE</td>\n",
       "      <td>2023.04.08</td>\n",
       "      <td>I AM</td>\n",
       "      <td>2</td>\n",
       "      <td>IVE (아이브)</td>\n",
       "      <td>2023.04.02</td>\n",
       "      <td>15</td>\n",
       "      <td>2023</td>\n",
       "    </tr>\n",
       "    <tr>\n",
       "      <th>2</th>\n",
       "      <td>ME</td>\n",
       "      <td>2023.04.01</td>\n",
       "      <td>꽃</td>\n",
       "      <td>3</td>\n",
       "      <td>지수 (JISOO)</td>\n",
       "      <td>2023.03.26</td>\n",
       "      <td>15</td>\n",
       "      <td>2023</td>\n",
       "    </tr>\n",
       "    <tr>\n",
       "      <th>3</th>\n",
       "      <td>NewJeans `OMG`</td>\n",
       "      <td>2023.03.25</td>\n",
       "      <td>Ditto</td>\n",
       "      <td>4</td>\n",
       "      <td>NewJeans</td>\n",
       "      <td>2023.03.19</td>\n",
       "      <td>15</td>\n",
       "      <td>2023</td>\n",
       "    </tr>\n",
       "    <tr>\n",
       "      <th>4</th>\n",
       "      <td>NewJeans 1st EP `New Jeans`</td>\n",
       "      <td>2023.03.18</td>\n",
       "      <td>Hype boy</td>\n",
       "      <td>5</td>\n",
       "      <td>NewJeans</td>\n",
       "      <td>2023.03.12</td>\n",
       "      <td>15</td>\n",
       "      <td>2023</td>\n",
       "    </tr>\n",
       "    <tr>\n",
       "      <th>...</th>\n",
       "      <td>...</td>\n",
       "      <td>...</td>\n",
       "      <td>...</td>\n",
       "      <td>...</td>\n",
       "      <td>...</td>\n",
       "      <td>...</td>\n",
       "      <td>...</td>\n",
       "      <td>...</td>\n",
       "    </tr>\n",
       "    <tr>\n",
       "      <th>6037</th>\n",
       "      <td>Atelier</td>\n",
       "      <td>2023.03.18</td>\n",
       "      <td>술 한잔 해요</td>\n",
       "      <td>5</td>\n",
       "      <td>지아 (Zia)</td>\n",
       "      <td>2023.03.12</td>\n",
       "      <td>1</td>\n",
       "      <td>2010</td>\n",
       "    </tr>\n",
       "    <tr>\n",
       "      <th>6038</th>\n",
       "      <td>너 때문에</td>\n",
       "      <td>2023.03.11</td>\n",
       "      <td>너 때문에</td>\n",
       "      <td>6</td>\n",
       "      <td>애프터스쿨 (After School)</td>\n",
       "      <td>2023.03.05</td>\n",
       "      <td>1</td>\n",
       "      <td>2010</td>\n",
       "    </tr>\n",
       "    <tr>\n",
       "      <th>6039</th>\n",
       "      <td>3rd Album Part B - Growing Season</td>\n",
       "      <td>2023.03.04</td>\n",
       "      <td>오늘 헤어졌어요</td>\n",
       "      <td>7</td>\n",
       "      <td>윤하</td>\n",
       "      <td>2023.02.26</td>\n",
       "      <td>1</td>\n",
       "      <td>2010</td>\n",
       "    </tr>\n",
       "    <tr>\n",
       "      <th>6040</th>\n",
       "      <td>End And.. (Repackage)</td>\n",
       "      <td>2023.02.25</td>\n",
       "      <td>Love Story</td>\n",
       "      <td>8</td>\n",
       "      <td>쥬얼리 (Jewelry)</td>\n",
       "      <td>2023.02.19</td>\n",
       "      <td>1</td>\n",
       "      <td>2010</td>\n",
       "    </tr>\n",
       "    <tr>\n",
       "      <th>6041</th>\n",
       "      <td>The 2nd Purple Dream Sound</td>\n",
       "      <td>2023.02.18</td>\n",
       "      <td>넌 나를 왜 (Feat. 정엽)</td>\n",
       "      <td>9</td>\n",
       "      <td>길미</td>\n",
       "      <td>2023.02.12</td>\n",
       "      <td>1</td>\n",
       "      <td>2010</td>\n",
       "    </tr>\n",
       "  </tbody>\n",
       "</table>\n",
       "<p>6042 rows × 8 columns</p>\n",
       "</div>"
      ],
      "text/plain": [
       "                                  album    end_date              music  rank  \\\n",
       "0                                Kitsch  2023.04.15             Kitsch     1   \n",
       "1                              I`ve IVE  2023.04.08               I AM     2   \n",
       "2                                    ME  2023.04.01                  꽃     3   \n",
       "3                        NewJeans `OMG`  2023.03.25              Ditto     4   \n",
       "4           NewJeans 1st EP `New Jeans`  2023.03.18           Hype boy     5   \n",
       "...                                 ...         ...                ...   ...   \n",
       "6037                            Atelier  2023.03.18            술 한잔 해요     5   \n",
       "6038                              너 때문에  2023.03.11              너 때문에     6   \n",
       "6039  3rd Album Part B - Growing Season  2023.03.04           오늘 헤어졌어요     7   \n",
       "6040              End And.. (Repackage)  2023.02.25         Love Story     8   \n",
       "6041         The 2nd Purple Dream Sound  2023.02.18  넌 나를 왜 (Feat. 정엽)     9   \n",
       "\n",
       "                    singer  start_date  week_num  year  \n",
       "0                IVE (아이브)  2023.04.09        15  2023  \n",
       "1                IVE (아이브)  2023.04.02        15  2023  \n",
       "2               지수 (JISOO)  2023.03.26        15  2023  \n",
       "3                 NewJeans  2023.03.19        15  2023  \n",
       "4                 NewJeans  2023.03.12        15  2023  \n",
       "...                    ...         ...       ...   ...  \n",
       "6037              지아 (Zia)  2023.03.12         1  2010  \n",
       "6038  애프터스쿨 (After School)  2023.03.05         1  2010  \n",
       "6039                    윤하  2023.02.26         1  2010  \n",
       "6040         쥬얼리 (Jewelry)  2023.02.19         1  2010  \n",
       "6041                    길미  2023.02.12         1  2010  \n",
       "\n",
       "[6042 rows x 8 columns]"
      ]
     },
     "execution_count": 11,
     "metadata": {},
     "output_type": "execute_result"
    }
   ],
   "source": [
    "data = pd.read_csv('C:/Users/zzzzz/신한ai/gaon_sample.csv', encoding='UTF-8')\n",
    "data"
   ]
  },
  {
   "cell_type": "code",
   "execution_count": 12,
   "metadata": {},
   "outputs": [
    {
     "data": {
      "text/html": [
       "<div>\n",
       "<style scoped>\n",
       "    .dataframe tbody tr th:only-of-type {\n",
       "        vertical-align: middle;\n",
       "    }\n",
       "\n",
       "    .dataframe tbody tr th {\n",
       "        vertical-align: top;\n",
       "    }\n",
       "\n",
       "    .dataframe thead th {\n",
       "        text-align: right;\n",
       "    }\n",
       "</style>\n",
       "<table border=\"1\" class=\"dataframe\">\n",
       "  <thead>\n",
       "    <tr style=\"text-align: right;\">\n",
       "      <th></th>\n",
       "      <th>album</th>\n",
       "      <th>end_date</th>\n",
       "      <th>music</th>\n",
       "      <th>rank</th>\n",
       "      <th>singer</th>\n",
       "      <th>start_date</th>\n",
       "      <th>week_num</th>\n",
       "      <th>year</th>\n",
       "    </tr>\n",
       "  </thead>\n",
       "  <tbody>\n",
       "    <tr>\n",
       "      <th>0</th>\n",
       "      <td>Kitsch</td>\n",
       "      <td>2023.04.15</td>\n",
       "      <td>Kitsch</td>\n",
       "      <td>1</td>\n",
       "      <td>IVE (아이브)</td>\n",
       "      <td>2023.04.09</td>\n",
       "      <td>15</td>\n",
       "      <td>2023</td>\n",
       "    </tr>\n",
       "    <tr>\n",
       "      <th>1</th>\n",
       "      <td>I`ve IVE</td>\n",
       "      <td>2023.04.08</td>\n",
       "      <td>I AM</td>\n",
       "      <td>2</td>\n",
       "      <td>IVE (아이브)</td>\n",
       "      <td>2023.04.02</td>\n",
       "      <td>15</td>\n",
       "      <td>2023</td>\n",
       "    </tr>\n",
       "    <tr>\n",
       "      <th>2</th>\n",
       "      <td>ME</td>\n",
       "      <td>2023.04.01</td>\n",
       "      <td>꽃</td>\n",
       "      <td>3</td>\n",
       "      <td>지수 (JISOO)</td>\n",
       "      <td>2023.03.26</td>\n",
       "      <td>15</td>\n",
       "      <td>2023</td>\n",
       "    </tr>\n",
       "    <tr>\n",
       "      <th>3</th>\n",
       "      <td>NewJeans `OMG`</td>\n",
       "      <td>2023.03.25</td>\n",
       "      <td>Ditto</td>\n",
       "      <td>4</td>\n",
       "      <td>NewJeans</td>\n",
       "      <td>2023.03.19</td>\n",
       "      <td>15</td>\n",
       "      <td>2023</td>\n",
       "    </tr>\n",
       "    <tr>\n",
       "      <th>4</th>\n",
       "      <td>NewJeans 1st EP `New Jeans`</td>\n",
       "      <td>2023.03.18</td>\n",
       "      <td>Hype boy</td>\n",
       "      <td>5</td>\n",
       "      <td>NewJeans</td>\n",
       "      <td>2023.03.12</td>\n",
       "      <td>15</td>\n",
       "      <td>2023</td>\n",
       "    </tr>\n",
       "    <tr>\n",
       "      <th>...</th>\n",
       "      <td>...</td>\n",
       "      <td>...</td>\n",
       "      <td>...</td>\n",
       "      <td>...</td>\n",
       "      <td>...</td>\n",
       "      <td>...</td>\n",
       "      <td>...</td>\n",
       "      <td>...</td>\n",
       "    </tr>\n",
       "    <tr>\n",
       "      <th>6037</th>\n",
       "      <td>Atelier</td>\n",
       "      <td>2023.03.18</td>\n",
       "      <td>술 한잔 해요</td>\n",
       "      <td>5</td>\n",
       "      <td>지아 (Zia)</td>\n",
       "      <td>2023.03.12</td>\n",
       "      <td>1</td>\n",
       "      <td>2010</td>\n",
       "    </tr>\n",
       "    <tr>\n",
       "      <th>6038</th>\n",
       "      <td>너 때문에</td>\n",
       "      <td>2023.03.11</td>\n",
       "      <td>너 때문에</td>\n",
       "      <td>6</td>\n",
       "      <td>애프터스쿨 (After School)</td>\n",
       "      <td>2023.03.05</td>\n",
       "      <td>1</td>\n",
       "      <td>2010</td>\n",
       "    </tr>\n",
       "    <tr>\n",
       "      <th>6039</th>\n",
       "      <td>3rd Album Part B - Growing Season</td>\n",
       "      <td>2023.03.04</td>\n",
       "      <td>오늘 헤어졌어요</td>\n",
       "      <td>7</td>\n",
       "      <td>윤하</td>\n",
       "      <td>2023.02.26</td>\n",
       "      <td>1</td>\n",
       "      <td>2010</td>\n",
       "    </tr>\n",
       "    <tr>\n",
       "      <th>6040</th>\n",
       "      <td>End And.. (Repackage)</td>\n",
       "      <td>2023.02.25</td>\n",
       "      <td>Love Story</td>\n",
       "      <td>8</td>\n",
       "      <td>쥬얼리 (Jewelry)</td>\n",
       "      <td>2023.02.19</td>\n",
       "      <td>1</td>\n",
       "      <td>2010</td>\n",
       "    </tr>\n",
       "    <tr>\n",
       "      <th>6041</th>\n",
       "      <td>The 2nd Purple Dream Sound</td>\n",
       "      <td>2023.02.18</td>\n",
       "      <td>넌 나를 왜 (Feat. 정엽)</td>\n",
       "      <td>9</td>\n",
       "      <td>길미</td>\n",
       "      <td>2023.02.12</td>\n",
       "      <td>1</td>\n",
       "      <td>2010</td>\n",
       "    </tr>\n",
       "  </tbody>\n",
       "</table>\n",
       "<p>6042 rows × 8 columns</p>\n",
       "</div>"
      ],
      "text/plain": [
       "                                  album    end_date              music  rank  \\\n",
       "0                                Kitsch  2023.04.15             Kitsch     1   \n",
       "1                              I`ve IVE  2023.04.08               I AM     2   \n",
       "2                                    ME  2023.04.01                  꽃     3   \n",
       "3                        NewJeans `OMG`  2023.03.25              Ditto     4   \n",
       "4           NewJeans 1st EP `New Jeans`  2023.03.18           Hype boy     5   \n",
       "...                                 ...         ...                ...   ...   \n",
       "6037                            Atelier  2023.03.18            술 한잔 해요     5   \n",
       "6038                              너 때문에  2023.03.11              너 때문에     6   \n",
       "6039  3rd Album Part B - Growing Season  2023.03.04           오늘 헤어졌어요     7   \n",
       "6040              End And.. (Repackage)  2023.02.25         Love Story     8   \n",
       "6041         The 2nd Purple Dream Sound  2023.02.18  넌 나를 왜 (Feat. 정엽)     9   \n",
       "\n",
       "                    singer  start_date  week_num  year  \n",
       "0                IVE (아이브)  2023.04.09        15  2023  \n",
       "1                IVE (아이브)  2023.04.02        15  2023  \n",
       "2               지수 (JISOO)  2023.03.26        15  2023  \n",
       "3                 NewJeans  2023.03.19        15  2023  \n",
       "4                 NewJeans  2023.03.12        15  2023  \n",
       "...                    ...         ...       ...   ...  \n",
       "6037              지아 (Zia)  2023.03.12         1  2010  \n",
       "6038  애프터스쿨 (After School)  2023.03.05         1  2010  \n",
       "6039                    윤하  2023.02.26         1  2010  \n",
       "6040         쥬얼리 (Jewelry)  2023.02.19         1  2010  \n",
       "6041                    길미  2023.02.12         1  2010  \n",
       "\n",
       "[6042 rows x 8 columns]"
      ]
     },
     "execution_count": 12,
     "metadata": {},
     "output_type": "execute_result"
    }
   ],
   "source": [
    "df = data.copy()\n",
    "df"
   ]
  },
  {
   "cell_type": "code",
   "execution_count": 13,
   "metadata": {},
   "outputs": [
    {
     "data": {
      "text/plain": [
       "<bound method Series.drop_duplicates of 0                  Kitsch\n",
       "1                    I AM\n",
       "2                       꽃\n",
       "3                   Ditto\n",
       "4                Hype boy\n",
       "              ...        \n",
       "6037              술 한잔 해요\n",
       "6038                너 때문에\n",
       "6039             오늘 헤어졌어요\n",
       "6040           Love Story\n",
       "6041    넌 나를 왜 (Feat. 정엽)\n",
       "Name: music, Length: 6042, dtype: object>"
      ]
     },
     "execution_count": 13,
     "metadata": {},
     "output_type": "execute_result"
    }
   ],
   "source": [
    "music = df['music'].drop_duplicates\n",
    "music"
   ]
  },
  {
   "cell_type": "code",
   "execution_count": 14,
   "metadata": {},
   "outputs": [
    {
     "ename": "TypeError",
     "evalue": "'method' object is not iterable",
     "output_type": "error",
     "traceback": [
      "\u001b[1;31m---------------------------------------------------------------------------\u001b[0m",
      "\u001b[1;31mTypeError\u001b[0m                                 Traceback (most recent call last)",
      "\u001b[1;32mc:\\Users\\zzzzz\\신한ai\\crawling.ipynb Cell 17\u001b[0m in \u001b[0;36m<cell line: 1>\u001b[1;34m()\u001b[0m\n\u001b[1;32m----> <a href='vscode-notebook-cell:/c%3A/Users/zzzzz/%EC%8B%A0%ED%95%9Cai/crawling.ipynb#X14sZmlsZQ%3D%3D?line=0'>1</a>\u001b[0m \u001b[39mfor\u001b[39;00m i \u001b[39min\u001b[39;00m music:\n\u001b[0;32m      <a href='vscode-notebook-cell:/c%3A/Users/zzzzz/%EC%8B%A0%ED%95%9Cai/crawling.ipynb#X14sZmlsZQ%3D%3D?line=1'>2</a>\u001b[0m     result \u001b[39m=\u001b[39m \u001b[39mf\u001b[39m\u001b[39m'\u001b[39m\u001b[39mhttps://www.melon.com/search/total/index.htm?q=\u001b[39m\u001b[39m{\u001b[39;00mi\u001b[39m}\u001b[39;00m\u001b[39m&section=&mwkLogType=T\u001b[39m\u001b[39m'\u001b[39m\n",
      "\u001b[1;31mTypeError\u001b[0m: 'method' object is not iterable"
     ]
    }
   ],
   "source": [
    "for i in music:\n",
    "    result = f'https://www.melon.com/search/total/index.htm?q={i}&section=&mwkLogType=T'"
   ]
  },
  {
   "cell_type": "code",
   "execution_count": null,
   "metadata": {},
   "outputs": [],
   "source": [
    "# search = driver.find_element(By.CSS_SELECTOR, '#top_search')\n",
    "# search.click()"
   ]
  },
  {
   "cell_type": "code",
   "execution_count": null,
   "metadata": {},
   "outputs": [],
   "source": [
    "# search.send_keys('Kitsch')"
   ]
  },
  {
   "cell_type": "code",
   "execution_count": null,
   "metadata": {},
   "outputs": [],
   "source": [
    "#search.send_keys(Keys.ENTER)"
   ]
  }
 ],
 "metadata": {
  "kernelspec": {
   "display_name": "Python 3",
   "language": "python",
   "name": "python3"
  },
  "language_info": {
   "codemirror_mode": {
    "name": "ipython",
    "version": 3
   },
   "file_extension": ".py",
   "mimetype": "text/x-python",
   "name": "python",
   "nbconvert_exporter": "python",
   "pygments_lexer": "ipython3",
   "version": "3.9.13"
  },
  "orig_nbformat": 4
 },
 "nbformat": 4,
 "nbformat_minor": 2
}
