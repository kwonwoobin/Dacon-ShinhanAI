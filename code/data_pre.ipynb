{
 "cells": [
  {
   "cell_type": "code",
   "execution_count": 4,
   "metadata": {},
   "outputs": [],
   "source": [
    "import pandas as pd\n",
    "import re\n",
    "import numpy as np"
   ]
  },
  {
   "cell_type": "code",
   "execution_count": 5,
   "metadata": {},
   "outputs": [],
   "source": [
    "gaon_df = pd.read_csv('../data/gaon_final_data.csv', index_col=0)\n"
   ]
  },
  {
   "cell_type": "code",
   "execution_count": 6,
   "metadata": {},
   "outputs": [],
   "source": [
    "melon_df = pd.read_csv('../data/melon_final_data.csv', index_col=0)"
   ]
  },
  {
   "attachments": {},
   "cell_type": "markdown",
   "metadata": {},
   "source": [
    "### 1.데이터 특수문자 공백제거"
   ]
  },
  {
   "cell_type": "code",
   "execution_count": 7,
   "metadata": {},
   "outputs": [],
   "source": [
    "# 괄호 따로 저장해서 컬럼으로 추가\n",
    "### 가수 괄호는 따로 컬럼에 저장 *혹시 데이터 일치여부에 사용할 수 있으니\n",
    "\n",
    "def Save_Bracket(df, column):\n",
    "    result = []\n",
    "    new_column = []\n",
    "    for i in range(len(df)):\n",
    "        data = df.iloc[i][f'{column}']\n",
    "\n",
    "        # 소문자로 바꾸기\n",
    "        data = data.lower()\n",
    "\n",
    "        # 괄호 안 내용 저장\n",
    "        if data.find('(') != -1:\n",
    "            p = re.compile('\\(([^)]+)')\n",
    "            data_bracket = p.findall(data)[0]\n",
    "            # 괄호 삭제\n",
    "            data = re.sub(' \\([^)]*\\)','', data)\n",
    "\n",
    "            # 리스트에 데이터 추가\n",
    "            result.append(data)\n",
    "            new_column.append(data_bracket)\n",
    "            \n",
    "        else:\n",
    "            result.append(data)\n",
    "            new_column.append(np.NaN)\n",
    "\n",
    "    df[f'{column}'] = result\n",
    "    df[f'{column} bracket'] = new_column\n",
    "\n",
    "    return df\n",
    "\n",
    "# 멜론 데이터 전처리\n",
    "def Make_Clean_Name(df, column):\n",
    "    result = []\n",
    "    for i in range(len(df)):\n",
    "        data = df.iloc[i][f'{column}']\n",
    "\n",
    "        # 특수문자 제거 (콤마는 빼고 제거)\n",
    "        data = re.sub('[-=+#/\\?:^.@★*\\\"※~ㆍ!』‘|\\(\\)\\[\\]`\\'…》\\”\\“\\’·]', \" \",data)\n",
    "\n",
    "        # 소문자로 바꾸기\n",
    "        data = data.lower()\n",
    "        \n",
    "        if column == 'singer':\n",
    "            # 가수이름은 모든 공백 제거\n",
    "            data = data.replace(' ','')\n",
    "        else:  \n",
    "            # 앞,뒤 공백 제거\n",
    "            data = data.strip()\n",
    "\n",
    "        result.append(data)\n",
    "\n",
    "    df[f'{column}'] = result\n",
    "\n",
    "    return df\n"
   ]
  },
  {
   "cell_type": "code",
   "execution_count": 8,
   "metadata": {},
   "outputs": [],
   "source": [
    "# gaon_df 전처리\n",
    "gaon_df = Save_Bracket(gaon_df, 'music')\n",
    "gaon_df = Save_Bracket(gaon_df, 'singer')\n",
    "gaon_df = Make_Clean_Name(gaon_df, 'music')\n",
    "gaon_df = Make_Clean_Name(gaon_df, 'singer')\n",
    "\n"
   ]
  },
  {
   "cell_type": "code",
   "execution_count": 9,
   "metadata": {},
   "outputs": [],
   "source": [
    "# melon_df 전처리\n",
    "melon_df = Make_Clean_Name(melon_df, 'music')\n",
    "melon_df = Make_Clean_Name(melon_df, 'singer')"
   ]
  },
  {
   "attachments": {},
   "cell_type": "markdown",
   "metadata": {},
   "source": [
    "### 2.차트에 든 횟수 DV(종속변수) 컬럼 만들기"
   ]
  },
  {
   "cell_type": "code",
   "execution_count": 10,
   "metadata": {},
   "outputs": [],
   "source": [
    "gaon_df['singer-music'] = gaon_df['singer'] + '-' + gaon_df['music']\n",
    "DV_df = pd.DataFrame(gaon_df['singer-music'].value_counts())\n",
    "DV_df.reset_index(drop=False, inplace=True)\n",
    "DV_df.rename(columns={'index':'music', 'music':'rank_count'}, inplace=True)"
   ]
  },
  {
   "cell_type": "code",
   "execution_count": 11,
   "metadata": {},
   "outputs": [
    {
     "data": {
      "text/html": [
       "<div>\n",
       "<style scoped>\n",
       "    .dataframe tbody tr th:only-of-type {\n",
       "        vertical-align: middle;\n",
       "    }\n",
       "\n",
       "    .dataframe tbody tr th {\n",
       "        vertical-align: top;\n",
       "    }\n",
       "\n",
       "    .dataframe thead th {\n",
       "        text-align: right;\n",
       "    }\n",
       "</style>\n",
       "<table border=\"1\" class=\"dataframe\">\n",
       "  <thead>\n",
       "    <tr style=\"text-align: right;\">\n",
       "      <th></th>\n",
       "      <th>music</th>\n",
       "      <th>singer-music</th>\n",
       "    </tr>\n",
       "  </thead>\n",
       "  <tbody>\n",
       "    <tr>\n",
       "      <th>0</th>\n",
       "      <td>방탄소년단-봄날</td>\n",
       "      <td>324</td>\n",
       "    </tr>\n",
       "    <tr>\n",
       "      <th>1</th>\n",
       "      <td>폴킴-모든 날, 모든 순간</td>\n",
       "      <td>268</td>\n",
       "    </tr>\n",
       "    <tr>\n",
       "      <th>2</th>\n",
       "      <td>akmu-어떻게 이별까지 사랑하겠어, 널 사랑하는 거지</td>\n",
       "      <td>171</td>\n",
       "    </tr>\n",
       "    <tr>\n",
       "      <th>3</th>\n",
       "      <td>아이유-밤편지</td>\n",
       "      <td>169</td>\n",
       "    </tr>\n",
       "    <tr>\n",
       "      <th>4</th>\n",
       "      <td>임영웅-이제 나만 믿어요</td>\n",
       "      <td>161</td>\n",
       "    </tr>\n",
       "    <tr>\n",
       "      <th>...</th>\n",
       "      <td>...</td>\n",
       "      <td>...</td>\n",
       "    </tr>\n",
       "    <tr>\n",
       "      <th>7369</th>\n",
       "      <td>백지영,나원주-니가 내리는 날</td>\n",
       "      <td>1</td>\n",
       "    </tr>\n",
       "    <tr>\n",
       "      <th>7370</th>\n",
       "      <td>에이핑크-동화 같은 사랑</td>\n",
       "      <td>1</td>\n",
       "    </tr>\n",
       "    <tr>\n",
       "      <th>7371</th>\n",
       "      <td>에이핑크-천사가 아냐</td>\n",
       "      <td>1</td>\n",
       "    </tr>\n",
       "    <tr>\n",
       "      <th>7372</th>\n",
       "      <td>싸이-rock will never die</td>\n",
       "      <td>1</td>\n",
       "    </tr>\n",
       "    <tr>\n",
       "      <th>7373</th>\n",
       "      <td>lesserafim-no return</td>\n",
       "      <td>1</td>\n",
       "    </tr>\n",
       "  </tbody>\n",
       "</table>\n",
       "<p>7374 rows × 2 columns</p>\n",
       "</div>"
      ],
      "text/plain": [
       "                               music  singer-music\n",
       "0                           방탄소년단-봄날           324\n",
       "1                     폴킴-모든 날, 모든 순간           268\n",
       "2     akmu-어떻게 이별까지 사랑하겠어, 널 사랑하는 거지           171\n",
       "3                            아이유-밤편지           169\n",
       "4                      임영웅-이제 나만 믿어요           161\n",
       "...                              ...           ...\n",
       "7369                백지영,나원주-니가 내리는 날             1\n",
       "7370                   에이핑크-동화 같은 사랑             1\n",
       "7371                     에이핑크-천사가 아냐             1\n",
       "7372          싸이-rock will never die             1\n",
       "7373            lesserafim-no return             1\n",
       "\n",
       "[7374 rows x 2 columns]"
      ]
     },
     "execution_count": 11,
     "metadata": {},
     "output_type": "execute_result"
    }
   ],
   "source": [
    "DV_df"
   ]
  },
  {
   "attachments": {},
   "cell_type": "markdown",
   "metadata": {},
   "source": [
    "### 3.멜론에 가온 start_date 붙이기"
   ]
  },
  {
   "cell_type": "code",
   "execution_count": 12,
   "metadata": {},
   "outputs": [],
   "source": [
    "def Add_startdate(df1, df2):\n",
    "    date_list = []\n",
    "    for i in range(len(df1)):\n",
    "\n",
    "        music = df1['music'].iloc[i]\n",
    "        singer = df1['singer'].iloc[i]\n",
    "\n",
    "        try:\n",
    "            start_date = df2['start_date'].loc[(df2['music']==music) & ((df2['singer']==singer)|(df2['singer bracket']==singer))].iloc[0]\n",
    "            date_list.append(start_date)\n",
    "        except:\n",
    "            date_list.append(np.NaN)\n",
    "\n",
    "    df1['start_date'] = date_list\n",
    "\n",
    "    return df1"
   ]
  },
  {
   "cell_type": "code",
   "execution_count": 13,
   "metadata": {},
   "outputs": [],
   "source": [
    "melon_df = Add_startdate(melon_df, gaon_df)"
   ]
  },
  {
   "cell_type": "code",
   "execution_count": 14,
   "metadata": {},
   "outputs": [
    {
     "data": {
      "text/plain": [
       "425"
      ]
     },
     "execution_count": 14,
     "metadata": {},
     "output_type": "execute_result"
    }
   ],
   "source": [
    "melon_df['start_date'].isnull().sum()"
   ]
  },
  {
   "attachments": {},
   "cell_type": "markdown",
   "metadata": {},
   "source": [
    "#### start,release로 7일이내 순위진입 T,F 뽑아서 컬럼"
   ]
  },
  {
   "cell_type": "code",
   "execution_count": 15,
   "metadata": {},
   "outputs": [],
   "source": [
    "# 날짜 datetime 형식으로 변환환\n",
    "melon_df['start_date'] = pd.to_datetime(melon_df['start_date'])\n",
    "melon_df['release_date'] = pd.to_datetime(melon_df['release_date'])\n",
    "\n",
    "# 7일 계산해서 calculate컬럼으로 추가\n",
    "melon_df['calculate'] = melon_df['release_date'] - melon_df['start_date']\n",
    "# 7일이내면 값 1, 아니면 0\n",
    "melon_df['within 7days'] =  abs(melon_df['calculate']) < pd.Timedelta(days=7)\n",
    "melon_df['within 7days'].replace({True:1, False:0}, inplace=True)\n",
    "\n",
    "# 쓸모없는 컬럼 삭제\n",
    "melon_df.drop(columns=['start_date', 'calculate'], inplace=True)"
   ]
  },
  {
   "attachments": {},
   "cell_type": "markdown",
   "metadata": {},
   "source": [
    "### 4.melon에 카테고리에서 국내드라마로 OST 컬럼 이진변수 만들기"
   ]
  },
  {
   "cell_type": "code",
   "execution_count": 16,
   "metadata": {},
   "outputs": [],
   "source": [
    "# ost컬럼 추가 + 카테고리에서 발라드,국내드라마에서 국내드라마는 삭제\n",
    "def Make_OST_column(df):\n",
    "    ost_list = []\n",
    "    category_list = []\n",
    "\n",
    "    for i in range(len(df)):\n",
    "        category = df['category'].iloc[i]\n",
    "        try:\n",
    "            a, b = category.split(', ')\n",
    "            if b == '국내드라마':\n",
    "                ost_list.append(1)\n",
    "                category_list.append(a)\n",
    "            else:\n",
    "                ost_list.append(0)\n",
    "                category_list.append(category)\n",
    "        except:\n",
    "            ost_list.append(0)\n",
    "            category_list.append(category)\n",
    "\n",
    "    df['ost'] = ost_list\n",
    "    df['category'] = category_list\n",
    "\n",
    "    return df"
   ]
  },
  {
   "cell_type": "code",
   "execution_count": 17,
   "metadata": {},
   "outputs": [],
   "source": [
    "melon_df = Make_OST_column(melon_df)"
   ]
  },
  {
   "cell_type": "code",
   "execution_count": 18,
   "metadata": {},
   "outputs": [
    {
     "data": {
      "text/plain": [
       "0    4447\n",
       "1     459\n",
       "Name: ost, dtype: int64"
      ]
     },
     "execution_count": 18,
     "metadata": {},
     "output_type": "execute_result"
    }
   ],
   "source": [
    "melon_df['ost'].value_counts()"
   ]
  },
  {
   "attachments": {},
   "cell_type": "markdown",
   "metadata": {},
   "source": [
    "### 5.가수 이름 word2vec \n"
   ]
  },
  {
   "cell_type": "code",
   "execution_count": 19,
   "metadata": {},
   "outputs": [],
   "source": [
    "from gensim.models.word2vec import Word2Vec"
   ]
  },
  {
   "cell_type": "code",
   "execution_count": 20,
   "metadata": {},
   "outputs": [],
   "source": [
    "m_singer_list = melon_df['singer'].tolist()"
   ]
  },
  {
   "cell_type": "code",
   "execution_count": 21,
   "metadata": {},
   "outputs": [],
   "source": [
    "#모델 불러오기\n",
    "#리스트인 melon_singer를 word2vec , mincount 1로 1개이상 값은 다 \n",
    "\n",
    "model = Word2Vec(sentences=[m_singer_list], min_count=1)\n",
    "\n",
    "singer_w2_dict = {}\n",
    "for singer in m_singer_list:\n",
    "    singer_w2_dict[singer] = model.wv[singer]\n"
   ]
  },
  {
   "attachments": {},
   "cell_type": "markdown",
   "metadata": {},
   "source": [
    "### 6.melon 카테고리에서 자른것들 원핫인코딩"
   ]
  },
  {
   "cell_type": "code",
   "execution_count": 22,
   "metadata": {},
   "outputs": [],
   "source": [
    "# # 카테고리 세분화 - 2개까지만\n",
    "# def Divide_category(df):\n",
    "#     cate_1 = []\n",
    "#     cate_2 = []\n",
    "\n",
    "\n",
    "#     for i in range(len(df)):\n",
    "#         category = df['category'].iloc[i]\n",
    "#         category_list = category.split(',')\n",
    "#         if len(category_list) == 1:\n",
    "#             cate_1.append(category_list[0])\n",
    "#             cate_2.append(np.NaN)\n",
    "#         elif len(category_list) >= 2:\n",
    "#             cate_1.append(category_list[0])\n",
    "#             cate_2.append(category_list[1])\n",
    "        \n",
    "#     df['category_1'] = cate_1\n",
    "#     df['category_2'] = cate_2\n",
    "\n",
    "#     return df\n",
    "\n",
    "# 카테고리 맨 앞꺼 빼고 삭제하는 함수\n",
    "def delete_category(df):\n",
    "    cate = []\n",
    "\n",
    "    for i in range(len(df)):\n",
    "        category = df['category'].iloc[i]\n",
    "        category_list = category.split(',')\n",
    "        cate.append(category_list[0])\n",
    "\n",
    "    df['category'] = cate\n",
    "\n",
    "    return df"
   ]
  },
  {
   "attachments": {},
   "cell_type": "markdown",
   "metadata": {},
   "source": [
    "#### 6-2 카테고리 원핫인코딩"
   ]
  },
  {
   "cell_type": "code",
   "execution_count": 23,
   "metadata": {},
   "outputs": [],
   "source": [
    "melon_df = delete_category(melon_df)"
   ]
  },
  {
   "cell_type": "code",
   "execution_count": 24,
   "metadata": {},
   "outputs": [
    {
     "data": {
      "text/html": [
       "<div>\n",
       "<style scoped>\n",
       "    .dataframe tbody tr th:only-of-type {\n",
       "        vertical-align: middle;\n",
       "    }\n",
       "\n",
       "    .dataframe tbody tr th {\n",
       "        vertical-align: top;\n",
       "    }\n",
       "\n",
       "    .dataframe thead th {\n",
       "        text-align: right;\n",
       "    }\n",
       "</style>\n",
       "<table border=\"1\" class=\"dataframe\">\n",
       "  <thead>\n",
       "    <tr style=\"text-align: right;\">\n",
       "      <th></th>\n",
       "      <th>category</th>\n",
       "    </tr>\n",
       "  </thead>\n",
       "  <tbody>\n",
       "    <tr>\n",
       "      <th>0</th>\n",
       "      <td>댄스</td>\n",
       "    </tr>\n",
       "    <tr>\n",
       "      <th>1</th>\n",
       "      <td>발라드</td>\n",
       "    </tr>\n",
       "    <tr>\n",
       "      <th>2</th>\n",
       "      <td>발라드</td>\n",
       "    </tr>\n",
       "    <tr>\n",
       "      <th>3</th>\n",
       "      <td>발라드</td>\n",
       "    </tr>\n",
       "    <tr>\n",
       "      <th>4</th>\n",
       "      <td>포크/블루스</td>\n",
       "    </tr>\n",
       "    <tr>\n",
       "      <th>...</th>\n",
       "      <td>...</td>\n",
       "    </tr>\n",
       "    <tr>\n",
       "      <th>4901</th>\n",
       "      <td>댄스</td>\n",
       "    </tr>\n",
       "    <tr>\n",
       "      <th>4902</th>\n",
       "      <td>발라드</td>\n",
       "    </tr>\n",
       "    <tr>\n",
       "      <th>4903</th>\n",
       "      <td>발라드</td>\n",
       "    </tr>\n",
       "    <tr>\n",
       "      <th>4904</th>\n",
       "      <td>댄스</td>\n",
       "    </tr>\n",
       "    <tr>\n",
       "      <th>4905</th>\n",
       "      <td>댄스</td>\n",
       "    </tr>\n",
       "  </tbody>\n",
       "</table>\n",
       "<p>4906 rows × 1 columns</p>\n",
       "</div>"
      ],
      "text/plain": [
       "     category\n",
       "0          댄스\n",
       "1         발라드\n",
       "2         발라드\n",
       "3         발라드\n",
       "4      포크/블루스\n",
       "...       ...\n",
       "4901       댄스\n",
       "4902      발라드\n",
       "4903      발라드\n",
       "4904       댄스\n",
       "4905       댄스\n",
       "\n",
       "[4906 rows x 1 columns]"
      ]
     },
     "execution_count": 24,
     "metadata": {},
     "output_type": "execute_result"
    }
   ],
   "source": [
    "melon_df[['category']]"
   ]
  },
  {
   "cell_type": "code",
   "execution_count": 25,
   "metadata": {},
   "outputs": [],
   "source": [
    "from sklearn.preprocessing import OneHotEncoder"
   ]
  },
  {
   "cell_type": "code",
   "execution_count": 26,
   "metadata": {},
   "outputs": [
    {
     "name": "stderr",
     "output_type": "stream",
     "text": [
      "c:\\Users\\bin\\anaconda3\\envs\\shinhanAI\\Lib\\site-packages\\sklearn\\preprocessing\\_encoders.py:868: FutureWarning: `sparse` was renamed to `sparse_output` in version 1.2 and will be removed in 1.4. `sparse_output` is ignored unless you leave `sparse` to its default value.\n",
      "  warnings.warn(\n"
     ]
    },
    {
     "data": {
      "text/plain": [
       "array([[0., 0., 0., ..., 0., 0., 0.],\n",
       "       [0., 0., 0., ..., 0., 0., 0.],\n",
       "       [0., 0., 0., ..., 0., 0., 0.],\n",
       "       ...,\n",
       "       [0., 0., 0., ..., 0., 0., 0.],\n",
       "       [0., 0., 0., ..., 0., 0., 0.],\n",
       "       [0., 0., 0., ..., 0., 0., 0.]])"
      ]
     },
     "execution_count": 26,
     "metadata": {},
     "output_type": "execute_result"
    }
   ],
   "source": [
    "ohe = OneHotEncoder(sparse=False)\n",
    "# fit_transform은 train에만 사용하고 test에는 학습된 인코더에 fit만 해야한다\n",
    "train_cat = ohe.fit_transform(melon_df[['category']])\n",
    "train_cat"
   ]
  },
  {
   "cell_type": "code",
   "execution_count": 29,
   "metadata": {},
   "outputs": [
    {
     "data": {
      "text/plain": [
       "array([0., 0., 0., 0., 0., 0., 0., 0., 0., 0., 0., 0., 1., 0., 0., 0., 0.,\n",
       "       0., 0., 0., 0.])"
      ]
     },
     "execution_count": 29,
     "metadata": {},
     "output_type": "execute_result"
    }
   ],
   "source": [
    "train_cat[1]"
   ]
  },
  {
   "cell_type": "code",
   "execution_count": null,
   "metadata": {},
   "outputs": [],
   "source": []
  }
 ],
 "metadata": {
  "kernelspec": {
   "display_name": "Python 3",
   "language": "python",
   "name": "python3"
  },
  "language_info": {
   "codemirror_mode": {
    "name": "ipython",
    "version": 3
   },
   "file_extension": ".py",
   "mimetype": "text/x-python",
   "name": "python",
   "nbconvert_exporter": "python",
   "pygments_lexer": "ipython3",
   "version": "3.11.3"
  },
  "orig_nbformat": 4
 },
 "nbformat": 4,
 "nbformat_minor": 2
}
